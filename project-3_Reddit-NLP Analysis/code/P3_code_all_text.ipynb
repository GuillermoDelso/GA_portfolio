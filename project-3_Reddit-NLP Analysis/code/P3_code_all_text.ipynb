{
 "cells": [
  {
   "cell_type": "markdown",
   "metadata": {},
   "source": [
    "# Project 3 part 2b"
   ]
  },
  {
   "cell_type": "markdown",
   "metadata": {},
   "source": [
    "## *Important Note*: In this notebook we will work with all the possible text extracted from each posts ( titles + text; even if they don't have any text)."
   ]
  },
  {
   "cell_type": "markdown",
   "metadata": {},
   "source": [
    "# The problem:\n",
    "**The saying goes like this: \"(There's) no such thing as a stupid question (only a stupid answer)\"** \n",
    "\n",
    "The Boston Institute of Linguistics (BIL) wants to obtain hard evidence on the extent to which this saying is true. While the underlying goal of this saying is to support the quest for knowledge (by getting rid of the fear to look 'not-smart' for asking questions), the BIL believes that there might be some linguistic truth in this saying. \n",
    "\n",
    "They want us to analyze whether there is much difference between the questions that obtain serious responses, and those that obtain 'bad-responses'. \n",
    "\n",
    "\n",
    "The BIL has asked us to look for 'subreddits' where the answers given to potentially normal questions are bad responses, and to compare them to the questions from another subreddit where the questions receive good/normal responses.\n"
   ]
  },
  {
   "cell_type": "markdown",
   "metadata": {},
   "source": [
    "<details><summary>Theory behind it</summary>\n",
    "\n",
    "> $H_0:$ There are good and bad questions. Good questions tend to receive good answers and bad questions tend to receive bad answers.\n",
    "\n",
    "> $H_A:$ Questions can be relatively similar , yet are still able to receive both good and bad answers.\n",
    "\n",
    "- If there is a big difference between the two, then it not disprove the null-hypothesis, since it might be that bad questions DO lead to bad responses. \n",
    "- On the other hand, if the questions are difficult to differentiate (questions that receive bad responses are similar to questions that receive good responses), then we prove the alternative hypothesis that 'there is not such a thing as a stupid question, only stupid answers'. \n",
    "</details>"
   ]
  },
  {
   "cell_type": "markdown",
   "metadata": {},
   "source": [
    "For this task we have chosen the subreddits of r/Advice and r/shittyadvice. In the former, the questions receive normal reponses, while in the later, the questions receive bad responses.\n",
    "We will contribute to BIL's study by responding the following questions:\n",
    "    - To what extent can we differentiate whether a post is from the r/Advice subreddit or from the r/shittysubreddit, by only looking at the post titles? \n",
    "    - How can we improve our predictions?"
   ]
  },
  {
   "cell_type": "markdown",
   "metadata": {},
   "source": [
    "For this project, the goal is two-fold:\n",
    "1. Using Reddit's API, we'll collect posts from the two aforementioned subreddits.\n",
    "2. We'll then use NLP to train a classifier on which subreddit a given post came from. This is a binary classification problem."
   ]
  },
  {
   "cell_type": "markdown",
   "metadata": {},
   "source": [
    "**In this Jupyter Notebook, we will focus on the *second* part of the project.**"
   ]
  },
  {
   "cell_type": "code",
   "execution_count": 7,
   "metadata": {},
   "outputs": [],
   "source": [
    "import pandas as pd\n",
    "import pandas as pd\n",
    "from sklearn.pipeline import Pipeline\n",
    "from sklearn.model_selection import train_test_split, GridSearchCV\n",
    "from sklearn.linear_model import LogisticRegression\n",
    "import matplotlib.pyplot as plt\n",
    "import seaborn as sns\n",
    "from sklearn.tree import DecisionTreeClassifier"
   ]
  },
  {
   "cell_type": "markdown",
   "metadata": {},
   "source": [
    "## Read the data:\n",
    "First we need to read the dataframe we created in the part 1 of the project"
   ]
  },
  {
   "cell_type": "code",
   "execution_count": 8,
   "metadata": {},
   "outputs": [],
   "source": [
    "data = pd.read_csv('../data (gathered)/project3.csv', encoding = 'ISO-8859-1')"
   ]
  },
  {
   "cell_type": "code",
   "execution_count": 9,
   "metadata": {},
   "outputs": [
    {
     "data": {
      "text/html": [
       "<div>\n",
       "<style scoped>\n",
       "    .dataframe tbody tr th:only-of-type {\n",
       "        vertical-align: middle;\n",
       "    }\n",
       "\n",
       "    .dataframe tbody tr th {\n",
       "        vertical-align: top;\n",
       "    }\n",
       "\n",
       "    .dataframe thead th {\n",
       "        text-align: right;\n",
       "    }\n",
       "</style>\n",
       "<table border=\"1\" class=\"dataframe\">\n",
       "  <thead>\n",
       "    <tr style=\"text-align: right;\">\n",
       "      <th></th>\n",
       "      <th>Unnamed: 0</th>\n",
       "      <th>titles</th>\n",
       "      <th>text</th>\n",
       "      <th>subreddit type</th>\n",
       "    </tr>\n",
       "  </thead>\n",
       "  <tbody>\n",
       "    <tr>\n",
       "      <td>0</td>\n",
       "      <td>5097</td>\n",
       "      <td>Hey it's 9/11, so what kinds of sales and door...</td>\n",
       "      <td>NaN</td>\n",
       "      <td>0</td>\n",
       "    </tr>\n",
       "    <tr>\n",
       "      <td>1</td>\n",
       "      <td>5310</td>\n",
       "      <td>I think the ghost haunting my house is into me...</td>\n",
       "      <td>NaN</td>\n",
       "      <td>0</td>\n",
       "    </tr>\n",
       "    <tr>\n",
       "      <td>2</td>\n",
       "      <td>957</td>\n",
       "      <td>I have feelings for someone I met online. I do...</td>\n",
       "      <td>I haven't had feelings for anyone in years, le...</td>\n",
       "      <td>1</td>\n",
       "    </tr>\n",
       "    <tr>\n",
       "      <td>3</td>\n",
       "      <td>306</td>\n",
       "      <td>Is this kids hair color black or brown?</td>\n",
       "      <td>Tell me reddit, black or brown?\\n\\nhttps://med...</td>\n",
       "      <td>1</td>\n",
       "    </tr>\n",
       "    <tr>\n",
       "      <td>4</td>\n",
       "      <td>5088</td>\n",
       "      <td>Im gonna keep this post simple</td>\n",
       "      <td>Alright guys, how would one go about getting f...</td>\n",
       "      <td>0</td>\n",
       "    </tr>\n",
       "  </tbody>\n",
       "</table>\n",
       "</div>"
      ],
      "text/plain": [
       "   Unnamed: 0                                             titles  \\\n",
       "0        5097  Hey it's 9/11, so what kinds of sales and door...   \n",
       "1        5310  I think the ghost haunting my house is into me...   \n",
       "2         957  I have feelings for someone I met online. I do...   \n",
       "3         306            Is this kids hair color black or brown?   \n",
       "4        5088                     Im gonna keep this post simple   \n",
       "\n",
       "                                                text  subreddit type  \n",
       "0                                                NaN               0  \n",
       "1                                                NaN               0  \n",
       "2  I haven't had feelings for anyone in years, le...               1  \n",
       "3  Tell me reddit, black or brown?\\n\\nhttps://med...               1  \n",
       "4  Alright guys, how would one go about getting f...               0  "
      ]
     },
     "execution_count": 9,
     "metadata": {},
     "output_type": "execute_result"
    }
   ],
   "source": [
    "# We take a look at the 'head' and 'tail' of the dataframe to see what is made of.\n",
    "data.head()"
   ]
  },
  {
   "cell_type": "code",
   "execution_count": 10,
   "metadata": {},
   "outputs": [
    {
     "data": {
      "text/html": [
       "<div>\n",
       "<style scoped>\n",
       "    .dataframe tbody tr th:only-of-type {\n",
       "        vertical-align: middle;\n",
       "    }\n",
       "\n",
       "    .dataframe tbody tr th {\n",
       "        vertical-align: top;\n",
       "    }\n",
       "\n",
       "    .dataframe thead th {\n",
       "        text-align: right;\n",
       "    }\n",
       "</style>\n",
       "<table border=\"1\" class=\"dataframe\">\n",
       "  <thead>\n",
       "    <tr style=\"text-align: right;\">\n",
       "      <th></th>\n",
       "      <th>Unnamed: 0</th>\n",
       "      <th>titles</th>\n",
       "      <th>text</th>\n",
       "      <th>subreddit type</th>\n",
       "    </tr>\n",
       "  </thead>\n",
       "  <tbody>\n",
       "    <tr>\n",
       "      <td>1944</td>\n",
       "      <td>529</td>\n",
       "      <td>Does my Username sound like follow the christi...</td>\n",
       "      <td>NaN</td>\n",
       "      <td>1</td>\n",
       "    </tr>\n",
       "    <tr>\n",
       "      <td>1945</td>\n",
       "      <td>5950</td>\n",
       "      <td>Swiped right on my cousin who is married.</td>\n",
       "      <td>Was drunk and she's hot, think I have a chance?</td>\n",
       "      <td>0</td>\n",
       "    </tr>\n",
       "    <tr>\n",
       "      <td>1946</td>\n",
       "      <td>297</td>\n",
       "      <td>Any advice on tickling myself in my sleep ?</td>\n",
       "      <td>Iâve been told and do have videos of my tick...</td>\n",
       "      <td>1</td>\n",
       "    </tr>\n",
       "    <tr>\n",
       "      <td>1947</td>\n",
       "      <td>726</td>\n",
       "      <td>Wife (34f) whose husband (35m) told her she is...</td>\n",
       "      <td>My husband and I have been married for 11 year...</td>\n",
       "      <td>1</td>\n",
       "    </tr>\n",
       "    <tr>\n",
       "      <td>1948</td>\n",
       "      <td>692</td>\n",
       "      <td>Is it weird that I dry and not wash my clothes?</td>\n",
       "      <td>So I usually do all my laundry every weekend, ...</td>\n",
       "      <td>1</td>\n",
       "    </tr>\n",
       "  </tbody>\n",
       "</table>\n",
       "</div>"
      ],
      "text/plain": [
       "      Unnamed: 0                                             titles  \\\n",
       "1944         529  Does my Username sound like follow the christi...   \n",
       "1945        5950          Swiped right on my cousin who is married.   \n",
       "1946         297        Any advice on tickling myself in my sleep ?   \n",
       "1947         726  Wife (34f) whose husband (35m) told her she is...   \n",
       "1948         692    Is it weird that I dry and not wash my clothes?   \n",
       "\n",
       "                                                   text  subreddit type  \n",
       "1944                                                NaN               1  \n",
       "1945    Was drunk and she's hot, think I have a chance?               0  \n",
       "1946  Iâve been told and do have videos of my tick...               1  \n",
       "1947  My husband and I have been married for 11 year...               1  \n",
       "1948  So I usually do all my laundry every weekend, ...               1  "
      ]
     },
     "execution_count": 10,
     "metadata": {},
     "output_type": "execute_result"
    }
   ],
   "source": [
    "data.tail()"
   ]
  },
  {
   "cell_type": "code",
   "execution_count": 11,
   "metadata": {},
   "outputs": [
    {
     "data": {
      "text/plain": [
       "0    991\n",
       "1    958\n",
       "Name: subreddit type, dtype: int64"
      ]
     },
     "execution_count": 11,
     "metadata": {},
     "output_type": "execute_result"
    }
   ],
   "source": [
    "# We also check (again) that we have sufficient data from both of the subreddits.\n",
    "data['subreddit type'].value_counts()"
   ]
  },
  {
   "cell_type": "markdown",
   "metadata": {},
   "source": [
    "**Comment:** we can see that we do not have unbalanced data, which is a good thing."
   ]
  },
  {
   "cell_type": "code",
   "execution_count": 12,
   "metadata": {},
   "outputs": [
    {
     "data": {
      "text/plain": [
       "(1949, 4)"
      ]
     },
     "execution_count": 12,
     "metadata": {},
     "output_type": "execute_result"
    }
   ],
   "source": [
    "# Looking at the data shape we notice that we have one more column than we had in part 1 (the previous Jupyter notebook)\n",
    "data.shape"
   ]
  },
  {
   "cell_type": "markdown",
   "metadata": {},
   "source": [
    "### Dropping missing values\n",
    "We look at the missing values we have and decide whether to drop them or not."
   ]
  },
  {
   "cell_type": "code",
   "execution_count": 13,
   "metadata": {},
   "outputs": [
    {
     "data": {
      "text/plain": [
       "Unnamed: 0          0\n",
       "titles              0\n",
       "text              715\n",
       "subreddit type      0\n",
       "dtype: int64"
      ]
     },
     "execution_count": 13,
     "metadata": {},
     "output_type": "execute_result"
    }
   ],
   "source": [
    "data.isnull().sum()"
   ]
  },
  {
   "cell_type": "markdown",
   "metadata": {},
   "source": [
    "**Comment:** We notice that there are 715 rows that are missing the text.\n",
    "Dropping them would mean loosing almost half of our data. Moreover, the missing text comes mostly from the second subreddit (shittyadvice). Dropping all the text values would make our model unbalanced. \n",
    "Since we are focusing on the titles for our X values, we decide to not drop the rows."
   ]
  },
  {
   "cell_type": "code",
   "execution_count": 14,
   "metadata": {},
   "outputs": [],
   "source": [
    "# First, we created a model without the rows that had missing values, but this model was worse than the others.\n",
    "#data.dropna(inplace=True)"
   ]
  },
  {
   "cell_type": "markdown",
   "metadata": {},
   "source": [
    "### Dropping unnecessary columns:\n",
    "We proceed to drop the unnecessary columns (e.g. 'Unnamed: 0')"
   ]
  },
  {
   "cell_type": "code",
   "execution_count": 15,
   "metadata": {},
   "outputs": [],
   "source": [
    "data.drop('Unnamed: 0', axis=1, inplace=True)"
   ]
  },
  {
   "cell_type": "code",
   "execution_count": 16,
   "metadata": {
    "scrolled": true
   },
   "outputs": [
    {
     "data": {
      "text/html": [
       "<div>\n",
       "<style scoped>\n",
       "    .dataframe tbody tr th:only-of-type {\n",
       "        vertical-align: middle;\n",
       "    }\n",
       "\n",
       "    .dataframe tbody tr th {\n",
       "        vertical-align: top;\n",
       "    }\n",
       "\n",
       "    .dataframe thead th {\n",
       "        text-align: right;\n",
       "    }\n",
       "</style>\n",
       "<table border=\"1\" class=\"dataframe\">\n",
       "  <thead>\n",
       "    <tr style=\"text-align: right;\">\n",
       "      <th></th>\n",
       "      <th>titles</th>\n",
       "      <th>text</th>\n",
       "      <th>subreddit type</th>\n",
       "    </tr>\n",
       "  </thead>\n",
       "  <tbody>\n",
       "    <tr>\n",
       "      <td>0</td>\n",
       "      <td>Hey it's 9/11, so what kinds of sales and door...</td>\n",
       "      <td>NaN</td>\n",
       "      <td>0</td>\n",
       "    </tr>\n",
       "    <tr>\n",
       "      <td>1</td>\n",
       "      <td>I think the ghost haunting my house is into me...</td>\n",
       "      <td>NaN</td>\n",
       "      <td>0</td>\n",
       "    </tr>\n",
       "    <tr>\n",
       "      <td>2</td>\n",
       "      <td>I have feelings for someone I met online. I do...</td>\n",
       "      <td>I haven't had feelings for anyone in years, le...</td>\n",
       "      <td>1</td>\n",
       "    </tr>\n",
       "    <tr>\n",
       "      <td>3</td>\n",
       "      <td>Is this kids hair color black or brown?</td>\n",
       "      <td>Tell me reddit, black or brown?\\n\\nhttps://med...</td>\n",
       "      <td>1</td>\n",
       "    </tr>\n",
       "    <tr>\n",
       "      <td>4</td>\n",
       "      <td>Im gonna keep this post simple</td>\n",
       "      <td>Alright guys, how would one go about getting f...</td>\n",
       "      <td>0</td>\n",
       "    </tr>\n",
       "  </tbody>\n",
       "</table>\n",
       "</div>"
      ],
      "text/plain": [
       "                                              titles  \\\n",
       "0  Hey it's 9/11, so what kinds of sales and door...   \n",
       "1  I think the ghost haunting my house is into me...   \n",
       "2  I have feelings for someone I met online. I do...   \n",
       "3            Is this kids hair color black or brown?   \n",
       "4                     Im gonna keep this post simple   \n",
       "\n",
       "                                                text  subreddit type  \n",
       "0                                                NaN               0  \n",
       "1                                                NaN               0  \n",
       "2  I haven't had feelings for anyone in years, le...               1  \n",
       "3  Tell me reddit, black or brown?\\n\\nhttps://med...               1  \n",
       "4  Alright guys, how would one go about getting f...               0  "
      ]
     },
     "execution_count": 16,
     "metadata": {},
     "output_type": "execute_result"
    }
   ],
   "source": [
    "data.head()"
   ]
  },
  {
   "cell_type": "code",
   "execution_count": 17,
   "metadata": {},
   "outputs": [
    {
     "data": {
      "text/plain": [
       "(1949, 3)"
      ]
     },
     "execution_count": 17,
     "metadata": {},
     "output_type": "execute_result"
    }
   ],
   "source": [
    "# We check to see whether the shape is the same as in part 1 of the project (1949,3)\n",
    "data.shape"
   ]
  },
  {
   "cell_type": "markdown",
   "metadata": {},
   "source": [
    "# Creating a new column with ALL the text (titles + text)"
   ]
  },
  {
   "cell_type": "code",
   "execution_count": 18,
   "metadata": {},
   "outputs": [],
   "source": [
    "data['all_text']= data['titles'] + ' ' + data['text'].map(str)"
   ]
  },
  {
   "cell_type": "code",
   "execution_count": 19,
   "metadata": {},
   "outputs": [
    {
     "data": {
      "text/html": [
       "<div>\n",
       "<style scoped>\n",
       "    .dataframe tbody tr th:only-of-type {\n",
       "        vertical-align: middle;\n",
       "    }\n",
       "\n",
       "    .dataframe tbody tr th {\n",
       "        vertical-align: top;\n",
       "    }\n",
       "\n",
       "    .dataframe thead th {\n",
       "        text-align: right;\n",
       "    }\n",
       "</style>\n",
       "<table border=\"1\" class=\"dataframe\">\n",
       "  <thead>\n",
       "    <tr style=\"text-align: right;\">\n",
       "      <th></th>\n",
       "      <th>titles</th>\n",
       "      <th>text</th>\n",
       "      <th>subreddit type</th>\n",
       "      <th>all_text</th>\n",
       "    </tr>\n",
       "  </thead>\n",
       "  <tbody>\n",
       "    <tr>\n",
       "      <td>0</td>\n",
       "      <td>Hey it's 9/11, so what kinds of sales and door...</td>\n",
       "      <td>NaN</td>\n",
       "      <td>0</td>\n",
       "      <td>Hey it's 9/11, so what kinds of sales and door...</td>\n",
       "    </tr>\n",
       "    <tr>\n",
       "      <td>1</td>\n",
       "      <td>I think the ghost haunting my house is into me...</td>\n",
       "      <td>NaN</td>\n",
       "      <td>0</td>\n",
       "      <td>I think the ghost haunting my house is into me...</td>\n",
       "    </tr>\n",
       "    <tr>\n",
       "      <td>2</td>\n",
       "      <td>I have feelings for someone I met online. I do...</td>\n",
       "      <td>I haven't had feelings for anyone in years, le...</td>\n",
       "      <td>1</td>\n",
       "      <td>I have feelings for someone I met online. I do...</td>\n",
       "    </tr>\n",
       "    <tr>\n",
       "      <td>3</td>\n",
       "      <td>Is this kids hair color black or brown?</td>\n",
       "      <td>Tell me reddit, black or brown?\\n\\nhttps://med...</td>\n",
       "      <td>1</td>\n",
       "      <td>Is this kids hair color black or brown? Tell m...</td>\n",
       "    </tr>\n",
       "    <tr>\n",
       "      <td>4</td>\n",
       "      <td>Im gonna keep this post simple</td>\n",
       "      <td>Alright guys, how would one go about getting f...</td>\n",
       "      <td>0</td>\n",
       "      <td>Im gonna keep this post simple Alright guys, h...</td>\n",
       "    </tr>\n",
       "    <tr>\n",
       "      <td>...</td>\n",
       "      <td>...</td>\n",
       "      <td>...</td>\n",
       "      <td>...</td>\n",
       "      <td>...</td>\n",
       "    </tr>\n",
       "    <tr>\n",
       "      <td>1944</td>\n",
       "      <td>Does my Username sound like follow the christi...</td>\n",
       "      <td>NaN</td>\n",
       "      <td>1</td>\n",
       "      <td>Does my Username sound like follow the christi...</td>\n",
       "    </tr>\n",
       "    <tr>\n",
       "      <td>1945</td>\n",
       "      <td>Swiped right on my cousin who is married.</td>\n",
       "      <td>Was drunk and she's hot, think I have a chance?</td>\n",
       "      <td>0</td>\n",
       "      <td>Swiped right on my cousin who is married. Was ...</td>\n",
       "    </tr>\n",
       "    <tr>\n",
       "      <td>1946</td>\n",
       "      <td>Any advice on tickling myself in my sleep ?</td>\n",
       "      <td>Iâve been told and do have videos of my tick...</td>\n",
       "      <td>1</td>\n",
       "      <td>Any advice on tickling myself in my sleep ? Iâ...</td>\n",
       "    </tr>\n",
       "    <tr>\n",
       "      <td>1947</td>\n",
       "      <td>Wife (34f) whose husband (35m) told her she is...</td>\n",
       "      <td>My husband and I have been married for 11 year...</td>\n",
       "      <td>1</td>\n",
       "      <td>Wife (34f) whose husband (35m) told her she is...</td>\n",
       "    </tr>\n",
       "    <tr>\n",
       "      <td>1948</td>\n",
       "      <td>Is it weird that I dry and not wash my clothes?</td>\n",
       "      <td>So I usually do all my laundry every weekend, ...</td>\n",
       "      <td>1</td>\n",
       "      <td>Is it weird that I dry and not wash my clothes...</td>\n",
       "    </tr>\n",
       "  </tbody>\n",
       "</table>\n",
       "<p>1949 rows × 4 columns</p>\n",
       "</div>"
      ],
      "text/plain": [
       "                                                 titles  \\\n",
       "0     Hey it's 9/11, so what kinds of sales and door...   \n",
       "1     I think the ghost haunting my house is into me...   \n",
       "2     I have feelings for someone I met online. I do...   \n",
       "3               Is this kids hair color black or brown?   \n",
       "4                        Im gonna keep this post simple   \n",
       "...                                                 ...   \n",
       "1944  Does my Username sound like follow the christi...   \n",
       "1945          Swiped right on my cousin who is married.   \n",
       "1946        Any advice on tickling myself in my sleep ?   \n",
       "1947  Wife (34f) whose husband (35m) told her she is...   \n",
       "1948    Is it weird that I dry and not wash my clothes?   \n",
       "\n",
       "                                                   text  subreddit type  \\\n",
       "0                                                   NaN               0   \n",
       "1                                                   NaN               0   \n",
       "2     I haven't had feelings for anyone in years, le...               1   \n",
       "3     Tell me reddit, black or brown?\\n\\nhttps://med...               1   \n",
       "4     Alright guys, how would one go about getting f...               0   \n",
       "...                                                 ...             ...   \n",
       "1944                                                NaN               1   \n",
       "1945    Was drunk and she's hot, think I have a chance?               0   \n",
       "1946  Iâve been told and do have videos of my tick...               1   \n",
       "1947  My husband and I have been married for 11 year...               1   \n",
       "1948  So I usually do all my laundry every weekend, ...               1   \n",
       "\n",
       "                                               all_text  \n",
       "0     Hey it's 9/11, so what kinds of sales and door...  \n",
       "1     I think the ghost haunting my house is into me...  \n",
       "2     I have feelings for someone I met online. I do...  \n",
       "3     Is this kids hair color black or brown? Tell m...  \n",
       "4     Im gonna keep this post simple Alright guys, h...  \n",
       "...                                                 ...  \n",
       "1944  Does my Username sound like follow the christi...  \n",
       "1945  Swiped right on my cousin who is married. Was ...  \n",
       "1946  Any advice on tickling myself in my sleep ? Iâ...  \n",
       "1947  Wife (34f) whose husband (35m) told her she is...  \n",
       "1948  Is it weird that I dry and not wash my clothes...  \n",
       "\n",
       "[1949 rows x 4 columns]"
      ]
     },
     "execution_count": 19,
     "metadata": {},
     "output_type": "execute_result"
    }
   ],
   "source": [
    "data"
   ]
  },
  {
   "cell_type": "code",
   "execution_count": 20,
   "metadata": {},
   "outputs": [
    {
     "data": {
      "text/plain": [
       "0    Hey it's 9/11, so what kinds of sales and door...\n",
       "1    I think the ghost haunting my house is into me...\n",
       "2    I have feelings for someone I met online. I do...\n",
       "3    Is this kids hair color black or brown? Tell m...\n",
       "4    Im gonna keep this post simple Alright guys, h...\n",
       "Name: all_text, dtype: object"
      ]
     },
     "execution_count": 20,
     "metadata": {},
     "output_type": "execute_result"
    }
   ],
   "source": [
    "data['all_text'].head()"
   ]
  },
  {
   "cell_type": "code",
   "execution_count": 21,
   "metadata": {},
   "outputs": [
    {
     "data": {
      "text/plain": [
       "titles            object\n",
       "text              object\n",
       "subreddit type     int64\n",
       "all_text          object\n",
       "dtype: object"
      ]
     },
     "execution_count": 21,
     "metadata": {},
     "output_type": "execute_result"
    }
   ],
   "source": [
    "data.dtypes"
   ]
  },
  {
   "cell_type": "code",
   "execution_count": 22,
   "metadata": {},
   "outputs": [
    {
     "data": {
      "text/plain": [
       "titles              0\n",
       "text              715\n",
       "subreddit type      0\n",
       "all_text            0\n",
       "dtype: int64"
      ]
     },
     "execution_count": 22,
     "metadata": {},
     "output_type": "execute_result"
    }
   ],
   "source": [
    "data.isnull().sum()"
   ]
  },
  {
   "cell_type": "markdown",
   "metadata": {},
   "source": [
    "# EDA\n",
    "We proceed to the EDA"
   ]
  },
  {
   "cell_type": "markdown",
   "metadata": {},
   "source": [
    "- We will be taking the 'titles' as our X variable (since it has no missing values.\n",
    "- We will be using the 'subreddit type' column as our y variable. "
   ]
  },
  {
   "cell_type": "code",
   "execution_count": 23,
   "metadata": {},
   "outputs": [],
   "source": [
    "X = data['all_text']\n",
    "y = data['subreddit type']"
   ]
  },
  {
   "cell_type": "code",
   "execution_count": 24,
   "metadata": {
    "scrolled": true
   },
   "outputs": [
    {
     "data": {
      "text/plain": [
       "0    991\n",
       "1    958\n",
       "Name: subreddit type, dtype: int64"
      ]
     },
     "execution_count": 24,
     "metadata": {},
     "output_type": "execute_result"
    }
   ],
   "source": [
    "y.value_counts()"
   ]
  },
  {
   "cell_type": "code",
   "execution_count": 25,
   "metadata": {},
   "outputs": [
    {
     "data": {
      "text/plain": [
       "0    0.508466\n",
       "1    0.491534\n",
       "Name: subreddit type, dtype: float64"
      ]
     },
     "execution_count": 25,
     "metadata": {},
     "output_type": "execute_result"
    }
   ],
   "source": [
    "y.value_counts(normalize=True)"
   ]
  },
  {
   "cell_type": "code",
   "execution_count": 26,
   "metadata": {
    "scrolled": true
   },
   "outputs": [
    {
     "data": {
      "image/png": "[encoded data removed]",
      "text/plain": [
       "<Figure size 1800x720 with 1 Axes>"
      ]
     },
     "metadata": {},
     "output_type": "display_data"
    }
   ],
   "source": [
    "plt.figure(figsize=(25, 10))\n",
    "labels=['ShittyAdvice', 'Advice']\n",
    "plt.pie(y.value_counts(normalize=True), labels=labels,  autopct='%1.0f%%');"
   ]
  },
  {
   "cell_type": "code",
   "execution_count": 27,
   "metadata": {},
   "outputs": [
    {
     "data": {
      "text/plain": [
       "(1949,)"
      ]
     },
     "execution_count": 27,
     "metadata": {},
     "output_type": "execute_result"
    }
   ],
   "source": [
    "y.shape"
   ]
  },
  {
   "cell_type": "markdown",
   "metadata": {},
   "source": [
    "We look at the distribution of lenght of titles to see how long are they on average and whether there is a skew."
   ]
  },
  {
   "cell_type": "code",
   "execution_count": 28,
   "metadata": {},
   "outputs": [],
   "source": [
    "len_status = [len(s) for s in X]"
   ]
  },
  {
   "cell_type": "code",
   "execution_count": 29,
   "metadata": {},
   "outputs": [],
   "source": [
    "import matplotlib.pyplot as plt"
   ]
  },
  {
   "cell_type": "code",
   "execution_count": 30,
   "metadata": {},
   "outputs": [
    {
     "data": {
      "text/plain": [
       "(array([1675.,  187.,   54.,    9.,    9.,    3.,    3.,    4.,    3.,\n",
       "           2.]),\n",
       " array([   15. ,  1343.5,  2672. ,  4000.5,  5329. ,  6657.5,  7986. ,\n",
       "         9314.5, 10643. , 11971.5, 13300. ]),\n",
       " <a list of 10 Patch objects>)"
      ]
     },
     "execution_count": 30,
     "metadata": {},
     "output_type": "execute_result"
    },
    {
     "data": {
      "image/png": "[encoded data removed]",
      "text/plain": [
       "<Figure size 432x288 with 1 Axes>"
      ]
     },
     "metadata": {
      "needs_background": "light"
     },
     "output_type": "display_data"
    }
   ],
   "source": [
    "plt.hist(len_status)"
   ]
  },
  {
   "cell_type": "code",
   "execution_count": 31,
   "metadata": {},
   "outputs": [
    {
     "data": {
      "text/plain": [
       "<matplotlib.axes._subplots.AxesSubplot at 0x1a29b8bb70>"
      ]
     },
     "execution_count": 31,
     "metadata": {},
     "output_type": "execute_result"
    },
    {
     "data": {
      "image/png": "[encoded data removed]",
      "text/plain": [
       "<Figure size 1440x432 with 1 Axes>"
      ]
     },
     "metadata": {
      "needs_background": "light"
     },
     "output_type": "display_data"
    }
   ],
   "source": [
    "plt.figure(figsize=(20, 6))\n",
    "sns.distplot(len_status)"
   ]
  },
  {
   "cell_type": "code",
   "execution_count": 32,
   "metadata": {
    "scrolled": true
   },
   "outputs": [
    {
     "data": {
      "text/plain": [
       "(array([1.466e+03, 2.820e+02, 9.900e+01, 5.000e+01, 2.100e+01, 3.000e+00,\n",
       "        6.000e+00, 5.000e+00, 3.000e+00, 2.000e+00, 2.000e+00, 2.000e+00,\n",
       "        3.000e+00, 2.000e+00, 0.000e+00, 1.000e+00, 1.000e+00, 0.000e+00,\n",
       "        0.000e+00, 0.000e+00, 0.000e+00, 0.000e+00, 0.000e+00, 0.000e+00,\n",
       "        0.000e+00, 0.000e+00, 0.000e+00, 0.000e+00, 0.000e+00, 0.000e+00,\n",
       "        0.000e+00, 0.000e+00, 0.000e+00, 0.000e+00, 0.000e+00, 0.000e+00,\n",
       "        0.000e+00, 0.000e+00, 0.000e+00, 0.000e+00, 0.000e+00, 0.000e+00,\n",
       "        0.000e+00, 0.000e+00, 0.000e+00, 0.000e+00, 0.000e+00, 0.000e+00,\n",
       "        0.000e+00, 1.000e+00]),\n",
       " array([3.00000e+00, 1.58020e+02, 3.13040e+02, 4.68060e+02, 6.23080e+02,\n",
       "        7.78100e+02, 9.33120e+02, 1.08814e+03, 1.24316e+03, 1.39818e+03,\n",
       "        1.55320e+03, 1.70822e+03, 1.86324e+03, 2.01826e+03, 2.17328e+03,\n",
       "        2.32830e+03, 2.48332e+03, 2.63834e+03, 2.79336e+03, 2.94838e+03,\n",
       "        3.10340e+03, 3.25842e+03, 3.41344e+03, 3.56846e+03, 3.72348e+03,\n",
       "        3.87850e+03, 4.03352e+03, 4.18854e+03, 4.34356e+03, 4.49858e+03,\n",
       "        4.65360e+03, 4.80862e+03, 4.96364e+03, 5.11866e+03, 5.27368e+03,\n",
       "        5.42870e+03, 5.58372e+03, 5.73874e+03, 5.89376e+03, 6.04878e+03,\n",
       "        6.20380e+03, 6.35882e+03, 6.51384e+03, 6.66886e+03, 6.82388e+03,\n",
       "        6.97890e+03, 7.13392e+03, 7.28894e+03, 7.44396e+03, 7.59898e+03,\n",
       "        7.75400e+03]),\n",
       " <a list of 50 Patch objects>)"
      ]
     },
     "execution_count": 32,
     "metadata": {},
     "output_type": "execute_result"
    },
    {
     "data": {
      "image/png": "[encoded data removed]",
      "text/plain": [
       "<Figure size 432x288 with 1 Axes>"
      ]
     },
     "metadata": {
      "needs_background": "light"
     },
     "output_type": "display_data"
    }
   ],
   "source": [
    "num_words= [len(s.split(' ')) for s in X]\n",
    "plt.hist(num_words, bins=50)"
   ]
  },
  {
   "cell_type": "code",
   "execution_count": 33,
   "metadata": {},
   "outputs": [
    {
     "data": {
      "text/plain": [
       "<matplotlib.axes._subplots.AxesSubplot at 0x1a29da2b70>"
      ]
     },
     "execution_count": 33,
     "metadata": {},
     "output_type": "execute_result"
    },
    {
     "data": {
      "image/png": "[encoded data removed]",
      "text/plain": [
       "<Figure size 1440x432 with 1 Axes>"
      ]
     },
     "metadata": {
      "needs_background": "light"
     },
     "output_type": "display_data"
    }
   ],
   "source": [
    "plt.figure(figsize=(20, 6))\n",
    "sns.distplot(num_words)"
   ]
  },
  {
   "cell_type": "markdown",
   "metadata": {},
   "source": [
    "There seems to be a bit of a right skew.\n",
    "- In other words, some titles are very long.\n",
    "    - The explanation for this is that some titles explain the whole situation, while others use the text to explain the situation."
   ]
  },
  {
   "cell_type": "markdown",
   "metadata": {},
   "source": [
    "# Cvec and Tvec Log vs Cvec and Tvec Bernoulli"
   ]
  },
  {
   "cell_type": "code",
   "execution_count": 34,
   "metadata": {},
   "outputs": [],
   "source": [
    "from sklearn.feature_extraction.text import CountVectorizer, TfidfVectorizer"
   ]
  },
  {
   "cell_type": "markdown",
   "metadata": {},
   "source": [
    "## Base values (to check whether our models improve them)"
   ]
  },
  {
   "cell_type": "code",
   "execution_count": 35,
   "metadata": {},
   "outputs": [],
   "source": [
    "X_train, X_test, y_train, y_test = train_test_split(X,\n",
    "                                                    y,\n",
    "                                                    test_size=0.33,\n",
    "                                                    stratify=y,\n",
    "                                                    random_state=42)"
   ]
  },
  {
   "cell_type": "code",
   "execution_count": 36,
   "metadata": {},
   "outputs": [
    {
     "data": {
      "text/plain": [
       "0    0.508812\n",
       "1    0.491188\n",
       "Name: subreddit type, dtype: float64"
      ]
     },
     "execution_count": 36,
     "metadata": {},
     "output_type": "execute_result"
    }
   ],
   "source": [
    "y_train.value_counts(normalize=True)"
   ]
  },
  {
   "cell_type": "code",
   "execution_count": 37,
   "metadata": {},
   "outputs": [
    {
     "data": {
      "text/plain": [
       "0    0.507764\n",
       "1    0.492236\n",
       "Name: subreddit type, dtype: float64"
      ]
     },
     "execution_count": 37,
     "metadata": {},
     "output_type": "execute_result"
    }
   ],
   "source": [
    "y_test.value_counts(normalize=True)"
   ]
  },
  {
   "cell_type": "code",
   "execution_count": 38,
   "metadata": {},
   "outputs": [],
   "source": [
    "train_base = 0.490847\n",
    "test_base = 0.491879"
   ]
  },
  {
   "cell_type": "markdown",
   "metadata": {},
   "source": [
    "## Fitting Cvec"
   ]
  },
  {
   "cell_type": "code",
   "execution_count": 39,
   "metadata": {},
   "outputs": [],
   "source": [
    "cvec = CountVectorizer(stop_words='english')"
   ]
  },
  {
   "cell_type": "code",
   "execution_count": 40,
   "metadata": {},
   "outputs": [],
   "source": [
    "X_train_cvec = cvec.fit_transform(X_train)"
   ]
  },
  {
   "cell_type": "code",
   "execution_count": 41,
   "metadata": {},
   "outputs": [],
   "source": [
    "X_test_cvec = cvec.transform(X_test)"
   ]
  },
  {
   "cell_type": "code",
   "execution_count": 42,
   "metadata": {},
   "outputs": [
    {
     "data": {
      "text/plain": [
       "0    0.507764\n",
       "1    0.492236\n",
       "Name: subreddit type, dtype: float64"
      ]
     },
     "execution_count": 42,
     "metadata": {},
     "output_type": "execute_result"
    }
   ],
   "source": [
    "y_test.value_counts(normalize=True) "
   ]
  },
  {
   "cell_type": "code",
   "execution_count": 43,
   "metadata": {},
   "outputs": [
    {
     "name": "stdout",
     "output_type": "stream",
     "text": [
      "Training Score: 0.9877394636015325\n",
      "Testing Score: 0.8835403726708074\n"
     ]
    },
    {
     "name": "stderr",
     "output_type": "stream",
     "text": [
      "//anaconda3/lib/python3.7/site-packages/sklearn/linear_model/logistic.py:432: FutureWarning: Default solver will be changed to 'lbfgs' in 0.22. Specify a solver to silence this warning.\n",
      "  FutureWarning)\n"
     ]
    }
   ],
   "source": [
    "# Instantiate logistic regression.\n",
    "lr = LogisticRegression()\n",
    "\n",
    "# Fit logistic regression.\n",
    "lr.fit(X_train_cvec, y_train)\n",
    "\n",
    "# Evaluate logistic regression.\n",
    "print(f'Training Score: {lr.score(X_train_cvec, y_train)}')\n",
    "print(f'Testing Score: {lr.score(X_test_cvec, y_test)}')"
   ]
  },
  {
   "cell_type": "code",
   "execution_count": 44,
   "metadata": {},
   "outputs": [],
   "source": [
    "cvec_train_score = lr.score(X_train_cvec, y_train)"
   ]
  },
  {
   "cell_type": "code",
   "execution_count": 45,
   "metadata": {},
   "outputs": [],
   "source": [
    "cvec_test_score  = lr.score(X_test_cvec, y_test)"
   ]
  },
  {
   "cell_type": "code",
   "execution_count": 46,
   "metadata": {},
   "outputs": [],
   "source": [
    "def get_top_n_words(corpus, n=None):\n",
    "\n",
    "    vec = CountVectorizer(stop_words='english').fit(corpus)\n",
    "    bag_of_words = vec.transform(corpus)\n",
    "    sum_words = bag_of_words.sum(axis=0) \n",
    "    words_freq = [(word, sum_words[0, idx]) for word, idx in vec.vocabulary_.items()]\n",
    "    words_freq =sorted(words_freq, key = lambda x: x[1], reverse=True)\n",
    "    return words_freq[:n]"
   ]
  },
  {
   "cell_type": "code",
   "execution_count": 47,
   "metadata": {},
   "outputs": [],
   "source": [
    "aa = data['all_text'].loc[data['subreddit type']==1]"
   ]
  },
  {
   "cell_type": "code",
   "execution_count": 48,
   "metadata": {},
   "outputs": [
    {
     "data": {
      "text/plain": [
       "(958,)"
      ]
     },
     "execution_count": 48,
     "metadata": {},
     "output_type": "execute_result"
    }
   ],
   "source": [
    "aa.shape"
   ]
  },
  {
   "cell_type": "code",
   "execution_count": 49,
   "metadata": {},
   "outputs": [],
   "source": [
    "bb = data['all_text'].loc[data['subreddit type']==0]"
   ]
  },
  {
   "cell_type": "code",
   "execution_count": 50,
   "metadata": {},
   "outputs": [
    {
     "data": {
      "text/plain": [
       "(991,)"
      ]
     },
     "execution_count": 50,
     "metadata": {},
     "output_type": "execute_result"
    }
   ],
   "source": [
    "bb.shape"
   ]
  },
  {
   "cell_type": "code",
   "execution_count": 51,
   "metadata": {
    "scrolled": true
   },
   "outputs": [
    {
     "data": {
      "text/plain": [
       "[('just', 1275),\n",
       " ('like', 1208),\n",
       " ('iâ', 1079),\n",
       " ('know', 928),\n",
       " ('want', 793),\n",
       " ('really', 765),\n",
       " ('time', 732),\n",
       " ('ve', 662),\n",
       " ('feel', 587),\n",
       " ('friends', 565)]"
      ]
     },
     "execution_count": 51,
     "metadata": {},
     "output_type": "execute_result"
    }
   ],
   "source": [
    "get_top_n_words(aa, n=10)"
   ]
  },
  {
   "cell_type": "code",
   "execution_count": 52,
   "metadata": {
    "scrolled": true
   },
   "outputs": [
    {
     "data": {
      "text/plain": [
       "[('nan', 666),\n",
       " ('just', 127),\n",
       " ('want', 109),\n",
       " ('help', 86),\n",
       " ('like', 81),\n",
       " ('don', 76),\n",
       " ('really', 76),\n",
       " ('need', 75),\n",
       " ('iâ', 74),\n",
       " ('know', 73)]"
      ]
     },
     "execution_count": 52,
     "metadata": {},
     "output_type": "execute_result"
    }
   ],
   "source": [
    "get_top_n_words(bb, n=10)"
   ]
  },
  {
   "cell_type": "code",
   "execution_count": 53,
   "metadata": {},
   "outputs": [
    {
     "data": {
      "text/plain": [
       "['00',\n",
       " '000',\n",
       " '00am',\n",
       " '00pm',\n",
       " '02',\n",
       " '04',\n",
       " '09',\n",
       " '0s',\n",
       " '0srs0hr9cmm',\n",
       " '10',\n",
       " '100',\n",
       " '1000',\n",
       " '100k',\n",
       " '101',\n",
       " '107f',\n",
       " '10hr',\n",
       " '10k',\n",
       " '10pm',\n",
       " '10th',\n",
       " '10x',\n",
       " '11',\n",
       " '110',\n",
       " '1106',\n",
       " '111613',\n",
       " '11pm',\n",
       " '11th',\n",
       " '11ï',\n",
       " '12',\n",
       " '120d',\n",
       " '12hr',\n",
       " '12k',\n",
       " '12th',\n",
       " '13',\n",
       " '13778680',\n",
       " '13k',\n",
       " '13th',\n",
       " '14',\n",
       " '14c',\n",
       " '14m',\n",
       " '14th',\n",
       " '15',\n",
       " '150',\n",
       " '153',\n",
       " '15m',\n",
       " '15pm',\n",
       " '16',\n",
       " '16f',\n",
       " '16m',\n",
       " '16th',\n",
       " '17',\n",
       " '17f',\n",
       " '17ishm',\n",
       " '17m',\n",
       " '17th',\n",
       " '18',\n",
       " '180',\n",
       " '18f',\n",
       " '18m',\n",
       " '18th',\n",
       " '19',\n",
       " '1950s',\n",
       " '1975',\n",
       " '1986',\n",
       " '1990',\n",
       " '1997',\n",
       " '19f',\n",
       " '1am',\n",
       " '1h',\n",
       " '1k',\n",
       " '1st',\n",
       " '20',\n",
       " '200',\n",
       " '2000',\n",
       " '2001',\n",
       " '2003',\n",
       " '2011',\n",
       " '2013',\n",
       " '2015',\n",
       " '2016',\n",
       " '2017',\n",
       " '2018',\n",
       " '2019',\n",
       " '2019th',\n",
       " '2020',\n",
       " '2021',\n",
       " '2022',\n",
       " '2077',\n",
       " '20f',\n",
       " '20k',\n",
       " '20m',\n",
       " '20s',\n",
       " '20th',\n",
       " '20yo',\n",
       " '21',\n",
       " '21f',\n",
       " '21m',\n",
       " '21st',\n",
       " '21stâ',\n",
       " '22',\n",
       " '22f',\n",
       " '22m',\n",
       " '22nd',\n",
       " '23',\n",
       " '23f',\n",
       " '23m',\n",
       " '24',\n",
       " '24f',\n",
       " '24m',\n",
       " '25',\n",
       " '250',\n",
       " '25th',\n",
       " '26',\n",
       " '26f',\n",
       " '26m',\n",
       " '26th',\n",
       " '27',\n",
       " '27f',\n",
       " '27m',\n",
       " '27th',\n",
       " '28',\n",
       " '28m',\n",
       " '28th',\n",
       " '29',\n",
       " '29f',\n",
       " '2am',\n",
       " '2fa',\n",
       " '2fawzzd',\n",
       " '2h',\n",
       " '2hrs',\n",
       " '2iaa',\n",
       " '2mg',\n",
       " '2nd',\n",
       " '2pm',\n",
       " '30',\n",
       " '300',\n",
       " '3000',\n",
       " '30am',\n",
       " '30f',\n",
       " '30ish',\n",
       " '30m',\n",
       " '30mins',\n",
       " '30pm',\n",
       " '30s',\n",
       " '30th',\n",
       " '30yo',\n",
       " '31',\n",
       " '311',\n",
       " '31f',\n",
       " '31m',\n",
       " '32',\n",
       " '32m',\n",
       " '33',\n",
       " '33000',\n",
       " '35',\n",
       " '350',\n",
       " '36',\n",
       " '36f',\n",
       " '37',\n",
       " '375725147421671426',\n",
       " '38',\n",
       " '3ds',\n",
       " '3k',\n",
       " '3mg',\n",
       " '3mo',\n",
       " '3rd',\n",
       " '3some',\n",
       " '3x',\n",
       " '3yrs',\n",
       " '40',\n",
       " '400',\n",
       " '40f',\n",
       " '40m',\n",
       " '40â',\n",
       " '41',\n",
       " '42ntlrg',\n",
       " '43',\n",
       " '44',\n",
       " '44kg',\n",
       " '44m',\n",
       " '450km',\n",
       " '45pm',\n",
       " '47f',\n",
       " '4m',\n",
       " '4pm',\n",
       " '4x',\n",
       " '50',\n",
       " '500',\n",
       " '50k',\n",
       " '50mph',\n",
       " '50â',\n",
       " '51',\n",
       " '52m',\n",
       " '53',\n",
       " '530',\n",
       " '54',\n",
       " '55',\n",
       " '590',\n",
       " '5gb',\n",
       " '5k',\n",
       " '5miles',\n",
       " '5min',\n",
       " '5th',\n",
       " '5ï',\n",
       " '60',\n",
       " '600',\n",
       " '6000',\n",
       " '60km',\n",
       " '62',\n",
       " '633130524764012576',\n",
       " '65',\n",
       " '680',\n",
       " '69',\n",
       " '6am',\n",
       " '6k',\n",
       " '6pm',\n",
       " '6th',\n",
       " '6x',\n",
       " '70',\n",
       " '700',\n",
       " '72k',\n",
       " '75',\n",
       " '76k',\n",
       " '79',\n",
       " '7906635784cd63592a1ad6bc2b819801',\n",
       " '7pm',\n",
       " '7ï',\n",
       " '80',\n",
       " '800',\n",
       " '80k',\n",
       " '80â',\n",
       " '81m',\n",
       " '85',\n",
       " '8am',\n",
       " '8k',\n",
       " '8pm',\n",
       " '8px27oz',\n",
       " '8th',\n",
       " '90',\n",
       " '9000',\n",
       " '90miles',\n",
       " '90s',\n",
       " '92',\n",
       " '93',\n",
       " '946',\n",
       " '99',\n",
       " '9gag',\n",
       " '9lbs',\n",
       " '9pm',\n",
       " '9th',\n",
       " '_behaviour',\n",
       " '_girl',\n",
       " 'a1',\n",
       " 'a8fqfeh',\n",
       " 'aa',\n",
       " 'abandon',\n",
       " 'abandoned',\n",
       " 'abandoning',\n",
       " 'abilities',\n",
       " 'ability',\n",
       " 'able',\n",
       " 'abnormally',\n",
       " 'abridge',\n",
       " 'abroad',\n",
       " 'abs',\n",
       " 'absences',\n",
       " 'absent',\n",
       " 'absentmindedly',\n",
       " 'absolute',\n",
       " 'absolutely',\n",
       " 'abstractly',\n",
       " 'absurd',\n",
       " 'abt',\n",
       " 'abundance',\n",
       " 'abuse',\n",
       " 'abused',\n",
       " 'abuser',\n",
       " 'abuses',\n",
       " 'abusing',\n",
       " 'abusive',\n",
       " 'academia',\n",
       " 'academic',\n",
       " 'academically',\n",
       " 'academics',\n",
       " 'academy',\n",
       " 'acc',\n",
       " 'accelerate',\n",
       " 'accelerated',\n",
       " 'accelerator',\n",
       " 'accent',\n",
       " 'accept',\n",
       " 'acceptance',\n",
       " 'accepted',\n",
       " 'accepting',\n",
       " 'accepts',\n",
       " 'access',\n",
       " 'accessible',\n",
       " 'accessories',\n",
       " 'accident',\n",
       " 'accidentally',\n",
       " 'accidently',\n",
       " 'accidents',\n",
       " 'accommodate',\n",
       " 'accommodated',\n",
       " 'accomplices',\n",
       " 'accomplish',\n",
       " 'accomplishment',\n",
       " 'according',\n",
       " 'account',\n",
       " 'accountant',\n",
       " 'accounting',\n",
       " 'accounts',\n",
       " 'accs',\n",
       " 'accumulated',\n",
       " 'accurate',\n",
       " 'accusation',\n",
       " 'accusations',\n",
       " 'accuse',\n",
       " 'accused',\n",
       " 'accusing',\n",
       " 'ace',\n",
       " 'achieve',\n",
       " 'achieved',\n",
       " 'achiever',\n",
       " 'achieving',\n",
       " 'aching',\n",
       " 'acknowledge',\n",
       " 'acknowledged',\n",
       " 'acknowledgement',\n",
       " 'acknowledging',\n",
       " 'acne',\n",
       " 'acnl',\n",
       " 'acquaintance',\n",
       " 'acquaintances',\n",
       " 'acquire',\n",
       " 'acquired',\n",
       " 'acquiring',\n",
       " 'act',\n",
       " 'acted',\n",
       " 'acting',\n",
       " 'action',\n",
       " 'actions',\n",
       " 'active',\n",
       " 'actively',\n",
       " 'activities',\n",
       " 'activity',\n",
       " 'actor',\n",
       " 'actress',\n",
       " 'acts',\n",
       " 'actual',\n",
       " 'actualization',\n",
       " 'actually',\n",
       " 'acutely',\n",
       " 'ad',\n",
       " 'adamantly',\n",
       " 'adapt',\n",
       " 'adapted',\n",
       " 'add',\n",
       " 'added',\n",
       " 'addict',\n",
       " 'addicted',\n",
       " 'addiction',\n",
       " 'addictive',\n",
       " 'adding',\n",
       " 'addition',\n",
       " 'additional',\n",
       " 'additionally',\n",
       " 'address',\n",
       " 'addressed',\n",
       " 'adds',\n",
       " 'adhd',\n",
       " 'adidas',\n",
       " 'adivce',\n",
       " 'adjacent',\n",
       " 'adjunct',\n",
       " 'adjust',\n",
       " 'adjusting',\n",
       " 'admin',\n",
       " 'administrative',\n",
       " 'administrators',\n",
       " 'admire',\n",
       " 'admiring',\n",
       " 'admit',\n",
       " 'admits',\n",
       " 'admitted',\n",
       " 'admittedly',\n",
       " 'adolescents',\n",
       " 'adopt',\n",
       " 'adopted',\n",
       " 'adopting',\n",
       " 'adoption',\n",
       " 'adorable',\n",
       " 'adore',\n",
       " 'adores',\n",
       " 'ads',\n",
       " 'adudio',\n",
       " 'adult',\n",
       " 'adulthood',\n",
       " 'adults',\n",
       " 'adulty',\n",
       " 'adultâ',\n",
       " 'advance',\n",
       " 'advancement',\n",
       " 'advances',\n",
       " 'advantage',\n",
       " 'adverse',\n",
       " 'advice',\n",
       " 'advil',\n",
       " 'advise',\n",
       " 'advised',\n",
       " 'adviser',\n",
       " 'advising',\n",
       " 'advisor',\n",
       " 'advisors',\n",
       " 'advocating',\n",
       " 'aesthetic',\n",
       " 'af',\n",
       " 'affairs',\n",
       " 'affect',\n",
       " 'affected',\n",
       " 'affecting',\n",
       " 'affection',\n",
       " 'affectionate',\n",
       " 'affectionately',\n",
       " 'affects',\n",
       " 'affirmation',\n",
       " 'afford',\n",
       " 'affording',\n",
       " 'affraid',\n",
       " 'afloat',\n",
       " 'afraid',\n",
       " 'africa',\n",
       " 'african',\n",
       " 'afterall',\n",
       " 'aftermath',\n",
       " 'afternoon',\n",
       " 'afternoons',\n",
       " 'afterward',\n",
       " 'age',\n",
       " 'aged',\n",
       " 'agency',\n",
       " 'agenda',\n",
       " 'agent',\n",
       " 'agents',\n",
       " 'ages',\n",
       " 'aggresive',\n",
       " 'aggressive',\n",
       " 'aggressively',\n",
       " 'ago',\n",
       " 'agony',\n",
       " 'agoâ',\n",
       " 'agree',\n",
       " 'agreed',\n",
       " 'agreement',\n",
       " 'agrees',\n",
       " 'ahead',\n",
       " 'ahold',\n",
       " 'ahy',\n",
       " 'aid',\n",
       " 'aide',\n",
       " 'aimbot',\n",
       " 'aiming',\n",
       " 'ain',\n",
       " 'ainâ',\n",
       " 'air',\n",
       " 'aircon',\n",
       " 'airline',\n",
       " 'airplane',\n",
       " 'airpods',\n",
       " 'airport',\n",
       " 'aita',\n",
       " 'aka',\n",
       " 'akin',\n",
       " 'akward',\n",
       " 'al',\n",
       " 'aladdin',\n",
       " 'alarm',\n",
       " 'alarms',\n",
       " 'albeit',\n",
       " 'albert',\n",
       " 'alcohol',\n",
       " 'alcoholic',\n",
       " 'alcoholism',\n",
       " 'alex',\n",
       " 'alien',\n",
       " 'alignments',\n",
       " 'aligns',\n",
       " 'alive',\n",
       " 'allergic',\n",
       " 'allergies',\n",
       " 'allergy',\n",
       " 'alley',\n",
       " 'alligator',\n",
       " 'alligators',\n",
       " 'allocate',\n",
       " 'allocation',\n",
       " 'allot',\n",
       " 'allow',\n",
       " 'allowance',\n",
       " 'allowed',\n",
       " 'allowing',\n",
       " 'allows',\n",
       " 'alls',\n",
       " 'allwaes',\n",
       " 'allways',\n",
       " 'aloe',\n",
       " 'aloneâ',\n",
       " 'aloof',\n",
       " 'alot',\n",
       " 'alprazolam',\n",
       " 'alright',\n",
       " 'alrightâ',\n",
       " 'als',\n",
       " 'alt',\n",
       " 'altercation',\n",
       " 'alternately',\n",
       " 'alternating',\n",
       " 'alternative',\n",
       " 'alternatives',\n",
       " 'altogether',\n",
       " 'alts',\n",
       " 'aluminum',\n",
       " 'ama',\n",
       " 'amarican',\n",
       " 'amazing',\n",
       " 'amazon',\n",
       " 'ambition',\n",
       " 'ambitious',\n",
       " 'ambulance',\n",
       " 'america',\n",
       " 'american',\n",
       " 'americans',\n",
       " 'amicable',\n",
       " 'amicably',\n",
       " 'amidst',\n",
       " 'amitheasshole',\n",
       " 'amp',\n",
       " 'ample',\n",
       " 'amused',\n",
       " 'amusement',\n",
       " 'anaheim',\n",
       " 'anal',\n",
       " 'analyse',\n",
       " 'analyzes',\n",
       " 'anatomy',\n",
       " 'anderson',\n",
       " 'android',\n",
       " 'angel',\n",
       " 'angeles',\n",
       " 'angelic',\n",
       " 'anger',\n",
       " 'angered',\n",
       " 'angering',\n",
       " 'angle',\n",
       " 'angrier',\n",
       " 'angrily',\n",
       " 'angry',\n",
       " 'anh',\n",
       " 'animal',\n",
       " 'animals',\n",
       " 'animated',\n",
       " 'animation',\n",
       " 'anime',\n",
       " 'ankle',\n",
       " 'annabelle',\n",
       " 'anneversery',\n",
       " 'anniversary',\n",
       " 'announced',\n",
       " 'annoy',\n",
       " 'annoyed',\n",
       " 'annoying',\n",
       " 'annual',\n",
       " 'anonymity',\n",
       " 'anonymous',\n",
       " 'anonymousâ',\n",
       " 'anorexic',\n",
       " 'ans',\n",
       " 'answer',\n",
       " 'answered',\n",
       " 'answering',\n",
       " 'answers',\n",
       " 'ant',\n",
       " 'antenna',\n",
       " 'anti',\n",
       " 'antibiotic',\n",
       " 'anticipating',\n",
       " 'antidepressants',\n",
       " 'antonio',\n",
       " 'anxeity',\n",
       " 'anxieties',\n",
       " 'anxiety',\n",
       " 'anxious',\n",
       " 'anybody',\n",
       " 'anymore',\n",
       " 'anyother',\n",
       " 'anytime',\n",
       " 'anyways',\n",
       " 'anywayâ',\n",
       " 'anywho',\n",
       " 'ao',\n",
       " 'ap',\n",
       " 'apart',\n",
       " 'apartment',\n",
       " 'apartments',\n",
       " 'apathy',\n",
       " 'apetite',\n",
       " 'apologies',\n",
       " 'apologise',\n",
       " 'apologised',\n",
       " 'apologize',\n",
       " 'apologized',\n",
       " 'apology',\n",
       " 'app',\n",
       " 'apparent',\n",
       " 'apparently',\n",
       " 'appartement',\n",
       " 'appealing',\n",
       " 'appear',\n",
       " 'appearance',\n",
       " 'appearances',\n",
       " 'appearing',\n",
       " 'appears',\n",
       " 'appease',\n",
       " 'applaud',\n",
       " 'applebee',\n",
       " 'apples',\n",
       " 'application',\n",
       " 'applied',\n",
       " 'applies',\n",
       " 'apply',\n",
       " 'applying',\n",
       " 'appoaching',\n",
       " 'appointment',\n",
       " 'appointments',\n",
       " 'appraciated',\n",
       " 'appreaciate',\n",
       " 'appreciate',\n",
       " 'appreciated',\n",
       " 'appreciative',\n",
       " 'apprenticeships',\n",
       " 'approach',\n",
       " 'approached',\n",
       " 'approaching',\n",
       " 'appropriate',\n",
       " 'appropriately',\n",
       " 'approval',\n",
       " 'approve',\n",
       " 'approx',\n",
       " 'approximately',\n",
       " 'apps',\n",
       " 'april',\n",
       " 'apt',\n",
       " 'arabia',\n",
       " 'arabian',\n",
       " 'arbitrarily',\n",
       " 'arbitrary',\n",
       " 'architect',\n",
       " 'architects',\n",
       " 'architectural',\n",
       " 'architecture',\n",
       " 'area',\n",
       " 'areas',\n",
       " 'aren',\n",
       " 'arena',\n",
       " 'arent',\n",
       " 'arenâ',\n",
       " 'argue',\n",
       " 'argued',\n",
       " 'arguement',\n",
       " 'argument',\n",
       " 'argumentative',\n",
       " 'arguments',\n",
       " 'arising',\n",
       " 'arizona',\n",
       " 'arm',\n",
       " 'arms',\n",
       " 'arnt',\n",
       " 'arousal',\n",
       " 'arrange',\n",
       " 'arranged',\n",
       " 'arranger',\n",
       " 'arrest',\n",
       " 'arrested',\n",
       " 'arrhythmia',\n",
       " 'arrive',\n",
       " 'arrived',\n",
       " 'arrives',\n",
       " 'arriving',\n",
       " 'arrogance',\n",
       " 'art',\n",
       " 'article',\n",
       " 'articles',\n",
       " 'articulate',\n",
       " 'articulation',\n",
       " 'artifacts',\n",
       " 'artist',\n",
       " 'artists',\n",
       " 'arts',\n",
       " 'asap',\n",
       " 'asbergers',\n",
       " 'ascertained',\n",
       " 'asexual',\n",
       " 'ashamed',\n",
       " 'ashes',\n",
       " 'asian',\n",
       " 'aside',\n",
       " 'ask',\n",
       " 'asked',\n",
       " 'asking',\n",
       " 'askingâ',\n",
       " 'asks',\n",
       " 'asleep',\n",
       " 'asparagus',\n",
       " 'aspburgers',\n",
       " 'aspect',\n",
       " 'aspects',\n",
       " 'aspirations',\n",
       " 'ass',\n",
       " 'assassinated',\n",
       " 'assault',\n",
       " 'asserting',\n",
       " 'asses',\n",
       " 'asset',\n",
       " 'assets',\n",
       " 'asshole',\n",
       " 'assign',\n",
       " 'assigned',\n",
       " 'assignment',\n",
       " 'assignments',\n",
       " 'assist',\n",
       " 'assistance',\n",
       " 'assistant',\n",
       " 'associate',\n",
       " 'associated',\n",
       " 'associates',\n",
       " 'association',\n",
       " 'assume',\n",
       " 'assumed',\n",
       " 'assumes',\n",
       " 'assuming',\n",
       " 'assumption',\n",
       " 'assured',\n",
       " 'asthma',\n",
       " 'aswell',\n",
       " 'asylum',\n",
       " 'ate',\n",
       " 'atheist',\n",
       " 'athletic',\n",
       " 'atkins',\n",
       " 'atlas',\n",
       " 'atleast',\n",
       " 'atmosphere',\n",
       " 'att',\n",
       " 'attach',\n",
       " 'attached',\n",
       " 'attaching',\n",
       " 'attachment',\n",
       " 'attachments',\n",
       " 'attack',\n",
       " 'attacking',\n",
       " 'attacks',\n",
       " 'attain',\n",
       " 'attempt',\n",
       " 'attempted',\n",
       " 'attempting',\n",
       " 'attempts',\n",
       " 'attend',\n",
       " 'attended',\n",
       " 'attending',\n",
       " 'attention',\n",
       " 'attitude',\n",
       " 'attitudes',\n",
       " 'attract',\n",
       " 'attracted',\n",
       " 'attraction',\n",
       " 'attractive',\n",
       " 'attractiveness',\n",
       " 'attribute',\n",
       " 'atâ',\n",
       " 'au',\n",
       " 'audibly',\n",
       " 'audience',\n",
       " 'audio',\n",
       " 'audiomachine',\n",
       " 'audition',\n",
       " 'aug',\n",
       " 'august',\n",
       " 'aunt',\n",
       " 'auntie',\n",
       " 'aunties',\n",
       " 'aunts',\n",
       " 'aunty',\n",
       " 'austin',\n",
       " 'australia',\n",
       " 'australian',\n",
       " 'australians',\n",
       " 'austria',\n",
       " 'authorities',\n",
       " 'autism',\n",
       " 'autistic',\n",
       " 'auto',\n",
       " 'automatically',\n",
       " 'autumn',\n",
       " 'ava',\n",
       " 'availability',\n",
       " 'available',\n",
       " 'avengers',\n",
       " 'average',\n",
       " 'averagely',\n",
       " 'aversion',\n",
       " 'aviation',\n",
       " 'avoid',\n",
       " 'avoided',\n",
       " 'avoiding',\n",
       " 'avoids',\n",
       " 'awaiting',\n",
       " 'awake',\n",
       " 'award',\n",
       " 'awarded',\n",
       " 'awards',\n",
       " 'aware',\n",
       " 'away',\n",
       " 'aways',\n",
       " 'awesome',\n",
       " 'awful',\n",
       " 'awfully',\n",
       " 'awhile',\n",
       " 'awkward',\n",
       " 'awkwardly',\n",
       " 'awol',\n",
       " 'aww',\n",
       " 'awwwwww',\n",
       " 'ax',\n",
       " 'aâ',\n",
       " 'b39ezar',\n",
       " 'ba',\n",
       " 'babies',\n",
       " 'baby',\n",
       " 'babys',\n",
       " 'babysat',\n",
       " 'babysits',\n",
       " 'babysitter',\n",
       " 'bachelor',\n",
       " 'bachelors',\n",
       " 'backbone',\n",
       " 'backed',\n",
       " 'backfired',\n",
       " 'backflip',\n",
       " 'background',\n",
       " 'backpack',\n",
       " 'backround',\n",
       " 'backs',\n",
       " 'backstory',\n",
       " 'backup',\n",
       " 'bacon',\n",
       " 'bad',\n",
       " 'badass',\n",
       " 'badly',\n",
       " 'bag',\n",
       " 'baggage',\n",
       " 'bags',\n",
       " 'bailing',\n",
       " 'bails',\n",
       " 'bake',\n",
       " 'bakery',\n",
       " 'baking',\n",
       " 'balance',\n",
       " 'balances',\n",
       " 'balancing',\n",
       " 'baldwin',\n",
       " 'baler',\n",
       " 'bali',\n",
       " 'ball',\n",
       " 'ballons',\n",
       " 'balloon',\n",
       " 'balloons',\n",
       " 'balls',\n",
       " 'ban',\n",
       " 'band',\n",
       " 'bandaid',\n",
       " 'bandname',\n",
       " 'bang',\n",
       " 'banged',\n",
       " 'banging',\n",
       " 'bank',\n",
       " 'bankrupt',\n",
       " 'banned',\n",
       " 'banter',\n",
       " 'baptist',\n",
       " 'bar',\n",
       " 'barbecue',\n",
       " 'barbershop',\n",
       " 'bard',\n",
       " 'bare',\n",
       " 'barely',\n",
       " 'barking',\n",
       " 'barrier',\n",
       " 'barriers',\n",
       " 'bars',\n",
       " 'bartender',\n",
       " 'bartending',\n",
       " 'baseball',\n",
       " 'based',\n",
       " 'basement',\n",
       " 'bash',\n",
       " 'basic',\n",
       " 'basically',\n",
       " 'basics',\n",
       " 'basis',\n",
       " 'basketball',\n",
       " 'bass',\n",
       " 'bastards',\n",
       " 'baster',\n",
       " 'batch',\n",
       " 'bathe',\n",
       " 'bathroom',\n",
       " 'bathrooms',\n",
       " 'bathwater',\n",
       " 'batman',\n",
       " 'battered',\n",
       " 'battle',\n",
       " 'battling',\n",
       " 'bay',\n",
       " 'bb',\n",
       " 'bbq',\n",
       " 'bc',\n",
       " 'beach',\n",
       " 'beaches',\n",
       " 'bear',\n",
       " 'beard',\n",
       " 'bearing',\n",
       " 'bearings',\n",
       " 'bears',\n",
       " 'bearâ',\n",
       " 'beast',\n",
       " 'beat',\n",
       " 'beaten',\n",
       " 'beating',\n",
       " 'beats',\n",
       " 'beautiful',\n",
       " 'beautifully',\n",
       " 'beavis',\n",
       " 'becuase',\n",
       " 'bed',\n",
       " 'bedridden',\n",
       " 'bedroom',\n",
       " 'beds',\n",
       " 'bee',\n",
       " 'beef',\n",
       " 'beer',\n",
       " 'beers',\n",
       " 'beethoven',\n",
       " 'beetle',\n",
       " 'befriend',\n",
       " 'befriended',\n",
       " 'beg',\n",
       " 'began',\n",
       " 'begged',\n",
       " 'beggining',\n",
       " 'begin',\n",
       " 'beginner',\n",
       " 'beginning',\n",
       " 'begun',\n",
       " 'behalf',\n",
       " 'behave',\n",
       " 'behaved',\n",
       " 'behavior',\n",
       " 'behaviors',\n",
       " 'behaviour',\n",
       " 'behemoths',\n",
       " 'behest',\n",
       " 'behold',\n",
       " 'bel',\n",
       " 'belgium',\n",
       " 'beliefs',\n",
       " 'believe',\n",
       " 'believed',\n",
       " 'believes',\n",
       " 'believing',\n",
       " 'bellhops',\n",
       " 'bells',\n",
       " 'belly',\n",
       " 'belong',\n",
       " 'belonging',\n",
       " 'belongings',\n",
       " 'belongs',\n",
       " 'bench',\n",
       " 'benefit',\n",
       " 'benefits',\n",
       " 'benzos',\n",
       " 'berate',\n",
       " 'berated',\n",
       " 'berating',\n",
       " 'best',\n",
       " 'bestfriends',\n",
       " 'bet',\n",
       " 'beth',\n",
       " 'betray',\n",
       " 'betrayal',\n",
       " 'betrayed',\n",
       " 'betraying',\n",
       " ...]"
      ]
     },
     "execution_count": 53,
     "metadata": {},
     "output_type": "execute_result"
    }
   ],
   "source": [
    "cvec.get_feature_names()"
   ]
  },
  {
   "cell_type": "markdown",
   "metadata": {},
   "source": [
    "# Naive Bayes - Bernoulli (cvec)"
   ]
  },
  {
   "cell_type": "code",
   "execution_count": 54,
   "metadata": {},
   "outputs": [
    {
     "data": {
      "text/plain": [
       "BernoulliNB(alpha=1.0, binarize=0.0, class_prior=None, fit_prior=True)"
      ]
     },
     "execution_count": 54,
     "metadata": {},
     "output_type": "execute_result"
    }
   ],
   "source": [
    "from sklearn.naive_bayes import BernoulliNB\n",
    "clf = BernoulliNB()\n",
    "\n",
    "clf.fit(X_train_cvec, y_train)\n",
    "\n",
    "BernoulliNB(alpha=1.0, binarize=0.0, class_prior=None, fit_prior=True)"
   ]
  },
  {
   "cell_type": "code",
   "execution_count": 55,
   "metadata": {},
   "outputs": [
    {
     "data": {
      "text/plain": [
       "0.8505747126436781"
      ]
     },
     "execution_count": 55,
     "metadata": {},
     "output_type": "execute_result"
    }
   ],
   "source": [
    "clf.score(X_train_cvec, y_train)"
   ]
  },
  {
   "cell_type": "code",
   "execution_count": 56,
   "metadata": {},
   "outputs": [
    {
     "data": {
      "text/plain": [
       "0.8354037267080745"
      ]
     },
     "execution_count": 56,
     "metadata": {},
     "output_type": "execute_result"
    }
   ],
   "source": [
    "clf.score(X_test_cvec, y_test)"
   ]
  },
  {
   "cell_type": "code",
   "execution_count": 57,
   "metadata": {},
   "outputs": [],
   "source": [
    "bernoulli_train_score_cvec = clf.score(X_train_cvec, y_train)\n",
    "bernoulli_test_score_cvec = clf.score(X_test_cvec, y_test)"
   ]
  },
  {
   "cell_type": "markdown",
   "metadata": {},
   "source": [
    "# Fitting Tvec"
   ]
  },
  {
   "cell_type": "code",
   "execution_count": 58,
   "metadata": {},
   "outputs": [],
   "source": [
    "tvec = TfidfVectorizer(stop_words='english')"
   ]
  },
  {
   "cell_type": "code",
   "execution_count": 59,
   "metadata": {},
   "outputs": [],
   "source": [
    "X_train_tvec = tvec.fit_transform(X_train)"
   ]
  },
  {
   "cell_type": "code",
   "execution_count": 60,
   "metadata": {},
   "outputs": [
    {
     "data": {
      "text/plain": [
       "(1305, 9042)"
      ]
     },
     "execution_count": 60,
     "metadata": {},
     "output_type": "execute_result"
    }
   ],
   "source": [
    "X_train_tvec.shape"
   ]
  },
  {
   "cell_type": "code",
   "execution_count": 61,
   "metadata": {},
   "outputs": [
    {
     "data": {
      "text/plain": [
       "matrix([[0., 0., 0., 0., 0., 0., 0., 0., 0., 0., 0., 0., 0., 0., 0., 0.,\n",
       "         0., 0., 0., 0., 0., 0., 0., 0., 0., 0., 0., 0., 0., 0.],\n",
       "        [0., 0., 0., 0., 0., 0., 0., 0., 0., 0., 0., 0., 0., 0., 0., 0.,\n",
       "         0., 0., 0., 0., 0., 0., 0., 0., 0., 0., 0., 0., 0., 0.],\n",
       "        [0., 0., 0., 0., 0., 0., 0., 0., 0., 0., 0., 0., 0., 0., 0., 0.,\n",
       "         0., 0., 0., 0., 0., 0., 0., 0., 0., 0., 0., 0., 0., 0.],\n",
       "        [0., 0., 0., 0., 0., 0., 0., 0., 0., 0., 0., 0., 0., 0., 0., 0.,\n",
       "         0., 0., 0., 0., 0., 0., 0., 0., 0., 0., 0., 0., 0., 0.],\n",
       "        [0., 0., 0., 0., 0., 0., 0., 0., 0., 0., 0., 0., 0., 0., 0., 0.,\n",
       "         0., 0., 0., 0., 0., 0., 0., 0., 0., 0., 0., 0., 0., 0.]])"
      ]
     },
     "execution_count": 61,
     "metadata": {},
     "output_type": "execute_result"
    }
   ],
   "source": [
    "X_train_tvec.todense()[:5,:30]"
   ]
  },
  {
   "cell_type": "code",
   "execution_count": 62,
   "metadata": {},
   "outputs": [
    {
     "data": {
      "text/plain": [
       "['00',\n",
       " '000',\n",
       " '00am',\n",
       " '00pm',\n",
       " '02',\n",
       " '04',\n",
       " '09',\n",
       " '0s',\n",
       " '0srs0hr9cmm',\n",
       " '10',\n",
       " '100',\n",
       " '1000',\n",
       " '100k',\n",
       " '101',\n",
       " '107f',\n",
       " '10hr',\n",
       " '10k',\n",
       " '10pm',\n",
       " '10th',\n",
       " '10x',\n",
       " '11',\n",
       " '110',\n",
       " '1106',\n",
       " '111613',\n",
       " '11pm',\n",
       " '11th',\n",
       " '11ï',\n",
       " '12',\n",
       " '120d',\n",
       " '12hr',\n",
       " '12k',\n",
       " '12th',\n",
       " '13',\n",
       " '13778680',\n",
       " '13k',\n",
       " '13th',\n",
       " '14',\n",
       " '14c',\n",
       " '14m',\n",
       " '14th',\n",
       " '15',\n",
       " '150',\n",
       " '153',\n",
       " '15m',\n",
       " '15pm',\n",
       " '16',\n",
       " '16f',\n",
       " '16m',\n",
       " '16th',\n",
       " '17',\n",
       " '17f',\n",
       " '17ishm',\n",
       " '17m',\n",
       " '17th',\n",
       " '18',\n",
       " '180',\n",
       " '18f',\n",
       " '18m',\n",
       " '18th',\n",
       " '19',\n",
       " '1950s',\n",
       " '1975',\n",
       " '1986',\n",
       " '1990',\n",
       " '1997',\n",
       " '19f',\n",
       " '1am',\n",
       " '1h',\n",
       " '1k',\n",
       " '1st',\n",
       " '20',\n",
       " '200',\n",
       " '2000',\n",
       " '2001',\n",
       " '2003',\n",
       " '2011',\n",
       " '2013',\n",
       " '2015',\n",
       " '2016',\n",
       " '2017',\n",
       " '2018',\n",
       " '2019',\n",
       " '2019th',\n",
       " '2020',\n",
       " '2021',\n",
       " '2022',\n",
       " '2077',\n",
       " '20f',\n",
       " '20k',\n",
       " '20m',\n",
       " '20s',\n",
       " '20th',\n",
       " '20yo',\n",
       " '21',\n",
       " '21f',\n",
       " '21m',\n",
       " '21st',\n",
       " '21stâ',\n",
       " '22',\n",
       " '22f',\n",
       " '22m',\n",
       " '22nd',\n",
       " '23',\n",
       " '23f',\n",
       " '23m',\n",
       " '24',\n",
       " '24f',\n",
       " '24m',\n",
       " '25',\n",
       " '250',\n",
       " '25th',\n",
       " '26',\n",
       " '26f',\n",
       " '26m',\n",
       " '26th',\n",
       " '27',\n",
       " '27f',\n",
       " '27m',\n",
       " '27th',\n",
       " '28',\n",
       " '28m',\n",
       " '28th',\n",
       " '29',\n",
       " '29f',\n",
       " '2am',\n",
       " '2fa',\n",
       " '2fawzzd',\n",
       " '2h',\n",
       " '2hrs',\n",
       " '2iaa',\n",
       " '2mg',\n",
       " '2nd',\n",
       " '2pm',\n",
       " '30',\n",
       " '300',\n",
       " '3000',\n",
       " '30am',\n",
       " '30f',\n",
       " '30ish',\n",
       " '30m',\n",
       " '30mins',\n",
       " '30pm',\n",
       " '30s',\n",
       " '30th',\n",
       " '30yo',\n",
       " '31',\n",
       " '311',\n",
       " '31f',\n",
       " '31m',\n",
       " '32',\n",
       " '32m',\n",
       " '33',\n",
       " '33000',\n",
       " '35',\n",
       " '350',\n",
       " '36',\n",
       " '36f',\n",
       " '37',\n",
       " '375725147421671426',\n",
       " '38',\n",
       " '3ds',\n",
       " '3k',\n",
       " '3mg',\n",
       " '3mo',\n",
       " '3rd',\n",
       " '3some',\n",
       " '3x',\n",
       " '3yrs',\n",
       " '40',\n",
       " '400',\n",
       " '40f',\n",
       " '40m',\n",
       " '40â',\n",
       " '41',\n",
       " '42ntlrg',\n",
       " '43',\n",
       " '44',\n",
       " '44kg',\n",
       " '44m',\n",
       " '450km',\n",
       " '45pm',\n",
       " '47f',\n",
       " '4m',\n",
       " '4pm',\n",
       " '4x',\n",
       " '50',\n",
       " '500',\n",
       " '50k',\n",
       " '50mph',\n",
       " '50â',\n",
       " '51',\n",
       " '52m',\n",
       " '53',\n",
       " '530',\n",
       " '54',\n",
       " '55',\n",
       " '590',\n",
       " '5gb',\n",
       " '5k',\n",
       " '5miles',\n",
       " '5min',\n",
       " '5th',\n",
       " '5ï',\n",
       " '60',\n",
       " '600',\n",
       " '6000',\n",
       " '60km',\n",
       " '62',\n",
       " '633130524764012576',\n",
       " '65',\n",
       " '680',\n",
       " '69',\n",
       " '6am',\n",
       " '6k',\n",
       " '6pm',\n",
       " '6th',\n",
       " '6x',\n",
       " '70',\n",
       " '700',\n",
       " '72k',\n",
       " '75',\n",
       " '76k',\n",
       " '79',\n",
       " '7906635784cd63592a1ad6bc2b819801',\n",
       " '7pm',\n",
       " '7ï',\n",
       " '80',\n",
       " '800',\n",
       " '80k',\n",
       " '80â',\n",
       " '81m',\n",
       " '85',\n",
       " '8am',\n",
       " '8k',\n",
       " '8pm',\n",
       " '8px27oz',\n",
       " '8th',\n",
       " '90',\n",
       " '9000',\n",
       " '90miles',\n",
       " '90s',\n",
       " '92',\n",
       " '93',\n",
       " '946',\n",
       " '99',\n",
       " '9gag',\n",
       " '9lbs',\n",
       " '9pm',\n",
       " '9th',\n",
       " '_behaviour',\n",
       " '_girl',\n",
       " 'a1',\n",
       " 'a8fqfeh',\n",
       " 'aa',\n",
       " 'abandon',\n",
       " 'abandoned',\n",
       " 'abandoning',\n",
       " 'abilities',\n",
       " 'ability',\n",
       " 'able',\n",
       " 'abnormally',\n",
       " 'abridge',\n",
       " 'abroad',\n",
       " 'abs',\n",
       " 'absences',\n",
       " 'absent',\n",
       " 'absentmindedly',\n",
       " 'absolute',\n",
       " 'absolutely',\n",
       " 'abstractly',\n",
       " 'absurd',\n",
       " 'abt',\n",
       " 'abundance',\n",
       " 'abuse',\n",
       " 'abused',\n",
       " 'abuser',\n",
       " 'abuses',\n",
       " 'abusing',\n",
       " 'abusive',\n",
       " 'academia',\n",
       " 'academic',\n",
       " 'academically',\n",
       " 'academics',\n",
       " 'academy',\n",
       " 'acc',\n",
       " 'accelerate',\n",
       " 'accelerated',\n",
       " 'accelerator',\n",
       " 'accent',\n",
       " 'accept',\n",
       " 'acceptance',\n",
       " 'accepted',\n",
       " 'accepting',\n",
       " 'accepts',\n",
       " 'access',\n",
       " 'accessible',\n",
       " 'accessories',\n",
       " 'accident',\n",
       " 'accidentally',\n",
       " 'accidently',\n",
       " 'accidents',\n",
       " 'accommodate',\n",
       " 'accommodated',\n",
       " 'accomplices',\n",
       " 'accomplish',\n",
       " 'accomplishment',\n",
       " 'according',\n",
       " 'account',\n",
       " 'accountant',\n",
       " 'accounting',\n",
       " 'accounts',\n",
       " 'accs',\n",
       " 'accumulated',\n",
       " 'accurate',\n",
       " 'accusation',\n",
       " 'accusations',\n",
       " 'accuse',\n",
       " 'accused',\n",
       " 'accusing',\n",
       " 'ace',\n",
       " 'achieve',\n",
       " 'achieved',\n",
       " 'achiever',\n",
       " 'achieving',\n",
       " 'aching',\n",
       " 'acknowledge',\n",
       " 'acknowledged',\n",
       " 'acknowledgement',\n",
       " 'acknowledging',\n",
       " 'acne',\n",
       " 'acnl',\n",
       " 'acquaintance',\n",
       " 'acquaintances',\n",
       " 'acquire',\n",
       " 'acquired',\n",
       " 'acquiring',\n",
       " 'act',\n",
       " 'acted',\n",
       " 'acting',\n",
       " 'action',\n",
       " 'actions',\n",
       " 'active',\n",
       " 'actively',\n",
       " 'activities',\n",
       " 'activity',\n",
       " 'actor',\n",
       " 'actress',\n",
       " 'acts',\n",
       " 'actual',\n",
       " 'actualization',\n",
       " 'actually',\n",
       " 'acutely',\n",
       " 'ad',\n",
       " 'adamantly',\n",
       " 'adapt',\n",
       " 'adapted',\n",
       " 'add',\n",
       " 'added',\n",
       " 'addict',\n",
       " 'addicted',\n",
       " 'addiction',\n",
       " 'addictive',\n",
       " 'adding',\n",
       " 'addition',\n",
       " 'additional',\n",
       " 'additionally',\n",
       " 'address',\n",
       " 'addressed',\n",
       " 'adds',\n",
       " 'adhd',\n",
       " 'adidas',\n",
       " 'adivce',\n",
       " 'adjacent',\n",
       " 'adjunct',\n",
       " 'adjust',\n",
       " 'adjusting',\n",
       " 'admin',\n",
       " 'administrative',\n",
       " 'administrators',\n",
       " 'admire',\n",
       " 'admiring',\n",
       " 'admit',\n",
       " 'admits',\n",
       " 'admitted',\n",
       " 'admittedly',\n",
       " 'adolescents',\n",
       " 'adopt',\n",
       " 'adopted',\n",
       " 'adopting',\n",
       " 'adoption',\n",
       " 'adorable',\n",
       " 'adore',\n",
       " 'adores',\n",
       " 'ads',\n",
       " 'adudio',\n",
       " 'adult',\n",
       " 'adulthood',\n",
       " 'adults',\n",
       " 'adulty',\n",
       " 'adultâ',\n",
       " 'advance',\n",
       " 'advancement',\n",
       " 'advances',\n",
       " 'advantage',\n",
       " 'adverse',\n",
       " 'advice',\n",
       " 'advil',\n",
       " 'advise',\n",
       " 'advised',\n",
       " 'adviser',\n",
       " 'advising',\n",
       " 'advisor',\n",
       " 'advisors',\n",
       " 'advocating',\n",
       " 'aesthetic',\n",
       " 'af',\n",
       " 'affairs',\n",
       " 'affect',\n",
       " 'affected',\n",
       " 'affecting',\n",
       " 'affection',\n",
       " 'affectionate',\n",
       " 'affectionately',\n",
       " 'affects',\n",
       " 'affirmation',\n",
       " 'afford',\n",
       " 'affording',\n",
       " 'affraid',\n",
       " 'afloat',\n",
       " 'afraid',\n",
       " 'africa',\n",
       " 'african',\n",
       " 'afterall',\n",
       " 'aftermath',\n",
       " 'afternoon',\n",
       " 'afternoons',\n",
       " 'afterward',\n",
       " 'age',\n",
       " 'aged',\n",
       " 'agency',\n",
       " 'agenda',\n",
       " 'agent',\n",
       " 'agents',\n",
       " 'ages',\n",
       " 'aggresive',\n",
       " 'aggressive',\n",
       " 'aggressively',\n",
       " 'ago',\n",
       " 'agony',\n",
       " 'agoâ',\n",
       " 'agree',\n",
       " 'agreed',\n",
       " 'agreement',\n",
       " 'agrees',\n",
       " 'ahead',\n",
       " 'ahold',\n",
       " 'ahy',\n",
       " 'aid',\n",
       " 'aide',\n",
       " 'aimbot',\n",
       " 'aiming',\n",
       " 'ain',\n",
       " 'ainâ',\n",
       " 'air',\n",
       " 'aircon',\n",
       " 'airline',\n",
       " 'airplane',\n",
       " 'airpods',\n",
       " 'airport',\n",
       " 'aita',\n",
       " 'aka',\n",
       " 'akin',\n",
       " 'akward',\n",
       " 'al',\n",
       " 'aladdin',\n",
       " 'alarm',\n",
       " 'alarms',\n",
       " 'albeit',\n",
       " 'albert',\n",
       " 'alcohol',\n",
       " 'alcoholic',\n",
       " 'alcoholism',\n",
       " 'alex',\n",
       " 'alien',\n",
       " 'alignments',\n",
       " 'aligns',\n",
       " 'alive',\n",
       " 'allergic',\n",
       " 'allergies',\n",
       " 'allergy',\n",
       " 'alley',\n",
       " 'alligator',\n",
       " 'alligators',\n",
       " 'allocate',\n",
       " 'allocation',\n",
       " 'allot',\n",
       " 'allow',\n",
       " 'allowance',\n",
       " 'allowed',\n",
       " 'allowing',\n",
       " 'allows',\n",
       " 'alls',\n",
       " 'allwaes',\n",
       " 'allways',\n",
       " 'aloe',\n",
       " 'aloneâ',\n",
       " 'aloof',\n",
       " 'alot',\n",
       " 'alprazolam',\n",
       " 'alright',\n",
       " 'alrightâ',\n",
       " 'als',\n",
       " 'alt',\n",
       " 'altercation',\n",
       " 'alternately',\n",
       " 'alternating',\n",
       " 'alternative',\n",
       " 'alternatives',\n",
       " 'altogether',\n",
       " 'alts',\n",
       " 'aluminum',\n",
       " 'ama',\n",
       " 'amarican',\n",
       " 'amazing',\n",
       " 'amazon',\n",
       " 'ambition',\n",
       " 'ambitious',\n",
       " 'ambulance',\n",
       " 'america',\n",
       " 'american',\n",
       " 'americans',\n",
       " 'amicable',\n",
       " 'amicably',\n",
       " 'amidst',\n",
       " 'amitheasshole',\n",
       " 'amp',\n",
       " 'ample',\n",
       " 'amused',\n",
       " 'amusement',\n",
       " 'anaheim',\n",
       " 'anal',\n",
       " 'analyse',\n",
       " 'analyzes',\n",
       " 'anatomy',\n",
       " 'anderson',\n",
       " 'android',\n",
       " 'angel',\n",
       " 'angeles',\n",
       " 'angelic',\n",
       " 'anger',\n",
       " 'angered',\n",
       " 'angering',\n",
       " 'angle',\n",
       " 'angrier',\n",
       " 'angrily',\n",
       " 'angry',\n",
       " 'anh',\n",
       " 'animal',\n",
       " 'animals',\n",
       " 'animated',\n",
       " 'animation',\n",
       " 'anime',\n",
       " 'ankle',\n",
       " 'annabelle',\n",
       " 'anneversery',\n",
       " 'anniversary',\n",
       " 'announced',\n",
       " 'annoy',\n",
       " 'annoyed',\n",
       " 'annoying',\n",
       " 'annual',\n",
       " 'anonymity',\n",
       " 'anonymous',\n",
       " 'anonymousâ',\n",
       " 'anorexic',\n",
       " 'ans',\n",
       " 'answer',\n",
       " 'answered',\n",
       " 'answering',\n",
       " 'answers',\n",
       " 'ant',\n",
       " 'antenna',\n",
       " 'anti',\n",
       " 'antibiotic',\n",
       " 'anticipating',\n",
       " 'antidepressants',\n",
       " 'antonio',\n",
       " 'anxeity',\n",
       " 'anxieties',\n",
       " 'anxiety',\n",
       " 'anxious',\n",
       " 'anybody',\n",
       " 'anymore',\n",
       " 'anyother',\n",
       " 'anytime',\n",
       " 'anyways',\n",
       " 'anywayâ',\n",
       " 'anywho',\n",
       " 'ao',\n",
       " 'ap',\n",
       " 'apart',\n",
       " 'apartment',\n",
       " 'apartments',\n",
       " 'apathy',\n",
       " 'apetite',\n",
       " 'apologies',\n",
       " 'apologise',\n",
       " 'apologised',\n",
       " 'apologize',\n",
       " 'apologized',\n",
       " 'apology',\n",
       " 'app',\n",
       " 'apparent',\n",
       " 'apparently',\n",
       " 'appartement',\n",
       " 'appealing',\n",
       " 'appear',\n",
       " 'appearance',\n",
       " 'appearances',\n",
       " 'appearing',\n",
       " 'appears',\n",
       " 'appease',\n",
       " 'applaud',\n",
       " 'applebee',\n",
       " 'apples',\n",
       " 'application',\n",
       " 'applied',\n",
       " 'applies',\n",
       " 'apply',\n",
       " 'applying',\n",
       " 'appoaching',\n",
       " 'appointment',\n",
       " 'appointments',\n",
       " 'appraciated',\n",
       " 'appreaciate',\n",
       " 'appreciate',\n",
       " 'appreciated',\n",
       " 'appreciative',\n",
       " 'apprenticeships',\n",
       " 'approach',\n",
       " 'approached',\n",
       " 'approaching',\n",
       " 'appropriate',\n",
       " 'appropriately',\n",
       " 'approval',\n",
       " 'approve',\n",
       " 'approx',\n",
       " 'approximately',\n",
       " 'apps',\n",
       " 'april',\n",
       " 'apt',\n",
       " 'arabia',\n",
       " 'arabian',\n",
       " 'arbitrarily',\n",
       " 'arbitrary',\n",
       " 'architect',\n",
       " 'architects',\n",
       " 'architectural',\n",
       " 'architecture',\n",
       " 'area',\n",
       " 'areas',\n",
       " 'aren',\n",
       " 'arena',\n",
       " 'arent',\n",
       " 'arenâ',\n",
       " 'argue',\n",
       " 'argued',\n",
       " 'arguement',\n",
       " 'argument',\n",
       " 'argumentative',\n",
       " 'arguments',\n",
       " 'arising',\n",
       " 'arizona',\n",
       " 'arm',\n",
       " 'arms',\n",
       " 'arnt',\n",
       " 'arousal',\n",
       " 'arrange',\n",
       " 'arranged',\n",
       " 'arranger',\n",
       " 'arrest',\n",
       " 'arrested',\n",
       " 'arrhythmia',\n",
       " 'arrive',\n",
       " 'arrived',\n",
       " 'arrives',\n",
       " 'arriving',\n",
       " 'arrogance',\n",
       " 'art',\n",
       " 'article',\n",
       " 'articles',\n",
       " 'articulate',\n",
       " 'articulation',\n",
       " 'artifacts',\n",
       " 'artist',\n",
       " 'artists',\n",
       " 'arts',\n",
       " 'asap',\n",
       " 'asbergers',\n",
       " 'ascertained',\n",
       " 'asexual',\n",
       " 'ashamed',\n",
       " 'ashes',\n",
       " 'asian',\n",
       " 'aside',\n",
       " 'ask',\n",
       " 'asked',\n",
       " 'asking',\n",
       " 'askingâ',\n",
       " 'asks',\n",
       " 'asleep',\n",
       " 'asparagus',\n",
       " 'aspburgers',\n",
       " 'aspect',\n",
       " 'aspects',\n",
       " 'aspirations',\n",
       " 'ass',\n",
       " 'assassinated',\n",
       " 'assault',\n",
       " 'asserting',\n",
       " 'asses',\n",
       " 'asset',\n",
       " 'assets',\n",
       " 'asshole',\n",
       " 'assign',\n",
       " 'assigned',\n",
       " 'assignment',\n",
       " 'assignments',\n",
       " 'assist',\n",
       " 'assistance',\n",
       " 'assistant',\n",
       " 'associate',\n",
       " 'associated',\n",
       " 'associates',\n",
       " 'association',\n",
       " 'assume',\n",
       " 'assumed',\n",
       " 'assumes',\n",
       " 'assuming',\n",
       " 'assumption',\n",
       " 'assured',\n",
       " 'asthma',\n",
       " 'aswell',\n",
       " 'asylum',\n",
       " 'ate',\n",
       " 'atheist',\n",
       " 'athletic',\n",
       " 'atkins',\n",
       " 'atlas',\n",
       " 'atleast',\n",
       " 'atmosphere',\n",
       " 'att',\n",
       " 'attach',\n",
       " 'attached',\n",
       " 'attaching',\n",
       " 'attachment',\n",
       " 'attachments',\n",
       " 'attack',\n",
       " 'attacking',\n",
       " 'attacks',\n",
       " 'attain',\n",
       " 'attempt',\n",
       " 'attempted',\n",
       " 'attempting',\n",
       " 'attempts',\n",
       " 'attend',\n",
       " 'attended',\n",
       " 'attending',\n",
       " 'attention',\n",
       " 'attitude',\n",
       " 'attitudes',\n",
       " 'attract',\n",
       " 'attracted',\n",
       " 'attraction',\n",
       " 'attractive',\n",
       " 'attractiveness',\n",
       " 'attribute',\n",
       " 'atâ',\n",
       " 'au',\n",
       " 'audibly',\n",
       " 'audience',\n",
       " 'audio',\n",
       " 'audiomachine',\n",
       " 'audition',\n",
       " 'aug',\n",
       " 'august',\n",
       " 'aunt',\n",
       " 'auntie',\n",
       " 'aunties',\n",
       " 'aunts',\n",
       " 'aunty',\n",
       " 'austin',\n",
       " 'australia',\n",
       " 'australian',\n",
       " 'australians',\n",
       " 'austria',\n",
       " 'authorities',\n",
       " 'autism',\n",
       " 'autistic',\n",
       " 'auto',\n",
       " 'automatically',\n",
       " 'autumn',\n",
       " 'ava',\n",
       " 'availability',\n",
       " 'available',\n",
       " 'avengers',\n",
       " 'average',\n",
       " 'averagely',\n",
       " 'aversion',\n",
       " 'aviation',\n",
       " 'avoid',\n",
       " 'avoided',\n",
       " 'avoiding',\n",
       " 'avoids',\n",
       " 'awaiting',\n",
       " 'awake',\n",
       " 'award',\n",
       " 'awarded',\n",
       " 'awards',\n",
       " 'aware',\n",
       " 'away',\n",
       " 'aways',\n",
       " 'awesome',\n",
       " 'awful',\n",
       " 'awfully',\n",
       " 'awhile',\n",
       " 'awkward',\n",
       " 'awkwardly',\n",
       " 'awol',\n",
       " 'aww',\n",
       " 'awwwwww',\n",
       " 'ax',\n",
       " 'aâ',\n",
       " 'b39ezar',\n",
       " 'ba',\n",
       " 'babies',\n",
       " 'baby',\n",
       " 'babys',\n",
       " 'babysat',\n",
       " 'babysits',\n",
       " 'babysitter',\n",
       " 'bachelor',\n",
       " 'bachelors',\n",
       " 'backbone',\n",
       " 'backed',\n",
       " 'backfired',\n",
       " 'backflip',\n",
       " 'background',\n",
       " 'backpack',\n",
       " 'backround',\n",
       " 'backs',\n",
       " 'backstory',\n",
       " 'backup',\n",
       " 'bacon',\n",
       " 'bad',\n",
       " 'badass',\n",
       " 'badly',\n",
       " 'bag',\n",
       " 'baggage',\n",
       " 'bags',\n",
       " 'bailing',\n",
       " 'bails',\n",
       " 'bake',\n",
       " 'bakery',\n",
       " 'baking',\n",
       " 'balance',\n",
       " 'balances',\n",
       " 'balancing',\n",
       " 'baldwin',\n",
       " 'baler',\n",
       " 'bali',\n",
       " 'ball',\n",
       " 'ballons',\n",
       " 'balloon',\n",
       " 'balloons',\n",
       " 'balls',\n",
       " 'ban',\n",
       " 'band',\n",
       " 'bandaid',\n",
       " 'bandname',\n",
       " 'bang',\n",
       " 'banged',\n",
       " 'banging',\n",
       " 'bank',\n",
       " 'bankrupt',\n",
       " 'banned',\n",
       " 'banter',\n",
       " 'baptist',\n",
       " 'bar',\n",
       " 'barbecue',\n",
       " 'barbershop',\n",
       " 'bard',\n",
       " 'bare',\n",
       " 'barely',\n",
       " 'barking',\n",
       " 'barrier',\n",
       " 'barriers',\n",
       " 'bars',\n",
       " 'bartender',\n",
       " 'bartending',\n",
       " 'baseball',\n",
       " 'based',\n",
       " 'basement',\n",
       " 'bash',\n",
       " 'basic',\n",
       " 'basically',\n",
       " 'basics',\n",
       " 'basis',\n",
       " 'basketball',\n",
       " 'bass',\n",
       " 'bastards',\n",
       " 'baster',\n",
       " 'batch',\n",
       " 'bathe',\n",
       " 'bathroom',\n",
       " 'bathrooms',\n",
       " 'bathwater',\n",
       " 'batman',\n",
       " 'battered',\n",
       " 'battle',\n",
       " 'battling',\n",
       " 'bay',\n",
       " 'bb',\n",
       " 'bbq',\n",
       " 'bc',\n",
       " 'beach',\n",
       " 'beaches',\n",
       " 'bear',\n",
       " 'beard',\n",
       " 'bearing',\n",
       " 'bearings',\n",
       " 'bears',\n",
       " 'bearâ',\n",
       " 'beast',\n",
       " 'beat',\n",
       " 'beaten',\n",
       " 'beating',\n",
       " 'beats',\n",
       " 'beautiful',\n",
       " 'beautifully',\n",
       " 'beavis',\n",
       " 'becuase',\n",
       " 'bed',\n",
       " 'bedridden',\n",
       " 'bedroom',\n",
       " 'beds',\n",
       " 'bee',\n",
       " 'beef',\n",
       " 'beer',\n",
       " 'beers',\n",
       " 'beethoven',\n",
       " 'beetle',\n",
       " 'befriend',\n",
       " 'befriended',\n",
       " 'beg',\n",
       " 'began',\n",
       " 'begged',\n",
       " 'beggining',\n",
       " 'begin',\n",
       " 'beginner',\n",
       " 'beginning',\n",
       " 'begun',\n",
       " 'behalf',\n",
       " 'behave',\n",
       " 'behaved',\n",
       " 'behavior',\n",
       " 'behaviors',\n",
       " 'behaviour',\n",
       " 'behemoths',\n",
       " 'behest',\n",
       " 'behold',\n",
       " 'bel',\n",
       " 'belgium',\n",
       " 'beliefs',\n",
       " 'believe',\n",
       " 'believed',\n",
       " 'believes',\n",
       " 'believing',\n",
       " 'bellhops',\n",
       " 'bells',\n",
       " 'belly',\n",
       " 'belong',\n",
       " 'belonging',\n",
       " 'belongings',\n",
       " 'belongs',\n",
       " 'bench',\n",
       " 'benefit',\n",
       " 'benefits',\n",
       " 'benzos',\n",
       " 'berate',\n",
       " 'berated',\n",
       " 'berating',\n",
       " 'best',\n",
       " 'bestfriends',\n",
       " 'bet',\n",
       " 'beth',\n",
       " 'betray',\n",
       " 'betrayal',\n",
       " 'betrayed',\n",
       " 'betraying',\n",
       " ...]"
      ]
     },
     "execution_count": 62,
     "metadata": {},
     "output_type": "execute_result"
    }
   ],
   "source": [
    "tvec.get_feature_names()"
   ]
  },
  {
   "cell_type": "code",
   "execution_count": 63,
   "metadata": {},
   "outputs": [],
   "source": [
    "X_test_tvec = tvec.transform(X_test)"
   ]
  },
  {
   "cell_type": "code",
   "execution_count": 64,
   "metadata": {},
   "outputs": [
    {
     "name": "stdout",
     "output_type": "stream",
     "text": [
      "Training Score: 0.9540229885057471\n",
      "Testing Score: 0.8773291925465838\n"
     ]
    },
    {
     "name": "stderr",
     "output_type": "stream",
     "text": [
      "//anaconda3/lib/python3.7/site-packages/sklearn/linear_model/logistic.py:432: FutureWarning: Default solver will be changed to 'lbfgs' in 0.22. Specify a solver to silence this warning.\n",
      "  FutureWarning)\n"
     ]
    }
   ],
   "source": [
    "# Instantiate logistic regression.\n",
    "lr = LogisticRegression()\n",
    "\n",
    "# Fit logistic regression.\n",
    "lr.fit(X_train_tvec, y_train)\n",
    "\n",
    "# Evaluate logistic regression.\n",
    "print(f'Training Score: {lr.score(X_train_tvec, y_train)}')\n",
    "print(f'Testing Score: {lr.score(X_test_tvec, y_test)}')"
   ]
  },
  {
   "cell_type": "code",
   "execution_count": 65,
   "metadata": {},
   "outputs": [],
   "source": [
    "tvec_train_score = lr.score(X_train_tvec, y_train)"
   ]
  },
  {
   "cell_type": "code",
   "execution_count": 66,
   "metadata": {},
   "outputs": [],
   "source": [
    "tvec_test_score = lr.score(X_test_tvec, y_test)"
   ]
  },
  {
   "cell_type": "markdown",
   "metadata": {},
   "source": [
    "# Naive Bayes - Bernoulli (tvec)"
   ]
  },
  {
   "cell_type": "code",
   "execution_count": 67,
   "metadata": {},
   "outputs": [
    {
     "data": {
      "text/plain": [
       "BernoulliNB(alpha=1.0, binarize=0.0, class_prior=None, fit_prior=True)"
      ]
     },
     "execution_count": 67,
     "metadata": {},
     "output_type": "execute_result"
    }
   ],
   "source": [
    "clf = BernoulliNB()\n",
    "\n",
    "clf.fit(X_train_tvec, y_train)\n",
    "\n",
    "BernoulliNB(alpha=1.0, binarize=0.0, class_prior=None, fit_prior=True)"
   ]
  },
  {
   "cell_type": "code",
   "execution_count": 68,
   "metadata": {},
   "outputs": [
    {
     "data": {
      "text/plain": [
       "0.8505747126436781"
      ]
     },
     "execution_count": 68,
     "metadata": {},
     "output_type": "execute_result"
    }
   ],
   "source": [
    "clf.score(X_train_tvec, y_train)"
   ]
  },
  {
   "cell_type": "code",
   "execution_count": 69,
   "metadata": {},
   "outputs": [
    {
     "data": {
      "text/plain": [
       "0.8354037267080745"
      ]
     },
     "execution_count": 69,
     "metadata": {},
     "output_type": "execute_result"
    }
   ],
   "source": [
    "clf.score(X_test_tvec, y_test)"
   ]
  },
  {
   "cell_type": "code",
   "execution_count": 70,
   "metadata": {},
   "outputs": [],
   "source": [
    "bernoulli_train_score_tvec = clf.score(X_train_tvec, y_train)\n",
    "bernoulli_test_score_tvec = clf.score(X_test_tvec, y_test)"
   ]
  },
  {
   "cell_type": "markdown",
   "metadata": {},
   "source": [
    "# Gridsearching"
   ]
  },
  {
   "cell_type": "markdown",
   "metadata": {},
   "source": [
    "## Cvec"
   ]
  },
  {
   "cell_type": "code",
   "execution_count": 71,
   "metadata": {},
   "outputs": [],
   "source": [
    "import warnings"
   ]
  },
  {
   "cell_type": "code",
   "execution_count": 72,
   "metadata": {},
   "outputs": [],
   "source": [
    "warnings.filterwarnings('ignore')"
   ]
  },
  {
   "cell_type": "code",
   "execution_count": 73,
   "metadata": {},
   "outputs": [],
   "source": [
    "pipe = Pipeline([\n",
    "    ('cvec', CountVectorizer(lowercase=False)),\n",
    "    ('lr', LogisticRegression())\n",
    "])"
   ]
  },
  {
   "cell_type": "code",
   "execution_count": 74,
   "metadata": {},
   "outputs": [],
   "source": [
    "pipe_params = {'cvec__max_features': [100,500,1000],\n",
    "               'cvec__min_df': [1],\n",
    "               'cvec__max_df':[.50],\n",
    "               'cvec__stop_words':['english'],\n",
    "               'cvec__ngram_range': [(1,1), (1,2)]}"
   ]
  },
  {
   "cell_type": "code",
   "execution_count": 75,
   "metadata": {},
   "outputs": [],
   "source": [
    "gs = GridSearchCV(pipe, # what object are we optimizing?\n",
    "                  pipe_params, # what parameters values are we searching?\n",
    "                  cv=3) # 3-fold cross-validation."
   ]
  },
  {
   "cell_type": "code",
   "execution_count": 76,
   "metadata": {},
   "outputs": [],
   "source": [
    "gs.fit(X_train, y_train);"
   ]
  },
  {
   "cell_type": "code",
   "execution_count": 77,
   "metadata": {},
   "outputs": [
    {
     "name": "stdout",
     "output_type": "stream",
     "text": [
      "0.8827586206896552\n"
     ]
    }
   ],
   "source": [
    "print(gs.best_score_)"
   ]
  },
  {
   "cell_type": "code",
   "execution_count": 78,
   "metadata": {},
   "outputs": [
    {
     "data": {
      "text/plain": [
       "0.8827586206896552"
      ]
     },
     "execution_count": 78,
     "metadata": {},
     "output_type": "execute_result"
    }
   ],
   "source": [
    "grid_cvec_train_score = gs.best_score_\n",
    "grid_cvec_train_score"
   ]
  },
  {
   "cell_type": "code",
   "execution_count": 79,
   "metadata": {},
   "outputs": [],
   "source": [
    "#gs.fit(X_test, y_test);"
   ]
  },
  {
   "cell_type": "code",
   "execution_count": 80,
   "metadata": {},
   "outputs": [
    {
     "name": "stdout",
     "output_type": "stream",
     "text": [
      "0.8827586206896552\n"
     ]
    }
   ],
   "source": [
    "print(gs.best_score_)"
   ]
  },
  {
   "cell_type": "code",
   "execution_count": 81,
   "metadata": {},
   "outputs": [
    {
     "data": {
      "text/plain": [
       "0.8827586206896552"
      ]
     },
     "execution_count": 81,
     "metadata": {},
     "output_type": "execute_result"
    }
   ],
   "source": [
    "grid_cvec_test_score = gs.best_score_\n",
    "grid_cvec_test_score"
   ]
  },
  {
   "cell_type": "markdown",
   "metadata": {},
   "source": [
    "##  Tvec"
   ]
  },
  {
   "cell_type": "code",
   "execution_count": 82,
   "metadata": {},
   "outputs": [],
   "source": [
    "pipe2 = Pipeline([\n",
    "    ('tvec', TfidfVectorizer(lowercase=False)),\n",
    "    ('lr', LogisticRegression())\n",
    "])"
   ]
  },
  {
   "cell_type": "code",
   "execution_count": 83,
   "metadata": {},
   "outputs": [],
   "source": [
    "pipe_params2 = {'tvec__max_features': [100,500,1000], \n",
    "                'tvec__min_df': [1],\n",
    "                'tvec__max_df':[.50],\n",
    "                'tvec__stop_words':['english'],\n",
    "                'tvec__ngram_range': [(1,1), (1,2)]}"
   ]
  },
  {
   "cell_type": "code",
   "execution_count": 84,
   "metadata": {},
   "outputs": [],
   "source": [
    "gs2 = GridSearchCV(pipe2, # what object are we optimizing?\n",
    "                  pipe_params2, # what parameters values are we searching?\n",
    "                  cv=3) # 3-fold cross-validation."
   ]
  },
  {
   "cell_type": "code",
   "execution_count": 85,
   "metadata": {},
   "outputs": [],
   "source": [
    "gs2.fit(X_train, y_train);"
   ]
  },
  {
   "cell_type": "code",
   "execution_count": 86,
   "metadata": {},
   "outputs": [
    {
     "name": "stdout",
     "output_type": "stream",
     "text": [
      "0.881992337164751\n"
     ]
    }
   ],
   "source": [
    "print(gs2.best_score_)"
   ]
  },
  {
   "cell_type": "code",
   "execution_count": 87,
   "metadata": {},
   "outputs": [
    {
     "data": {
      "text/plain": [
       "0.881992337164751"
      ]
     },
     "execution_count": 87,
     "metadata": {},
     "output_type": "execute_result"
    }
   ],
   "source": [
    "grid_tvec_train_score = gs2.best_score_\n",
    "grid_tvec_train_score"
   ]
  },
  {
   "cell_type": "code",
   "execution_count": 88,
   "metadata": {},
   "outputs": [],
   "source": [
    "#gs2.fit(X_test, y_test);"
   ]
  },
  {
   "cell_type": "code",
   "execution_count": 89,
   "metadata": {},
   "outputs": [
    {
     "name": "stdout",
     "output_type": "stream",
     "text": [
      "0.881992337164751\n"
     ]
    }
   ],
   "source": [
    "print(gs2.best_score_)"
   ]
  },
  {
   "cell_type": "code",
   "execution_count": 90,
   "metadata": {},
   "outputs": [
    {
     "data": {
      "text/plain": [
       "0.881992337164751"
      ]
     },
     "execution_count": 90,
     "metadata": {},
     "output_type": "execute_result"
    }
   ],
   "source": [
    "grid_tvec_test_score = gs2.best_score_\n",
    "grid_tvec_test_score"
   ]
  },
  {
   "cell_type": "markdown",
   "metadata": {},
   "source": [
    "# Comparing the performance of our models"
   ]
  },
  {
   "cell_type": "markdown",
   "metadata": {},
   "source": [
    "## Cvec"
   ]
  },
  {
   "cell_type": "code",
   "execution_count": 91,
   "metadata": {},
   "outputs": [],
   "source": [
    "gs_model = gs.best_estimator_"
   ]
  },
  {
   "cell_type": "code",
   "execution_count": 92,
   "metadata": {},
   "outputs": [
    {
     "data": {
      "text/plain": [
       "0.9762452107279693"
      ]
     },
     "execution_count": 92,
     "metadata": {},
     "output_type": "execute_result"
    }
   ],
   "source": [
    "gs_model.score(X_train, y_train)"
   ]
  },
  {
   "cell_type": "code",
   "execution_count": 93,
   "metadata": {},
   "outputs": [
    {
     "data": {
      "text/plain": [
       "0.9762452107279693"
      ]
     },
     "execution_count": 93,
     "metadata": {},
     "output_type": "execute_result"
    }
   ],
   "source": [
    "gs_cvec_model_train_estimator = gs_model.score(X_train, y_train)\n",
    "gs_cvec_model_train_estimator"
   ]
  },
  {
   "cell_type": "code",
   "execution_count": 94,
   "metadata": {},
   "outputs": [],
   "source": [
    "#cv = gs_model['cvec']"
   ]
  },
  {
   "cell_type": "code",
   "execution_count": 95,
   "metadata": {
    "scrolled": true
   },
   "outputs": [
    {
     "data": {
      "text/plain": [
       "0.8680124223602484"
      ]
     },
     "execution_count": 95,
     "metadata": {},
     "output_type": "execute_result"
    }
   ],
   "source": [
    "gs_model.score(X_test, y_test)"
   ]
  },
  {
   "cell_type": "code",
   "execution_count": 96,
   "metadata": {},
   "outputs": [
    {
     "data": {
      "text/plain": [
       "0.8680124223602484"
      ]
     },
     "execution_count": 96,
     "metadata": {},
     "output_type": "execute_result"
    }
   ],
   "source": [
    "gs_cvec_model_test_estimator = gs_model.score(X_test, y_test)\n",
    "gs_cvec_model_test_estimator"
   ]
  },
  {
   "cell_type": "code",
   "execution_count": 97,
   "metadata": {},
   "outputs": [],
   "source": [
    "lr = gs_model['lr']"
   ]
  },
  {
   "cell_type": "code",
   "execution_count": 98,
   "metadata": {},
   "outputs": [
    {
     "data": {
      "text/plain": [
       "LogisticRegression(C=1.0, class_weight=None, dual=False, fit_intercept=True,\n",
       "                   intercept_scaling=1, l1_ratio=None, max_iter=100,\n",
       "                   multi_class='warn', n_jobs=None, penalty='l2',\n",
       "                   random_state=None, solver='warn', tol=0.0001, verbose=0,\n",
       "                   warm_start=False)"
      ]
     },
     "execution_count": 98,
     "metadata": {},
     "output_type": "execute_result"
    }
   ],
   "source": [
    "lr"
   ]
  },
  {
   "cell_type": "code",
   "execution_count": 99,
   "metadata": {},
   "outputs": [
    {
     "data": {
      "text/plain": [
       "1000"
      ]
     },
     "execution_count": 99,
     "metadata": {},
     "output_type": "execute_result"
    }
   ],
   "source": [
    "len(lr.coef_[0])"
   ]
  },
  {
   "cell_type": "markdown",
   "metadata": {},
   "source": [
    "## Tvec"
   ]
  },
  {
   "cell_type": "code",
   "execution_count": 100,
   "metadata": {},
   "outputs": [],
   "source": [
    "gs2_model = gs2.best_estimator_"
   ]
  },
  {
   "cell_type": "code",
   "execution_count": 101,
   "metadata": {
    "scrolled": true
   },
   "outputs": [
    {
     "data": {
      "text/plain": [
       "0.9233716475095786"
      ]
     },
     "execution_count": 101,
     "metadata": {},
     "output_type": "execute_result"
    }
   ],
   "source": [
    "gs2_model.score(X_train, y_train)"
   ]
  },
  {
   "cell_type": "code",
   "execution_count": 102,
   "metadata": {},
   "outputs": [
    {
     "data": {
      "text/plain": [
       "0.9233716475095786"
      ]
     },
     "execution_count": 102,
     "metadata": {},
     "output_type": "execute_result"
    }
   ],
   "source": [
    "gs_tvec_model_train_estimator= gs2_model.score(X_train, y_train)\n",
    "gs_tvec_model_train_estimator"
   ]
  },
  {
   "cell_type": "code",
   "execution_count": 103,
   "metadata": {},
   "outputs": [
    {
     "data": {
      "text/plain": [
       "0.8757763975155279"
      ]
     },
     "execution_count": 103,
     "metadata": {},
     "output_type": "execute_result"
    }
   ],
   "source": [
    "gs2_model.score(X_test, y_test)"
   ]
  },
  {
   "cell_type": "code",
   "execution_count": 104,
   "metadata": {},
   "outputs": [
    {
     "data": {
      "text/plain": [
       "0.8757763975155279"
      ]
     },
     "execution_count": 104,
     "metadata": {},
     "output_type": "execute_result"
    }
   ],
   "source": [
    "gs_tvec_model_test_estimator= gs2_model.score(X_test, y_test)\n",
    "gs_tvec_model_test_estimator"
   ]
  },
  {
   "cell_type": "markdown",
   "metadata": {},
   "source": [
    "# Decision Trees"
   ]
  },
  {
   "cell_type": "code",
   "execution_count": 105,
   "metadata": {},
   "outputs": [],
   "source": [
    "from sklearn.tree import DecisionTreeClassifier"
   ]
  },
  {
   "cell_type": "code",
   "execution_count": 106,
   "metadata": {},
   "outputs": [],
   "source": [
    "dt = DecisionTreeClassifier(random_state = 42)"
   ]
  },
  {
   "cell_type": "markdown",
   "metadata": {},
   "source": [
    "## Cvec Trees"
   ]
  },
  {
   "cell_type": "code",
   "execution_count": 107,
   "metadata": {},
   "outputs": [],
   "source": [
    "y = y_train\n",
    "X = X_train_cvec"
   ]
  },
  {
   "cell_type": "code",
   "execution_count": 108,
   "metadata": {},
   "outputs": [
    {
     "data": {
      "text/plain": [
       "DecisionTreeClassifier(class_weight=None, criterion='gini', max_depth=None,\n",
       "                       max_features=None, max_leaf_nodes=None,\n",
       "                       min_impurity_decrease=0.0, min_impurity_split=None,\n",
       "                       min_samples_leaf=1, min_samples_split=2,\n",
       "                       min_weight_fraction_leaf=0.0, presort=False,\n",
       "                       random_state=42, splitter='best')"
      ]
     },
     "execution_count": 108,
     "metadata": {},
     "output_type": "execute_result"
    }
   ],
   "source": [
    "dt.fit(X_train_cvec, y_train)"
   ]
  },
  {
   "cell_type": "code",
   "execution_count": 109,
   "metadata": {},
   "outputs": [
    {
     "name": "stdout",
     "output_type": "stream",
     "text": [
      "Score on training set: 1.0\n",
      "Score on testing set: 0.8307453416149069\n"
     ]
    }
   ],
   "source": [
    "print(f'Score on training set: {dt.score(X_train_cvec, y_train)}')\n",
    "print(f'Score on testing set: {dt.score(X_test_cvec, y_test)}')"
   ]
  },
  {
   "cell_type": "code",
   "execution_count": 110,
   "metadata": {},
   "outputs": [],
   "source": [
    "trees_cvec_train=dt.score(X_train_cvec, y_train)\n",
    "trees_cvec_test=dt.score(X_test_cvec, y_test)"
   ]
  },
  {
   "cell_type": "markdown",
   "metadata": {},
   "source": [
    "##  Cvec Trees w/ hyper_params"
   ]
  },
  {
   "cell_type": "code",
   "execution_count": 111,
   "metadata": {},
   "outputs": [],
   "source": [
    "dt = DecisionTreeClassifier(max_depth= 5,\n",
    "     min_samples_split= 7,\n",
    "     min_samples_leaf= 3,\n",
    "     random_state=42)"
   ]
  },
  {
   "cell_type": "code",
   "execution_count": 112,
   "metadata": {},
   "outputs": [
    {
     "data": {
      "text/plain": [
       "DecisionTreeClassifier(class_weight=None, criterion='gini', max_depth=5,\n",
       "                       max_features=None, max_leaf_nodes=None,\n",
       "                       min_impurity_decrease=0.0, min_impurity_split=None,\n",
       "                       min_samples_leaf=3, min_samples_split=7,\n",
       "                       min_weight_fraction_leaf=0.0, presort=False,\n",
       "                       random_state=42, splitter='best')"
      ]
     },
     "execution_count": 112,
     "metadata": {},
     "output_type": "execute_result"
    }
   ],
   "source": [
    "dt.fit(X_train_cvec, y_train)"
   ]
  },
  {
   "cell_type": "code",
   "execution_count": 113,
   "metadata": {},
   "outputs": [
    {
     "name": "stdout",
     "output_type": "stream",
     "text": [
      "Score on training set: 0.8467432950191571\n",
      "Score on testing set: 0.8338509316770186\n"
     ]
    }
   ],
   "source": [
    "print(f'Score on training set: {dt.score(X_train_cvec, y_train)}')\n",
    "print(f'Score on testing set: {dt.score(X_test_cvec, y_test)}')"
   ]
  },
  {
   "cell_type": "code",
   "execution_count": 114,
   "metadata": {},
   "outputs": [],
   "source": [
    "cvec_trees_train_params=dt.score(X_train_cvec, y_train)\n",
    "cvec_trees_test_params=dt.score(X_test_cvec, y_test)"
   ]
  },
  {
   "cell_type": "markdown",
   "metadata": {},
   "source": [
    "# Cvec Trees Gridsearch"
   ]
  },
  {
   "cell_type": "code",
   "execution_count": 115,
   "metadata": {},
   "outputs": [],
   "source": [
    "grid = {\n",
    "    'max_depth': [3,5,7,10],\n",
    "    'min_samples_split':[5,10,15,20],\n",
    "    'min_samples_leaf':[2,3,4,5,6,7]\n",
    "}"
   ]
  },
  {
   "cell_type": "code",
   "execution_count": 116,
   "metadata": {},
   "outputs": [
    {
     "name": "stdout",
     "output_type": "stream",
     "text": [
      "12.973068952560425\n"
     ]
    }
   ],
   "source": [
    "import time\n",
    "\n",
    "# Start our timer.\n",
    "t0 = time.time()\n",
    "\n",
    "# Let's GridSearch over the above parameters on our training data.\n",
    "gs = GridSearchCV(DecisionTreeClassifier(random_state=42),\n",
    "                  param_grid = grid,\n",
    "                  cv = 5)\n",
    "\n",
    "gs.fit(X_train_cvec, y_train)\n",
    "\n",
    "# Stop our timer and print the result.\n",
    "print(time.time()-t0)"
   ]
  },
  {
   "cell_type": "code",
   "execution_count": 117,
   "metadata": {},
   "outputs": [
    {
     "data": {
      "text/plain": [
       "({'max_depth': 10, 'min_samples_leaf': 6, 'min_samples_split': 20},\n",
       " 0.8390804597701149)"
      ]
     },
     "execution_count": 117,
     "metadata": {},
     "output_type": "execute_result"
    }
   ],
   "source": [
    "gs.best_params_, gs.best_score_"
   ]
  },
  {
   "cell_type": "code",
   "execution_count": 118,
   "metadata": {},
   "outputs": [
    {
     "name": "stdout",
     "output_type": "stream",
     "text": [
      "Score on training set: 0.8865900383141763\n",
      "Score on testing set: 0.843167701863354\n"
     ]
    }
   ],
   "source": [
    "dt = gs.best_estimator_\n",
    "\n",
    "# Fit model.\n",
    "dt.fit(X_train_cvec, y_train)\n",
    "\n",
    "# Evaluate model.\n",
    "print(f'Score on training set: {dt.score(X_train_cvec, y_train)}')\n",
    "print(f'Score on testing set: {dt.score(X_test_cvec, y_test)}')"
   ]
  },
  {
   "cell_type": "code",
   "execution_count": 119,
   "metadata": {},
   "outputs": [],
   "source": [
    "best_cvec_trees_model_train= dt.score(X_train_cvec, y_train)\n",
    "best_cvec_trees_model_test= dt.score(X_test_cvec, y_test)"
   ]
  },
  {
   "cell_type": "markdown",
   "metadata": {},
   "source": [
    "# Tvec Trees"
   ]
  },
  {
   "cell_type": "code",
   "execution_count": 120,
   "metadata": {},
   "outputs": [],
   "source": [
    "dt = DecisionTreeClassifier(random_state = 42)"
   ]
  },
  {
   "cell_type": "code",
   "execution_count": 121,
   "metadata": {},
   "outputs": [],
   "source": [
    "y = y_train\n",
    "X = X_train_tvec"
   ]
  },
  {
   "cell_type": "code",
   "execution_count": 122,
   "metadata": {},
   "outputs": [
    {
     "data": {
      "text/plain": [
       "DecisionTreeClassifier(class_weight=None, criterion='gini', max_depth=None,\n",
       "                       max_features=None, max_leaf_nodes=None,\n",
       "                       min_impurity_decrease=0.0, min_impurity_split=None,\n",
       "                       min_samples_leaf=1, min_samples_split=2,\n",
       "                       min_weight_fraction_leaf=0.0, presort=False,\n",
       "                       random_state=42, splitter='best')"
      ]
     },
     "execution_count": 122,
     "metadata": {},
     "output_type": "execute_result"
    }
   ],
   "source": [
    "dt.fit(X_train_tvec, y_train)"
   ]
  },
  {
   "cell_type": "code",
   "execution_count": 123,
   "metadata": {},
   "outputs": [
    {
     "name": "stdout",
     "output_type": "stream",
     "text": [
      "Score on training set: 1.0\n",
      "Score on testing set: 0.8043478260869565\n"
     ]
    }
   ],
   "source": [
    "print(f'Score on training set: {dt.score(X_train_tvec, y_train)}')\n",
    "print(f'Score on testing set: {dt.score(X_test_tvec, y_test)}')"
   ]
  },
  {
   "cell_type": "code",
   "execution_count": 124,
   "metadata": {},
   "outputs": [],
   "source": [
    "trees_tvec_train=dt.score(X_train_tvec, y_train)\n",
    "trees_tvec_test=dt.score(X_test_tvec, y_test)"
   ]
  },
  {
   "cell_type": "markdown",
   "metadata": {},
   "source": [
    "### Tvec Trees w/ Hyper_params"
   ]
  },
  {
   "cell_type": "code",
   "execution_count": 125,
   "metadata": {},
   "outputs": [],
   "source": [
    "dt = DecisionTreeClassifier(max_depth= 5,\n",
    "     min_samples_split= 7,\n",
    "     min_samples_leaf= 3,\n",
    "     random_state=42)"
   ]
  },
  {
   "cell_type": "code",
   "execution_count": 126,
   "metadata": {
    "scrolled": true
   },
   "outputs": [
    {
     "data": {
      "text/plain": [
       "DecisionTreeClassifier(class_weight=None, criterion='gini', max_depth=5,\n",
       "                       max_features=None, max_leaf_nodes=None,\n",
       "                       min_impurity_decrease=0.0, min_impurity_split=None,\n",
       "                       min_samples_leaf=3, min_samples_split=7,\n",
       "                       min_weight_fraction_leaf=0.0, presort=False,\n",
       "                       random_state=42, splitter='best')"
      ]
     },
     "execution_count": 126,
     "metadata": {},
     "output_type": "execute_result"
    }
   ],
   "source": [
    "dt.fit(X_train_tvec, y_train)"
   ]
  },
  {
   "cell_type": "code",
   "execution_count": 127,
   "metadata": {},
   "outputs": [
    {
     "name": "stdout",
     "output_type": "stream",
     "text": [
      "Score on training set: 0.8551724137931035\n",
      "Score on testing set: 0.8369565217391305\n"
     ]
    }
   ],
   "source": [
    "print(f'Score on training set: {dt.score(X_train_tvec, y_train)}')\n",
    "print(f'Score on testing set: {dt.score(X_test_tvec, y_test)}')"
   ]
  },
  {
   "cell_type": "code",
   "execution_count": 128,
   "metadata": {},
   "outputs": [],
   "source": [
    "tvec_trees_train_params=dt.score(X_train_tvec, y_train)\n",
    "tvec_trees_test_params=dt.score(X_test_tvec, y_test)"
   ]
  },
  {
   "cell_type": "markdown",
   "metadata": {},
   "source": [
    "# Tvec Trees Gridsearch"
   ]
  },
  {
   "cell_type": "code",
   "execution_count": 129,
   "metadata": {},
   "outputs": [],
   "source": [
    "grid = {\n",
    "    'max_depth': [3,5,7,10],\n",
    "    'min_samples_split':[5,10,15,20],\n",
    "    'min_samples_leaf':[2,3,4,5,6,7]\n",
    "}"
   ]
  },
  {
   "cell_type": "code",
   "execution_count": 130,
   "metadata": {},
   "outputs": [
    {
     "name": "stdout",
     "output_type": "stream",
     "text": [
      "15.559147119522095\n"
     ]
    }
   ],
   "source": [
    "import time\n",
    "\n",
    "# Start our timer.\n",
    "t0 = time.time()\n",
    "\n",
    "# Let's GridSearch over the above parameters on our training data.\n",
    "gs = GridSearchCV(DecisionTreeClassifier(random_state=42),\n",
    "                  param_grid = grid,\n",
    "                  cv = 5)\n",
    "\n",
    "gs.fit(X_train_tvec, y_train)\n",
    "\n",
    "# Stop our timer and print the result.\n",
    "print(time.time()-t0)"
   ]
  },
  {
   "cell_type": "code",
   "execution_count": 131,
   "metadata": {},
   "outputs": [
    {
     "data": {
      "text/plain": [
       "({'max_depth': 10, 'min_samples_leaf': 7, 'min_samples_split': 20},\n",
       " 0.8306513409961686)"
      ]
     },
     "execution_count": 131,
     "metadata": {},
     "output_type": "execute_result"
    }
   ],
   "source": [
    "gs.best_params_, gs.best_score_"
   ]
  },
  {
   "cell_type": "code",
   "execution_count": 132,
   "metadata": {},
   "outputs": [
    {
     "name": "stdout",
     "output_type": "stream",
     "text": [
      "Score on training set: 0.8957854406130268\n",
      "Score on testing set: 0.827639751552795\n"
     ]
    }
   ],
   "source": [
    "dt = gs.best_estimator_\n",
    "\n",
    "# Fit model.\n",
    "dt.fit(X_train_tvec, y_train)\n",
    "\n",
    "# Evaluate model.\n",
    "print(f'Score on training set: {dt.score(X_train_tvec, y_train)}')\n",
    "print(f'Score on testing set: {dt.score(X_test_tvec, y_test)}')"
   ]
  },
  {
   "cell_type": "code",
   "execution_count": 133,
   "metadata": {},
   "outputs": [],
   "source": [
    "best_tvec_trees_model_train= dt.score(X_train_tvec, y_train)\n",
    "best_tvec_trees_model_test= dt.score(X_test_tvec, y_test)"
   ]
  },
  {
   "cell_type": "markdown",
   "metadata": {},
   "source": [
    "# Bagclassifier"
   ]
  },
  {
   "cell_type": "markdown",
   "metadata": {},
   "source": [
    "### Cvec Bagclassifier"
   ]
  },
  {
   "cell_type": "code",
   "execution_count": 134,
   "metadata": {},
   "outputs": [],
   "source": [
    "from sklearn.ensemble import BaggingClassifier"
   ]
  },
  {
   "cell_type": "code",
   "execution_count": 135,
   "metadata": {
    "scrolled": true
   },
   "outputs": [
    {
     "data": {
      "text/plain": [
       "0.8742236024844721"
      ]
     },
     "execution_count": 135,
     "metadata": {},
     "output_type": "execute_result"
    }
   ],
   "source": [
    "# Instantiate BaggingClassifier.\n",
    "bag = BaggingClassifier(n_estimators= 1000,\n",
    "                       random_state=42)\n",
    "\n",
    "# Fit BaggingClassifier.\n",
    "bag.fit(X_train_cvec, y_train)\n",
    "\n",
    "# Score BaggingClassifier.\n",
    "bag.score(X_test_cvec, y_test)"
   ]
  },
  {
   "cell_type": "code",
   "execution_count": 136,
   "metadata": {},
   "outputs": [
    {
     "data": {
      "text/plain": [
       "1.0"
      ]
     },
     "execution_count": 136,
     "metadata": {},
     "output_type": "execute_result"
    }
   ],
   "source": [
    "bag.score(X_train_cvec, y_train)"
   ]
  },
  {
   "cell_type": "code",
   "execution_count": 137,
   "metadata": {},
   "outputs": [],
   "source": [
    "cvec_train_bagclassifier= bag.score(X_train_cvec, y_train)\n",
    "cvec_test_bagclassifier= bag.score(X_test_cvec, y_test)"
   ]
  },
  {
   "cell_type": "markdown",
   "metadata": {},
   "source": [
    "### Tvec bagclassifier"
   ]
  },
  {
   "cell_type": "code",
   "execution_count": 138,
   "metadata": {},
   "outputs": [
    {
     "data": {
      "text/plain": [
       "0.8711180124223602"
      ]
     },
     "execution_count": 138,
     "metadata": {},
     "output_type": "execute_result"
    }
   ],
   "source": [
    "# Instantiate BaggingClassifier.\n",
    "bag = BaggingClassifier(n_estimators= 1000,\n",
    "                       random_state=42)\n",
    "\n",
    "# Fit BaggingClassifier.\n",
    "bag.fit(X_train_tvec, y_train)\n",
    "\n",
    "# Score BaggingClassifier.\n",
    "bag.score(X_test_tvec, y_test)"
   ]
  },
  {
   "cell_type": "code",
   "execution_count": 139,
   "metadata": {},
   "outputs": [
    {
     "data": {
      "text/plain": [
       "1.0"
      ]
     },
     "execution_count": 139,
     "metadata": {},
     "output_type": "execute_result"
    }
   ],
   "source": [
    "bag.score(X_train_tvec, y_train)"
   ]
  },
  {
   "cell_type": "code",
   "execution_count": 140,
   "metadata": {},
   "outputs": [],
   "source": [
    "tvec_train_bagclassifier= bag.score(X_train_tvec, y_train)\n",
    "tvec_test_bagclassifier= bag.score(X_test_tvec, y_test)"
   ]
  },
  {
   "cell_type": "markdown",
   "metadata": {},
   "source": [
    "# Making a Table of Results"
   ]
  },
  {
   "cell_type": "code",
   "execution_count": 141,
   "metadata": {},
   "outputs": [],
   "source": [
    "Names= ['base',\n",
    "        'bernoulli score_cvec',\n",
    "        'cvec_score', \n",
    "        'bernoulli scoore tvec', \n",
    "        'tvec_score', \n",
    "        'cvec_best_score_gridsearch', \n",
    "        'tvec_best_score_gridsearch', \n",
    "        'gs_cvec_model_estimator',\n",
    "        'gs_tvec_model_estimator', \n",
    "        'trees_cvec_score', \n",
    "        'trees_tvec_score', \n",
    "        'Cvec Trees w/ hyper_params', \n",
    "        'Tvec Trees w/ hyper_params', \n",
    "        'Cvec Trees Gridsearch',\n",
    "        'Tvec Trees Gridsearch', \n",
    "        'cvec_bagclassifier_score', \n",
    "        'tvec_bagclassifier_score']"
   ]
  },
  {
   "cell_type": "code",
   "execution_count": 142,
   "metadata": {},
   "outputs": [],
   "source": [
    "Train = [train_base,\n",
    "         bernoulli_train_score_cvec,\n",
    "         cvec_train_score,\n",
    "         bernoulli_train_score_tvec,\n",
    "         tvec_train_score, \n",
    "         grid_cvec_train_score, \n",
    "         grid_tvec_train_score, \n",
    "         gs_cvec_model_train_estimator, \n",
    "         gs_tvec_model_train_estimator, \n",
    "         trees_cvec_train, \n",
    "         trees_tvec_train, \n",
    "         cvec_trees_train_params, \n",
    "         tvec_trees_train_params, \n",
    "         best_cvec_trees_model_train, \n",
    "         best_tvec_trees_model_train, \n",
    "         cvec_train_bagclassifier,\n",
    "         tvec_train_bagclassifier]"
   ]
  },
  {
   "cell_type": "code",
   "execution_count": 143,
   "metadata": {},
   "outputs": [],
   "source": [
    "Test = [test_base,\n",
    "        bernoulli_test_score_cvec,\n",
    "        cvec_test_score, \n",
    "        bernoulli_test_score_tvec,\n",
    "        tvec_test_score, \n",
    "        grid_cvec_test_score, \n",
    "        grid_tvec_test_score, \n",
    "        gs_cvec_model_test_estimator, \n",
    "        gs_tvec_model_test_estimator,\n",
    "        trees_cvec_test,\n",
    "        trees_tvec_test, \n",
    "        cvec_trees_test_params, \n",
    "        tvec_trees_test_params, \n",
    "        best_cvec_trees_model_test, \n",
    "        best_tvec_trees_model_test, \n",
    "        cvec_test_bagclassifier, \n",
    "        tvec_test_bagclassifier] "
   ]
  },
  {
   "cell_type": "code",
   "execution_count": 144,
   "metadata": {},
   "outputs": [
    {
     "data": {
      "text/plain": [
       "(17, 1)"
      ]
     },
     "execution_count": 144,
     "metadata": {},
     "output_type": "execute_result"
    }
   ],
   "source": [
    "df= pd.DataFrame(Names)\n",
    "df.shape"
   ]
  },
  {
   "cell_type": "code",
   "execution_count": 145,
   "metadata": {},
   "outputs": [
    {
     "data": {
      "text/html": [
       "<div>\n",
       "<style scoped>\n",
       "    .dataframe tbody tr th:only-of-type {\n",
       "        vertical-align: middle;\n",
       "    }\n",
       "\n",
       "    .dataframe tbody tr th {\n",
       "        vertical-align: top;\n",
       "    }\n",
       "\n",
       "    .dataframe thead th {\n",
       "        text-align: right;\n",
       "    }\n",
       "</style>\n",
       "<table border=\"1\" class=\"dataframe\">\n",
       "  <thead>\n",
       "    <tr style=\"text-align: right;\">\n",
       "      <th></th>\n",
       "      <th>0</th>\n",
       "    </tr>\n",
       "  </thead>\n",
       "  <tbody>\n",
       "    <tr>\n",
       "      <td>0</td>\n",
       "      <td>base</td>\n",
       "    </tr>\n",
       "    <tr>\n",
       "      <td>1</td>\n",
       "      <td>bernoulli score_cvec</td>\n",
       "    </tr>\n",
       "    <tr>\n",
       "      <td>2</td>\n",
       "      <td>cvec_score</td>\n",
       "    </tr>\n",
       "    <tr>\n",
       "      <td>3</td>\n",
       "      <td>bernoulli scoore tvec</td>\n",
       "    </tr>\n",
       "    <tr>\n",
       "      <td>4</td>\n",
       "      <td>tvec_score</td>\n",
       "    </tr>\n",
       "    <tr>\n",
       "      <td>5</td>\n",
       "      <td>cvec_best_score_gridsearch</td>\n",
       "    </tr>\n",
       "    <tr>\n",
       "      <td>6</td>\n",
       "      <td>tvec_best_score_gridsearch</td>\n",
       "    </tr>\n",
       "    <tr>\n",
       "      <td>7</td>\n",
       "      <td>gs_cvec_model_estimator</td>\n",
       "    </tr>\n",
       "    <tr>\n",
       "      <td>8</td>\n",
       "      <td>gs_tvec_model_estimator</td>\n",
       "    </tr>\n",
       "    <tr>\n",
       "      <td>9</td>\n",
       "      <td>trees_cvec_score</td>\n",
       "    </tr>\n",
       "    <tr>\n",
       "      <td>10</td>\n",
       "      <td>trees_tvec_score</td>\n",
       "    </tr>\n",
       "    <tr>\n",
       "      <td>11</td>\n",
       "      <td>Cvec Trees w/ hyper_params</td>\n",
       "    </tr>\n",
       "    <tr>\n",
       "      <td>12</td>\n",
       "      <td>Tvec Trees w/ hyper_params</td>\n",
       "    </tr>\n",
       "    <tr>\n",
       "      <td>13</td>\n",
       "      <td>Cvec Trees Gridsearch</td>\n",
       "    </tr>\n",
       "    <tr>\n",
       "      <td>14</td>\n",
       "      <td>Tvec Trees Gridsearch</td>\n",
       "    </tr>\n",
       "    <tr>\n",
       "      <td>15</td>\n",
       "      <td>cvec_bagclassifier_score</td>\n",
       "    </tr>\n",
       "    <tr>\n",
       "      <td>16</td>\n",
       "      <td>tvec_bagclassifier_score</td>\n",
       "    </tr>\n",
       "  </tbody>\n",
       "</table>\n",
       "</div>"
      ],
      "text/plain": [
       "                             0\n",
       "0                         base\n",
       "1         bernoulli score_cvec\n",
       "2                   cvec_score\n",
       "3        bernoulli scoore tvec\n",
       "4                   tvec_score\n",
       "5   cvec_best_score_gridsearch\n",
       "6   tvec_best_score_gridsearch\n",
       "7      gs_cvec_model_estimator\n",
       "8      gs_tvec_model_estimator\n",
       "9             trees_cvec_score\n",
       "10            trees_tvec_score\n",
       "11  Cvec Trees w/ hyper_params\n",
       "12  Tvec Trees w/ hyper_params\n",
       "13       Cvec Trees Gridsearch\n",
       "14       Tvec Trees Gridsearch\n",
       "15    cvec_bagclassifier_score\n",
       "16    tvec_bagclassifier_score"
      ]
     },
     "execution_count": 145,
     "metadata": {},
     "output_type": "execute_result"
    }
   ],
   "source": [
    "df"
   ]
  },
  {
   "cell_type": "code",
   "execution_count": 146,
   "metadata": {},
   "outputs": [],
   "source": [
    "df.drop([0], axis=1, inplace=True)"
   ]
  },
  {
   "cell_type": "code",
   "execution_count": 147,
   "metadata": {},
   "outputs": [
    {
     "data": {
      "text/html": [
       "<div>\n",
       "<style scoped>\n",
       "    .dataframe tbody tr th:only-of-type {\n",
       "        vertical-align: middle;\n",
       "    }\n",
       "\n",
       "    .dataframe tbody tr th {\n",
       "        vertical-align: top;\n",
       "    }\n",
       "\n",
       "    .dataframe thead th {\n",
       "        text-align: right;\n",
       "    }\n",
       "</style>\n",
       "<table border=\"1\" class=\"dataframe\">\n",
       "  <thead>\n",
       "    <tr style=\"text-align: right;\">\n",
       "      <th></th>\n",
       "      <th>Classification Model</th>\n",
       "      <th>Train_score</th>\n",
       "      <th>Test_Score</th>\n",
       "    </tr>\n",
       "  </thead>\n",
       "  <tbody>\n",
       "    <tr>\n",
       "      <td>0</td>\n",
       "      <td>base</td>\n",
       "      <td>0.490847</td>\n",
       "      <td>0.491879</td>\n",
       "    </tr>\n",
       "    <tr>\n",
       "      <td>1</td>\n",
       "      <td>bernoulli score_cvec</td>\n",
       "      <td>0.850575</td>\n",
       "      <td>0.835404</td>\n",
       "    </tr>\n",
       "    <tr>\n",
       "      <td>2</td>\n",
       "      <td>cvec_score</td>\n",
       "      <td>0.987739</td>\n",
       "      <td>0.883540</td>\n",
       "    </tr>\n",
       "    <tr>\n",
       "      <td>3</td>\n",
       "      <td>bernoulli scoore tvec</td>\n",
       "      <td>0.850575</td>\n",
       "      <td>0.835404</td>\n",
       "    </tr>\n",
       "    <tr>\n",
       "      <td>4</td>\n",
       "      <td>tvec_score</td>\n",
       "      <td>0.954023</td>\n",
       "      <td>0.877329</td>\n",
       "    </tr>\n",
       "    <tr>\n",
       "      <td>5</td>\n",
       "      <td>cvec_best_score_gridsearch</td>\n",
       "      <td>0.882759</td>\n",
       "      <td>0.882759</td>\n",
       "    </tr>\n",
       "    <tr>\n",
       "      <td>6</td>\n",
       "      <td>tvec_best_score_gridsearch</td>\n",
       "      <td>0.881992</td>\n",
       "      <td>0.881992</td>\n",
       "    </tr>\n",
       "    <tr>\n",
       "      <td>7</td>\n",
       "      <td>gs_cvec_model_estimator</td>\n",
       "      <td>0.976245</td>\n",
       "      <td>0.868012</td>\n",
       "    </tr>\n",
       "    <tr>\n",
       "      <td>8</td>\n",
       "      <td>gs_tvec_model_estimator</td>\n",
       "      <td>0.923372</td>\n",
       "      <td>0.875776</td>\n",
       "    </tr>\n",
       "    <tr>\n",
       "      <td>9</td>\n",
       "      <td>trees_cvec_score</td>\n",
       "      <td>1.000000</td>\n",
       "      <td>0.830745</td>\n",
       "    </tr>\n",
       "    <tr>\n",
       "      <td>10</td>\n",
       "      <td>trees_tvec_score</td>\n",
       "      <td>1.000000</td>\n",
       "      <td>0.804348</td>\n",
       "    </tr>\n",
       "    <tr>\n",
       "      <td>11</td>\n",
       "      <td>Cvec Trees w/ hyper_params</td>\n",
       "      <td>0.846743</td>\n",
       "      <td>0.833851</td>\n",
       "    </tr>\n",
       "    <tr>\n",
       "      <td>12</td>\n",
       "      <td>Tvec Trees w/ hyper_params</td>\n",
       "      <td>0.855172</td>\n",
       "      <td>0.836957</td>\n",
       "    </tr>\n",
       "    <tr>\n",
       "      <td>13</td>\n",
       "      <td>Cvec Trees Gridsearch</td>\n",
       "      <td>0.886590</td>\n",
       "      <td>0.843168</td>\n",
       "    </tr>\n",
       "    <tr>\n",
       "      <td>14</td>\n",
       "      <td>Tvec Trees Gridsearch</td>\n",
       "      <td>0.895785</td>\n",
       "      <td>0.827640</td>\n",
       "    </tr>\n",
       "    <tr>\n",
       "      <td>15</td>\n",
       "      <td>cvec_bagclassifier_score</td>\n",
       "      <td>1.000000</td>\n",
       "      <td>0.874224</td>\n",
       "    </tr>\n",
       "    <tr>\n",
       "      <td>16</td>\n",
       "      <td>tvec_bagclassifier_score</td>\n",
       "      <td>1.000000</td>\n",
       "      <td>0.871118</td>\n",
       "    </tr>\n",
       "  </tbody>\n",
       "</table>\n",
       "</div>"
      ],
      "text/plain": [
       "          Classification Model  Train_score  Test_Score\n",
       "0                         base     0.490847    0.491879\n",
       "1         bernoulli score_cvec     0.850575    0.835404\n",
       "2                   cvec_score     0.987739    0.883540\n",
       "3        bernoulli scoore tvec     0.850575    0.835404\n",
       "4                   tvec_score     0.954023    0.877329\n",
       "5   cvec_best_score_gridsearch     0.882759    0.882759\n",
       "6   tvec_best_score_gridsearch     0.881992    0.881992\n",
       "7      gs_cvec_model_estimator     0.976245    0.868012\n",
       "8      gs_tvec_model_estimator     0.923372    0.875776\n",
       "9             trees_cvec_score     1.000000    0.830745\n",
       "10            trees_tvec_score     1.000000    0.804348\n",
       "11  Cvec Trees w/ hyper_params     0.846743    0.833851\n",
       "12  Tvec Trees w/ hyper_params     0.855172    0.836957\n",
       "13       Cvec Trees Gridsearch     0.886590    0.843168\n",
       "14       Tvec Trees Gridsearch     0.895785    0.827640\n",
       "15    cvec_bagclassifier_score     1.000000    0.874224\n",
       "16    tvec_bagclassifier_score     1.000000    0.871118"
      ]
     },
     "execution_count": 147,
     "metadata": {},
     "output_type": "execute_result"
    }
   ],
   "source": [
    "df['Classification Model']= Names\n",
    "df['Train_score']= Train\n",
    "df['Test_Score']= Test\n",
    "df"
   ]
  },
  {
   "cell_type": "markdown",
   "metadata": {},
   "source": [
    "## Extra (graph of results)"
   ]
  },
  {
   "cell_type": "code",
   "execution_count": 148,
   "metadata": {},
   "outputs": [],
   "source": [
    "import numpy as np"
   ]
  },
  {
   "cell_type": "code",
   "execution_count": 149,
   "metadata": {},
   "outputs": [
    {
     "data": {
      "image/png": "[encoded data removed]",
      "text/plain": [
       "<Figure size 720x720 with 1 Axes>"
      ]
     },
     "metadata": {
      "needs_background": "light"
     },
     "output_type": "display_data"
    }
   ],
   "source": [
    "graphdf=pd.DataFrame({'x': range(0,17), 'y':  df['Test_Score']})\n",
    " \n",
    "# plot\n",
    "plt.figure(figsize=(10,10))\n",
    "plt.plot( 'x', 'y', data=graphdf, linestyle='-', marker='o')\n",
    "plt.title('Score changes in every attempt', fontsize=20)\n",
    "plt.xlabel('Attempt', fontsize=20)\n",
    "plt.xticks(range(17), Names, rotation=70, fontsize='15')\n",
    "plt.ylabel('Score', fontsize=20)\n",
    "plt.show()"
   ]
  },
  {
   "cell_type": "markdown",
   "metadata": {},
   "source": [
    "### Only Cvec graph"
   ]
  },
  {
   "cell_type": "code",
   "execution_count": 150,
   "metadata": {},
   "outputs": [],
   "source": [
    "Names2= ['base',\n",
    "        'bernoulli score_cvec',\n",
    "        'cvec_score', \n",
    "        'cvec_best_score_gridsearch',\n",
    "        'gs_cvec_model_estimator',\n",
    "        'trees_cvec_score', \n",
    "        'Cvec Trees w/ hyper_params',\n",
    "        'Cvec Trees Gridsearch',\n",
    "        'cvec_bagclassifier_score']"
   ]
  },
  {
   "cell_type": "code",
   "execution_count": 151,
   "metadata": {},
   "outputs": [],
   "source": [
    "Test2 = [test_base,\n",
    "        bernoulli_test_score_cvec,\n",
    "        cvec_test_score, \n",
    "        grid_cvec_test_score, \n",
    "        gs_cvec_model_test_estimator, \n",
    "        trees_cvec_test,\n",
    "        cvec_trees_test_params, \n",
    "        best_cvec_trees_model_test, \n",
    "        cvec_test_bagclassifier]"
   ]
  },
  {
   "cell_type": "code",
   "execution_count": 152,
   "metadata": {},
   "outputs": [
    {
     "data": {
      "text/html": [
       "<div>\n",
       "<style scoped>\n",
       "    .dataframe tbody tr th:only-of-type {\n",
       "        vertical-align: middle;\n",
       "    }\n",
       "\n",
       "    .dataframe tbody tr th {\n",
       "        vertical-align: top;\n",
       "    }\n",
       "\n",
       "    .dataframe thead th {\n",
       "        text-align: right;\n",
       "    }\n",
       "</style>\n",
       "<table border=\"1\" class=\"dataframe\">\n",
       "  <thead>\n",
       "    <tr style=\"text-align: right;\">\n",
       "      <th></th>\n",
       "      <th>Classification Model</th>\n",
       "      <th>Test_Score</th>\n",
       "    </tr>\n",
       "  </thead>\n",
       "  <tbody>\n",
       "    <tr>\n",
       "      <td>0</td>\n",
       "      <td>base</td>\n",
       "      <td>0.491879</td>\n",
       "    </tr>\n",
       "    <tr>\n",
       "      <td>1</td>\n",
       "      <td>bernoulli score_cvec</td>\n",
       "      <td>0.835404</td>\n",
       "    </tr>\n",
       "    <tr>\n",
       "      <td>2</td>\n",
       "      <td>cvec_score</td>\n",
       "      <td>0.883540</td>\n",
       "    </tr>\n",
       "    <tr>\n",
       "      <td>3</td>\n",
       "      <td>cvec_best_score_gridsearch</td>\n",
       "      <td>0.882759</td>\n",
       "    </tr>\n",
       "    <tr>\n",
       "      <td>4</td>\n",
       "      <td>gs_cvec_model_estimator</td>\n",
       "      <td>0.868012</td>\n",
       "    </tr>\n",
       "    <tr>\n",
       "      <td>5</td>\n",
       "      <td>trees_cvec_score</td>\n",
       "      <td>0.830745</td>\n",
       "    </tr>\n",
       "    <tr>\n",
       "      <td>6</td>\n",
       "      <td>Cvec Trees w/ hyper_params</td>\n",
       "      <td>0.833851</td>\n",
       "    </tr>\n",
       "    <tr>\n",
       "      <td>7</td>\n",
       "      <td>Cvec Trees Gridsearch</td>\n",
       "      <td>0.843168</td>\n",
       "    </tr>\n",
       "    <tr>\n",
       "      <td>8</td>\n",
       "      <td>cvec_bagclassifier_score</td>\n",
       "      <td>0.874224</td>\n",
       "    </tr>\n",
       "  </tbody>\n",
       "</table>\n",
       "</div>"
      ],
      "text/plain": [
       "         Classification Model  Test_Score\n",
       "0                        base    0.491879\n",
       "1        bernoulli score_cvec    0.835404\n",
       "2                  cvec_score    0.883540\n",
       "3  cvec_best_score_gridsearch    0.882759\n",
       "4     gs_cvec_model_estimator    0.868012\n",
       "5            trees_cvec_score    0.830745\n",
       "6  Cvec Trees w/ hyper_params    0.833851\n",
       "7       Cvec Trees Gridsearch    0.843168\n",
       "8    cvec_bagclassifier_score    0.874224"
      ]
     },
     "execution_count": 152,
     "metadata": {},
     "output_type": "execute_result"
    }
   ],
   "source": [
    "df2= pd.DataFrame(Test2)\n",
    "df2.drop([0], axis=1, inplace=True)\n",
    "df2['Classification Model']= Names2\n",
    "df2['Test_Score']= Test2\n",
    "\n",
    "df2"
   ]
  },
  {
   "cell_type": "code",
   "execution_count": 153,
   "metadata": {},
   "outputs": [
    {
     "data": {
      "image/png": "[encoded data removed]",
      "text/plain": [
       "<Figure size 720x720 with 1 Axes>"
      ]
     },
     "metadata": {
      "needs_background": "light"
     },
     "output_type": "display_data"
    }
   ],
   "source": [
    "graphdf=pd.DataFrame({'x': range(0,9), 'y':  df2['Test_Score']})\n",
    " \n",
    "# plot\n",
    "plt.figure(figsize=(10,10))\n",
    "plt.plot( 'x', 'y', data=graphdf, linestyle='-', marker='o')\n",
    "plt.title('Score changes in every Cvec attempt', fontsize=20)\n",
    "plt.xlabel('Attempt', fontsize=20)\n",
    "plt.xticks(range(9), Names2, rotation=90, fontsize='15')\n",
    "plt.ylabel('Score', fontsize=20)\n",
    "xposition = [2]\n",
    "for xc in xposition:\n",
    "    plt.axvline(x=xc, color='r', linestyle='--')\n",
    "plt.axhline(y=0.883540, color='r', linestyle='--')\n",
    "plt.show()"
   ]
  },
  {
   "cell_type": "markdown",
   "metadata": {},
   "source": [
    "### Only Cvec graph"
   ]
  },
  {
   "cell_type": "code",
   "execution_count": 154,
   "metadata": {},
   "outputs": [],
   "source": [
    "Names3= ['base',\n",
    "        'bernoulli scoore tvec', \n",
    "        'tvec_score',\n",
    "        'tvec_best_score_gridsearch',\n",
    "        'gs_tvec_model_estimator',\n",
    "        'trees_tvec_score',\n",
    "        'Tvec Trees w/ hyper_params',\n",
    "        'Tvec Trees Gridsearch', \n",
    "        'tvec_bagclassifier_score']"
   ]
  },
  {
   "cell_type": "code",
   "execution_count": 155,
   "metadata": {},
   "outputs": [],
   "source": [
    "Test3 = [test_base,\n",
    "        bernoulli_test_score_tvec,\n",
    "        tvec_test_score,\n",
    "        grid_tvec_test_score,\n",
    "        gs_tvec_model_test_estimator,\n",
    "        trees_tvec_test, \n",
    "        tvec_trees_test_params, \n",
    "        best_tvec_trees_model_test, \n",
    "        tvec_test_bagclassifier] "
   ]
  },
  {
   "cell_type": "code",
   "execution_count": 156,
   "metadata": {},
   "outputs": [
    {
     "data": {
      "text/html": [
       "<div>\n",
       "<style scoped>\n",
       "    .dataframe tbody tr th:only-of-type {\n",
       "        vertical-align: middle;\n",
       "    }\n",
       "\n",
       "    .dataframe tbody tr th {\n",
       "        vertical-align: top;\n",
       "    }\n",
       "\n",
       "    .dataframe thead th {\n",
       "        text-align: right;\n",
       "    }\n",
       "</style>\n",
       "<table border=\"1\" class=\"dataframe\">\n",
       "  <thead>\n",
       "    <tr style=\"text-align: right;\">\n",
       "      <th></th>\n",
       "      <th>Classification Model</th>\n",
       "      <th>Test_Score</th>\n",
       "    </tr>\n",
       "  </thead>\n",
       "  <tbody>\n",
       "    <tr>\n",
       "      <td>0</td>\n",
       "      <td>base</td>\n",
       "      <td>0.491879</td>\n",
       "    </tr>\n",
       "    <tr>\n",
       "      <td>1</td>\n",
       "      <td>bernoulli scoore tvec</td>\n",
       "      <td>0.835404</td>\n",
       "    </tr>\n",
       "    <tr>\n",
       "      <td>2</td>\n",
       "      <td>tvec_score</td>\n",
       "      <td>0.877329</td>\n",
       "    </tr>\n",
       "    <tr>\n",
       "      <td>3</td>\n",
       "      <td>tvec_best_score_gridsearch</td>\n",
       "      <td>0.881992</td>\n",
       "    </tr>\n",
       "    <tr>\n",
       "      <td>4</td>\n",
       "      <td>gs_tvec_model_estimator</td>\n",
       "      <td>0.875776</td>\n",
       "    </tr>\n",
       "    <tr>\n",
       "      <td>5</td>\n",
       "      <td>trees_tvec_score</td>\n",
       "      <td>0.804348</td>\n",
       "    </tr>\n",
       "    <tr>\n",
       "      <td>6</td>\n",
       "      <td>Tvec Trees w/ hyper_params</td>\n",
       "      <td>0.836957</td>\n",
       "    </tr>\n",
       "    <tr>\n",
       "      <td>7</td>\n",
       "      <td>Tvec Trees Gridsearch</td>\n",
       "      <td>0.827640</td>\n",
       "    </tr>\n",
       "    <tr>\n",
       "      <td>8</td>\n",
       "      <td>tvec_bagclassifier_score</td>\n",
       "      <td>0.871118</td>\n",
       "    </tr>\n",
       "  </tbody>\n",
       "</table>\n",
       "</div>"
      ],
      "text/plain": [
       "         Classification Model  Test_Score\n",
       "0                        base    0.491879\n",
       "1       bernoulli scoore tvec    0.835404\n",
       "2                  tvec_score    0.877329\n",
       "3  tvec_best_score_gridsearch    0.881992\n",
       "4     gs_tvec_model_estimator    0.875776\n",
       "5            trees_tvec_score    0.804348\n",
       "6  Tvec Trees w/ hyper_params    0.836957\n",
       "7       Tvec Trees Gridsearch    0.827640\n",
       "8    tvec_bagclassifier_score    0.871118"
      ]
     },
     "execution_count": 156,
     "metadata": {},
     "output_type": "execute_result"
    }
   ],
   "source": [
    "df3= pd.DataFrame(Test3)\n",
    "df3.drop([0], axis=1, inplace=True)\n",
    "df3['Classification Model']= Names3\n",
    "df3['Test_Score']= Test3\n",
    "\n",
    "df3"
   ]
  },
  {
   "cell_type": "code",
   "execution_count": 157,
   "metadata": {},
   "outputs": [
    {
     "data": {
      "image/png": "[encoded data removed]",
      "text/plain": [
       "<Figure size 720x720 with 1 Axes>"
      ]
     },
     "metadata": {
      "needs_background": "light"
     },
     "output_type": "display_data"
    }
   ],
   "source": [
    "graphdf=pd.DataFrame({'x': range(0,9), 'y':  df3['Test_Score']})\n",
    " \n",
    "# plot\n",
    "plt.figure(figsize=(10,10))\n",
    "plt.plot( 'x', 'y', data=graphdf, linestyle='-', marker='o')\n",
    "plt.title('Score changes in every Tvec attemp', fontsize=20)\n",
    "plt.xlabel('Attempt', fontsize=20)\n",
    "plt.xticks(range(9), Names3, rotation=90, fontsize='15')\n",
    "plt.ylabel('Score', fontsize=20)\n",
    "plt.show()"
   ]
  },
  {
   "cell_type": "markdown",
   "metadata": {},
   "source": [
    "# Conclusions:\n",
    "**The evaluation of the findings obtained in this jupyter notebook will be discussed in the .readme as well as in the presentation. The study presented here serves to collect the data which will later be evaluated in relation to the pertaining questions of the project.**"
   ]
  }
 ],
 "metadata": {
  "kernelspec": {
   "display_name": "Python 3",
   "language": "python",
   "name": "python3"
  },
  "language_info": {
   "codemirror_mode": {
    "name": "ipython",
    "version": 3
   },
   "file_extension": ".py",
   "mimetype": "text/x-python",
   "name": "python",
   "nbconvert_exporter": "python",
   "pygments_lexer": "ipython3",
   "version": "3.7.3"
  }
 },
 "nbformat": 4,
 "nbformat_minor": 2
}
