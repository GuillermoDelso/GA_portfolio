{
 "cells": [
  {
   "cell_type": "markdown",
   "metadata": {},
   "source": [
    "# Project 3 part 2"
   ]
  },
  {
   "cell_type": "markdown",
   "metadata": {},
   "source": [
    "# The problem:\n",
    "**The saying goes like this: \"(There's) no such thing as a stupid question (only a stupid answer)\"** \n",
    "\n",
    "The Boston Institute of Linguistics (BIL) wants to obtain hard evidence on the extent to which this saying is true. While the underlying goal of this saying is to support the quest for knowledge (by getting rid of the fear to look 'not-smart' for asking questions), the BIL believes that there might be some linguistic truth in this saying. \n",
    "\n",
    "They want us to analyze whether there is much difference between the questions that obtain serious responses, and those that obtain 'bad-responses'. \n",
    "\n",
    "\n",
    "The BIL has asked us to look for 'subreddits' where the answers given to potentially normal questions are bad responses, and to compare them to the questions from another subreddit where the questions receive good/normal responses. "
   ]
  },
  {
   "cell_type": "markdown",
   "metadata": {},
   "source": [
    "<details><summary>Theory behind it</summary>\n",
    "\n",
    "> $H_0:$ There are good and bad questions. Good questions tend to receive good answers and bad questions tend to receive bad answers.\n",
    "\n",
    "> $H_A:$ Questions can be relatively similar , yet are still able to receive both good and bad answers.\n",
    "\n",
    "- If there is a big difference between the two, then it not disprove the null-hypothesis, since it might be that bad questions DO lead to bad responses. \n",
    "- On the other hand, if the questions are difficult to differentiate (questions that receive bad responses are similar to questions that receive good responses), then we prove the alternative hypothesis that 'there is not such a thing as a stupid question, only stupid answers'. \n",
    "</details>"
   ]
  },
  {
   "cell_type": "markdown",
   "metadata": {},
   "source": [
    "For this task we have chosen the subreddits of r/Advice and r/shittyadvice. In the former, the questions receive normal reponses, while in the later, the questions receive bad responses.\n",
    "We will contribute to BIL's study by responding the following questions:\n",
    "    - To what extent can we differentiate whether a post is from the r/Advice subreddit or from the r/shittysubreddit, by only looking at the post titles? \n",
    "    - How can we improve our predictions?"
   ]
  },
  {
   "cell_type": "markdown",
   "metadata": {},
   "source": [
    "For this project, the goal is two-fold:\n",
    "1. Using Reddit's API, we'll collect posts from the two aforementioned subreddits.\n",
    "2. We'll then use NLP to train a classifier on which subreddit a given post came from. This is a binary classification problem."
   ]
  },
  {
   "cell_type": "markdown",
   "metadata": {},
   "source": [
    "**In this Jupyter Notebook, we will focus on the *second* part of the project.**"
   ]
  },
  {
   "cell_type": "code",
   "execution_count": 21,
   "metadata": {},
   "outputs": [],
   "source": [
    "import pandas as pd\n",
    "import pandas as pd\n",
    "from sklearn.pipeline import Pipeline\n",
    "from sklearn.model_selection import train_test_split, GridSearchCV\n",
    "from sklearn.linear_model import LogisticRegression\n",
    "import matplotlib.pyplot as plt\n",
    "import seaborn as sns\n",
    "from sklearn.tree import DecisionTreeClassifier"
   ]
  },
  {
   "cell_type": "markdown",
   "metadata": {},
   "source": [
    "## Read the data:\n",
    "First we need to read the dataframe we created in the part 1 of the project"
   ]
  },
  {
   "cell_type": "code",
   "execution_count": 22,
   "metadata": {},
   "outputs": [],
   "source": [
    "data = pd.read_csv('../data (gathered)/project3.csv', encoding = 'ISO-8859-1')"
   ]
  },
  {
   "cell_type": "code",
   "execution_count": 23,
   "metadata": {},
   "outputs": [
    {
     "data": {
      "text/html": [
       "<div>\n",
       "<style scoped>\n",
       "    .dataframe tbody tr th:only-of-type {\n",
       "        vertical-align: middle;\n",
       "    }\n",
       "\n",
       "    .dataframe tbody tr th {\n",
       "        vertical-align: top;\n",
       "    }\n",
       "\n",
       "    .dataframe thead th {\n",
       "        text-align: right;\n",
       "    }\n",
       "</style>\n",
       "<table border=\"1\" class=\"dataframe\">\n",
       "  <thead>\n",
       "    <tr style=\"text-align: right;\">\n",
       "      <th></th>\n",
       "      <th>Unnamed: 0</th>\n",
       "      <th>titles</th>\n",
       "      <th>text</th>\n",
       "      <th>subreddit type</th>\n",
       "    </tr>\n",
       "  </thead>\n",
       "  <tbody>\n",
       "    <tr>\n",
       "      <td>0</td>\n",
       "      <td>5097</td>\n",
       "      <td>Hey it's 9/11, so what kinds of sales and door...</td>\n",
       "      <td>NaN</td>\n",
       "      <td>0</td>\n",
       "    </tr>\n",
       "    <tr>\n",
       "      <td>1</td>\n",
       "      <td>5310</td>\n",
       "      <td>I think the ghost haunting my house is into me...</td>\n",
       "      <td>NaN</td>\n",
       "      <td>0</td>\n",
       "    </tr>\n",
       "    <tr>\n",
       "      <td>2</td>\n",
       "      <td>957</td>\n",
       "      <td>I have feelings for someone I met online. I do...</td>\n",
       "      <td>I haven't had feelings for anyone in years, le...</td>\n",
       "      <td>1</td>\n",
       "    </tr>\n",
       "    <tr>\n",
       "      <td>3</td>\n",
       "      <td>306</td>\n",
       "      <td>Is this kids hair color black or brown?</td>\n",
       "      <td>Tell me reddit, black or brown?\\n\\nhttps://med...</td>\n",
       "      <td>1</td>\n",
       "    </tr>\n",
       "    <tr>\n",
       "      <td>4</td>\n",
       "      <td>5088</td>\n",
       "      <td>Im gonna keep this post simple</td>\n",
       "      <td>Alright guys, how would one go about getting f...</td>\n",
       "      <td>0</td>\n",
       "    </tr>\n",
       "  </tbody>\n",
       "</table>\n",
       "</div>"
      ],
      "text/plain": [
       "   Unnamed: 0                                             titles  \\\n",
       "0        5097  Hey it's 9/11, so what kinds of sales and door...   \n",
       "1        5310  I think the ghost haunting my house is into me...   \n",
       "2         957  I have feelings for someone I met online. I do...   \n",
       "3         306            Is this kids hair color black or brown?   \n",
       "4        5088                     Im gonna keep this post simple   \n",
       "\n",
       "                                                text  subreddit type  \n",
       "0                                                NaN               0  \n",
       "1                                                NaN               0  \n",
       "2  I haven't had feelings for anyone in years, le...               1  \n",
       "3  Tell me reddit, black or brown?\\n\\nhttps://med...               1  \n",
       "4  Alright guys, how would one go about getting f...               0  "
      ]
     },
     "execution_count": 23,
     "metadata": {},
     "output_type": "execute_result"
    }
   ],
   "source": [
    "# We take a look at the 'head' and 'tail' of the dataframe to see what is made of.\n",
    "data.head()"
   ]
  },
  {
   "cell_type": "code",
   "execution_count": 24,
   "metadata": {},
   "outputs": [
    {
     "data": {
      "text/html": [
       "<div>\n",
       "<style scoped>\n",
       "    .dataframe tbody tr th:only-of-type {\n",
       "        vertical-align: middle;\n",
       "    }\n",
       "\n",
       "    .dataframe tbody tr th {\n",
       "        vertical-align: top;\n",
       "    }\n",
       "\n",
       "    .dataframe thead th {\n",
       "        text-align: right;\n",
       "    }\n",
       "</style>\n",
       "<table border=\"1\" class=\"dataframe\">\n",
       "  <thead>\n",
       "    <tr style=\"text-align: right;\">\n",
       "      <th></th>\n",
       "      <th>Unnamed: 0</th>\n",
       "      <th>titles</th>\n",
       "      <th>text</th>\n",
       "      <th>subreddit type</th>\n",
       "    </tr>\n",
       "  </thead>\n",
       "  <tbody>\n",
       "    <tr>\n",
       "      <td>1944</td>\n",
       "      <td>529</td>\n",
       "      <td>Does my Username sound like follow the christi...</td>\n",
       "      <td>NaN</td>\n",
       "      <td>1</td>\n",
       "    </tr>\n",
       "    <tr>\n",
       "      <td>1945</td>\n",
       "      <td>5950</td>\n",
       "      <td>Swiped right on my cousin who is married.</td>\n",
       "      <td>Was drunk and she's hot, think I have a chance?</td>\n",
       "      <td>0</td>\n",
       "    </tr>\n",
       "    <tr>\n",
       "      <td>1946</td>\n",
       "      <td>297</td>\n",
       "      <td>Any advice on tickling myself in my sleep ?</td>\n",
       "      <td>Iâve been told and do have videos of my tick...</td>\n",
       "      <td>1</td>\n",
       "    </tr>\n",
       "    <tr>\n",
       "      <td>1947</td>\n",
       "      <td>726</td>\n",
       "      <td>Wife (34f) whose husband (35m) told her she is...</td>\n",
       "      <td>My husband and I have been married for 11 year...</td>\n",
       "      <td>1</td>\n",
       "    </tr>\n",
       "    <tr>\n",
       "      <td>1948</td>\n",
       "      <td>692</td>\n",
       "      <td>Is it weird that I dry and not wash my clothes?</td>\n",
       "      <td>So I usually do all my laundry every weekend, ...</td>\n",
       "      <td>1</td>\n",
       "    </tr>\n",
       "  </tbody>\n",
       "</table>\n",
       "</div>"
      ],
      "text/plain": [
       "      Unnamed: 0                                             titles  \\\n",
       "1944         529  Does my Username sound like follow the christi...   \n",
       "1945        5950          Swiped right on my cousin who is married.   \n",
       "1946         297        Any advice on tickling myself in my sleep ?   \n",
       "1947         726  Wife (34f) whose husband (35m) told her she is...   \n",
       "1948         692    Is it weird that I dry and not wash my clothes?   \n",
       "\n",
       "                                                   text  subreddit type  \n",
       "1944                                                NaN               1  \n",
       "1945    Was drunk and she's hot, think I have a chance?               0  \n",
       "1946  Iâve been told and do have videos of my tick...               1  \n",
       "1947  My husband and I have been married for 11 year...               1  \n",
       "1948  So I usually do all my laundry every weekend, ...               1  "
      ]
     },
     "execution_count": 24,
     "metadata": {},
     "output_type": "execute_result"
    }
   ],
   "source": [
    "data.tail()"
   ]
  },
  {
   "cell_type": "code",
   "execution_count": 25,
   "metadata": {},
   "outputs": [
    {
     "data": {
      "text/plain": [
       "0    991\n",
       "1    958\n",
       "Name: subreddit type, dtype: int64"
      ]
     },
     "execution_count": 25,
     "metadata": {},
     "output_type": "execute_result"
    }
   ],
   "source": [
    "# We also check (again) that we have sufficient data from both of the subreddits.\n",
    "data['subreddit type'].value_counts()"
   ]
  },
  {
   "cell_type": "markdown",
   "metadata": {},
   "source": [
    "**Comment:** we can see that we do not have unbalanced data, which is a good thing."
   ]
  },
  {
   "cell_type": "code",
   "execution_count": 26,
   "metadata": {},
   "outputs": [
    {
     "data": {
      "text/plain": [
       "(1949, 4)"
      ]
     },
     "execution_count": 26,
     "metadata": {},
     "output_type": "execute_result"
    }
   ],
   "source": [
    "# Looking at the data shape we notice that we have one more column than we had in part 1 (the previous Jupyter notebook)\n",
    "data.shape"
   ]
  },
  {
   "cell_type": "markdown",
   "metadata": {},
   "source": [
    "### Dropping missing values\n",
    "We look at the missing values we have and decide whether to drop them or not."
   ]
  },
  {
   "cell_type": "code",
   "execution_count": 27,
   "metadata": {},
   "outputs": [
    {
     "data": {
      "text/plain": [
       "Unnamed: 0          0\n",
       "titles              0\n",
       "text              715\n",
       "subreddit type      0\n",
       "dtype: int64"
      ]
     },
     "execution_count": 27,
     "metadata": {},
     "output_type": "execute_result"
    }
   ],
   "source": [
    "data.isnull().sum()"
   ]
  },
  {
   "cell_type": "markdown",
   "metadata": {},
   "source": [
    "**Comment:** We notice that there are 715 rows that are missing the text.\n",
    "Dropping them would mean loosing almost half of our data. Moreover, the missing text comes mostly from the second subreddit (shittyadvice). Dropping all the text values would make our model unbalanced. \n",
    "Since we are focusing on the titles for our X values, we decide to not drop the rows."
   ]
  },
  {
   "cell_type": "code",
   "execution_count": 28,
   "metadata": {},
   "outputs": [],
   "source": [
    "# First, we created a model without the rows that had missing values, but this model was worse than the others.\n",
    "#data.dropna(inplace=True)"
   ]
  },
  {
   "cell_type": "markdown",
   "metadata": {},
   "source": [
    "### Dropping unnecessary columns:\n",
    "We proceed to drop the unnecessary columns (e.g. 'Unnamed: 0')"
   ]
  },
  {
   "cell_type": "code",
   "execution_count": 29,
   "metadata": {},
   "outputs": [],
   "source": [
    "data.drop('Unnamed: 0', axis=1, inplace=True)"
   ]
  },
  {
   "cell_type": "code",
   "execution_count": 30,
   "metadata": {
    "scrolled": true
   },
   "outputs": [
    {
     "data": {
      "text/html": [
       "<div>\n",
       "<style scoped>\n",
       "    .dataframe tbody tr th:only-of-type {\n",
       "        vertical-align: middle;\n",
       "    }\n",
       "\n",
       "    .dataframe tbody tr th {\n",
       "        vertical-align: top;\n",
       "    }\n",
       "\n",
       "    .dataframe thead th {\n",
       "        text-align: right;\n",
       "    }\n",
       "</style>\n",
       "<table border=\"1\" class=\"dataframe\">\n",
       "  <thead>\n",
       "    <tr style=\"text-align: right;\">\n",
       "      <th></th>\n",
       "      <th>titles</th>\n",
       "      <th>text</th>\n",
       "      <th>subreddit type</th>\n",
       "    </tr>\n",
       "  </thead>\n",
       "  <tbody>\n",
       "    <tr>\n",
       "      <td>0</td>\n",
       "      <td>Hey it's 9/11, so what kinds of sales and door...</td>\n",
       "      <td>NaN</td>\n",
       "      <td>0</td>\n",
       "    </tr>\n",
       "    <tr>\n",
       "      <td>1</td>\n",
       "      <td>I think the ghost haunting my house is into me...</td>\n",
       "      <td>NaN</td>\n",
       "      <td>0</td>\n",
       "    </tr>\n",
       "    <tr>\n",
       "      <td>2</td>\n",
       "      <td>I have feelings for someone I met online. I do...</td>\n",
       "      <td>I haven't had feelings for anyone in years, le...</td>\n",
       "      <td>1</td>\n",
       "    </tr>\n",
       "    <tr>\n",
       "      <td>3</td>\n",
       "      <td>Is this kids hair color black or brown?</td>\n",
       "      <td>Tell me reddit, black or brown?\\n\\nhttps://med...</td>\n",
       "      <td>1</td>\n",
       "    </tr>\n",
       "    <tr>\n",
       "      <td>4</td>\n",
       "      <td>Im gonna keep this post simple</td>\n",
       "      <td>Alright guys, how would one go about getting f...</td>\n",
       "      <td>0</td>\n",
       "    </tr>\n",
       "  </tbody>\n",
       "</table>\n",
       "</div>"
      ],
      "text/plain": [
       "                                              titles  \\\n",
       "0  Hey it's 9/11, so what kinds of sales and door...   \n",
       "1  I think the ghost haunting my house is into me...   \n",
       "2  I have feelings for someone I met online. I do...   \n",
       "3            Is this kids hair color black or brown?   \n",
       "4                     Im gonna keep this post simple   \n",
       "\n",
       "                                                text  subreddit type  \n",
       "0                                                NaN               0  \n",
       "1                                                NaN               0  \n",
       "2  I haven't had feelings for anyone in years, le...               1  \n",
       "3  Tell me reddit, black or brown?\\n\\nhttps://med...               1  \n",
       "4  Alright guys, how would one go about getting f...               0  "
      ]
     },
     "execution_count": 30,
     "metadata": {},
     "output_type": "execute_result"
    }
   ],
   "source": [
    "data.head()"
   ]
  },
  {
   "cell_type": "code",
   "execution_count": 31,
   "metadata": {},
   "outputs": [
    {
     "data": {
      "text/plain": [
       "(1949, 3)"
      ]
     },
     "execution_count": 31,
     "metadata": {},
     "output_type": "execute_result"
    }
   ],
   "source": [
    "# We check to see whether the shape is the same as in part 1 of the project (1949,3)\n",
    "data.shape"
   ]
  },
  {
   "cell_type": "markdown",
   "metadata": {},
   "source": [
    "# EDA\n",
    "We proceed to the EDA"
   ]
  },
  {
   "cell_type": "markdown",
   "metadata": {},
   "source": [
    "- We will be taking the 'titles' as our X variable (since it has no missing values.\n",
    "- We will be using the 'subreddit type' column as our y variable. "
   ]
  },
  {
   "cell_type": "code",
   "execution_count": 32,
   "metadata": {},
   "outputs": [],
   "source": [
    "X = data['titles']\n",
    "y = data['subreddit type']"
   ]
  },
  {
   "cell_type": "code",
   "execution_count": 33,
   "metadata": {},
   "outputs": [
    {
     "data": {
      "text/plain": [
       "0    991\n",
       "1    958\n",
       "Name: subreddit type, dtype: int64"
      ]
     },
     "execution_count": 33,
     "metadata": {},
     "output_type": "execute_result"
    }
   ],
   "source": [
    "y.value_counts()"
   ]
  },
  {
   "cell_type": "code",
   "execution_count": 34,
   "metadata": {},
   "outputs": [
    {
     "data": {
      "text/plain": [
       "0    0.508466\n",
       "1    0.491534\n",
       "Name: subreddit type, dtype: float64"
      ]
     },
     "execution_count": 34,
     "metadata": {},
     "output_type": "execute_result"
    }
   ],
   "source": [
    "y.value_counts(normalize=True)"
   ]
  },
  {
   "cell_type": "code",
   "execution_count": 35,
   "metadata": {
    "scrolled": true
   },
   "outputs": [
    {
     "data": {
      "image/png": "[encoded data removed]",
      "text/plain": [
       "<Figure size 1800x720 with 1 Axes>"
      ]
     },
     "metadata": {},
     "output_type": "display_data"
    }
   ],
   "source": [
    "plt.figure(figsize=(25, 10))\n",
    "labels=['ShittyAdvice', 'Advice']\n",
    "plt.pie(y.value_counts(normalize=True), labels=labels,  autopct='%1.0f%%');"
   ]
  },
  {
   "cell_type": "code",
   "execution_count": 36,
   "metadata": {},
   "outputs": [
    {
     "data": {
      "text/plain": [
       "(1949,)"
      ]
     },
     "execution_count": 36,
     "metadata": {},
     "output_type": "execute_result"
    }
   ],
   "source": [
    "y.shape"
   ]
  },
  {
   "cell_type": "markdown",
   "metadata": {},
   "source": [
    "We look at the distribution of lenght of titles to see how long are they on average and whether there is a skew."
   ]
  },
  {
   "cell_type": "code",
   "execution_count": 37,
   "metadata": {},
   "outputs": [],
   "source": [
    "len_status = [len(s) for s in X]"
   ]
  },
  {
   "cell_type": "code",
   "execution_count": 38,
   "metadata": {},
   "outputs": [],
   "source": [
    "import matplotlib.pyplot as plt"
   ]
  },
  {
   "cell_type": "code",
   "execution_count": 39,
   "metadata": {},
   "outputs": [
    {
     "data": {
      "text/plain": [
       "(array([393., 739., 419., 208.,  98.,  40.,  23.,  10.,  11.,   8.]),\n",
       " array([  2. ,  31.8,  61.6,  91.4, 121.2, 151. , 180.8, 210.6, 240.4,\n",
       "        270.2, 300. ]),\n",
       " <a list of 10 Patch objects>)"
      ]
     },
     "execution_count": 39,
     "metadata": {},
     "output_type": "execute_result"
    },
    {
     "data": {
      "image/png": "[encoded data removed]",
      "text/plain": [
       "<Figure size 432x288 with 1 Axes>"
      ]
     },
     "metadata": {
      "needs_background": "light"
     },
     "output_type": "display_data"
    }
   ],
   "source": [
    "plt.hist(len_status)"
   ]
  },
  {
   "cell_type": "code",
   "execution_count": 40,
   "metadata": {},
   "outputs": [
    {
     "data": {
      "text/plain": [
       "Text(0.5, 1.0, 'Length of each title (characters)')"
      ]
     },
     "execution_count": 40,
     "metadata": {},
     "output_type": "execute_result"
    },
    {
     "data": {
      "image/png": "[encoded data removed]",
      "text/plain": [
       "<Figure size 1440x432 with 1 Axes>"
      ]
     },
     "metadata": {
      "needs_background": "light"
     },
     "output_type": "display_data"
    }
   ],
   "source": [
    "plt.figure(figsize=(20, 6))\n",
    "sns.distplot(len_status)\n",
    "plt.title('Length of each title (characters)', fontsize=20)"
   ]
  },
  {
   "cell_type": "code",
   "execution_count": 41,
   "metadata": {},
   "outputs": [
    {
     "data": {
      "text/plain": [
       "(array([ 58.,  45.,  77., 104., 145., 243., 136., 126., 111., 104., 189.,\n",
       "         65.,  59.,  58.,  50.,  80.,  27.,  25.,  34.,  37.,  51.,  13.,\n",
       "         11.,   4.,  11.,  15.,   7.,   9.,   6.,   6.,   7.,   3.,   2.,\n",
       "          1.,   3.,   8.,   0.,   2.,   2.,   1.,   3.,   1.,   1.,   1.,\n",
       "          2.,   2.,   0.,   1.,   1.,   2.]),\n",
       " array([ 1. ,  2.2,  3.4,  4.6,  5.8,  7. ,  8.2,  9.4, 10.6, 11.8, 13. ,\n",
       "        14.2, 15.4, 16.6, 17.8, 19. , 20.2, 21.4, 22.6, 23.8, 25. , 26.2,\n",
       "        27.4, 28.6, 29.8, 31. , 32.2, 33.4, 34.6, 35.8, 37. , 38.2, 39.4,\n",
       "        40.6, 41.8, 43. , 44.2, 45.4, 46.6, 47.8, 49. , 50.2, 51.4, 52.6,\n",
       "        53.8, 55. , 56.2, 57.4, 58.6, 59.8, 61. ]),\n",
       " <a list of 50 Patch objects>)"
      ]
     },
     "execution_count": 41,
     "metadata": {},
     "output_type": "execute_result"
    },
    {
     "data": {
      "image/png": "[encoded data removed]",
      "text/plain": [
       "<Figure size 432x288 with 1 Axes>"
      ]
     },
     "metadata": {
      "needs_background": "light"
     },
     "output_type": "display_data"
    }
   ],
   "source": [
    "num_words= [len(s.split(' ')) for s in X]\n",
    "plt.hist(num_words, bins=50)"
   ]
  },
  {
   "cell_type": "code",
   "execution_count": 42,
   "metadata": {},
   "outputs": [
    {
     "data": {
      "text/plain": [
       "Text(0.5, 1.0, 'Length of each title (#\\xa0words)')"
      ]
     },
     "execution_count": 42,
     "metadata": {},
     "output_type": "execute_result"
    },
    {
     "data": {
      "image/png": "[encoded data removed]",
      "text/plain": [
       "<Figure size 1440x432 with 1 Axes>"
      ]
     },
     "metadata": {
      "needs_background": "light"
     },
     "output_type": "display_data"
    }
   ],
   "source": [
    "plt.figure(figsize=(20, 6))\n",
    "sns.distplot(num_words)\n",
    "plt.title('Length of each title (# words)', fontsize=20)"
   ]
  },
  {
   "cell_type": "markdown",
   "metadata": {},
   "source": [
    "There seems to be a bit of a right skew.\n",
    "- In other words, some titles are very long.\n",
    "    - The explanation for this is that some titles explain the whole situation, while others use the text to explain the situation."
   ]
  },
  {
   "cell_type": "markdown",
   "metadata": {},
   "source": [
    "# Cvec and Tvec Log vs Cvec and Tvec Bernoulli"
   ]
  },
  {
   "cell_type": "code",
   "execution_count": 43,
   "metadata": {},
   "outputs": [],
   "source": [
    "from sklearn.feature_extraction.text import CountVectorizer, TfidfVectorizer"
   ]
  },
  {
   "cell_type": "markdown",
   "metadata": {},
   "source": [
    "## Base values (to check whether our models improve them)"
   ]
  },
  {
   "cell_type": "code",
   "execution_count": 44,
   "metadata": {},
   "outputs": [],
   "source": [
    "X_train, X_test, y_train, y_test = train_test_split(X,\n",
    "                                                    y,\n",
    "                                                    test_size=0.33,\n",
    "                                                    stratify=y,\n",
    "                                                    random_state=42)"
   ]
  },
  {
   "cell_type": "code",
   "execution_count": 45,
   "metadata": {},
   "outputs": [
    {
     "data": {
      "text/plain": [
       "0    0.508812\n",
       "1    0.491188\n",
       "Name: subreddit type, dtype: float64"
      ]
     },
     "execution_count": 45,
     "metadata": {},
     "output_type": "execute_result"
    }
   ],
   "source": [
    "y_train.value_counts(normalize=True)"
   ]
  },
  {
   "cell_type": "code",
   "execution_count": 46,
   "metadata": {},
   "outputs": [
    {
     "data": {
      "text/plain": [
       "0    0.507764\n",
       "1    0.492236\n",
       "Name: subreddit type, dtype: float64"
      ]
     },
     "execution_count": 46,
     "metadata": {},
     "output_type": "execute_result"
    }
   ],
   "source": [
    "y_test.value_counts(normalize=True)"
   ]
  },
  {
   "cell_type": "code",
   "execution_count": 47,
   "metadata": {},
   "outputs": [],
   "source": [
    "train_base = 0.491188\n",
    "test_base = 0.492236"
   ]
  },
  {
   "cell_type": "markdown",
   "metadata": {},
   "source": [
    "## Fitting Cvec"
   ]
  },
  {
   "cell_type": "code",
   "execution_count": 48,
   "metadata": {},
   "outputs": [],
   "source": [
    "cvec = CountVectorizer(stop_words='english')"
   ]
  },
  {
   "cell_type": "code",
   "execution_count": 49,
   "metadata": {},
   "outputs": [],
   "source": [
    "X_train_cvec = cvec.fit_transform(X_train)"
   ]
  },
  {
   "cell_type": "code",
   "execution_count": 50,
   "metadata": {},
   "outputs": [],
   "source": [
    "X_test_cvec = cvec.transform(X_test)"
   ]
  },
  {
   "cell_type": "code",
   "execution_count": 51,
   "metadata": {},
   "outputs": [
    {
     "data": {
      "text/plain": [
       "0    0.507764\n",
       "1    0.492236\n",
       "Name: subreddit type, dtype: float64"
      ]
     },
     "execution_count": 51,
     "metadata": {},
     "output_type": "execute_result"
    }
   ],
   "source": [
    "y_test.value_counts(normalize=True) "
   ]
  },
  {
   "cell_type": "code",
   "execution_count": 52,
   "metadata": {},
   "outputs": [
    {
     "name": "stdout",
     "output_type": "stream",
     "text": [
      "Training Score: 0.9662835249042145\n",
      "Testing Score: 0.6987577639751553\n"
     ]
    },
    {
     "name": "stderr",
     "output_type": "stream",
     "text": [
      "//anaconda3/lib/python3.7/site-packages/sklearn/linear_model/logistic.py:432: FutureWarning: Default solver will be changed to 'lbfgs' in 0.22. Specify a solver to silence this warning.\n",
      "  FutureWarning)\n"
     ]
    }
   ],
   "source": [
    "# Instantiate logistic regression.\n",
    "lr = LogisticRegression()\n",
    "\n",
    "# Fit logistic regression.\n",
    "lr.fit(X_train_cvec, y_train)\n",
    "\n",
    "# Evaluate logistic regression.\n",
    "print(f'Training Score: {lr.score(X_train_cvec, y_train)}')\n",
    "print(f'Testing Score: {lr.score(X_test_cvec, y_test)}')"
   ]
  },
  {
   "cell_type": "code",
   "execution_count": 53,
   "metadata": {},
   "outputs": [],
   "source": [
    "cvec_train_score = lr.score(X_train_cvec, y_train)"
   ]
  },
  {
   "cell_type": "code",
   "execution_count": 54,
   "metadata": {},
   "outputs": [],
   "source": [
    "cvec_test_score  = lr.score(X_test_cvec, y_test)"
   ]
  },
  {
   "cell_type": "code",
   "execution_count": 55,
   "metadata": {},
   "outputs": [],
   "source": [
    "def get_top_n_words(corpus, n=None):\n",
    "\n",
    "    vec = CountVectorizer(stop_words='english').fit(corpus)\n",
    "    bag_of_words = vec.transform(corpus)\n",
    "    sum_words = bag_of_words.sum(axis=0) \n",
    "    words_freq = [(word, sum_words[0, idx]) for word, idx in vec.vocabulary_.items()]\n",
    "    words_freq =sorted(words_freq, key = lambda x: x[1], reverse=True)\n",
    "    return words_freq[:n]"
   ]
  },
  {
   "cell_type": "code",
   "execution_count": 56,
   "metadata": {},
   "outputs": [],
   "source": [
    "aa = data['titles'].loc[data['subreddit type']==1]"
   ]
  },
  {
   "cell_type": "code",
   "execution_count": 57,
   "metadata": {},
   "outputs": [
    {
     "data": {
      "text/plain": [
       "(958,)"
      ]
     },
     "execution_count": 57,
     "metadata": {},
     "output_type": "execute_result"
    }
   ],
   "source": [
    "aa.shape"
   ]
  },
  {
   "cell_type": "code",
   "execution_count": 58,
   "metadata": {
    "scrolled": true
   },
   "outputs": [
    {
     "data": {
      "text/plain": [
       "[('friend', 78),\n",
       " ('help', 73),\n",
       " ('advice', 70),\n",
       " ('need', 69),\n",
       " ('iâ', 67),\n",
       " ('know', 49),\n",
       " ('want', 48),\n",
       " ('like', 43),\n",
       " ('just', 42),\n",
       " ('friends', 38),\n",
       " ('job', 37),\n",
       " ('life', 32),\n",
       " ('girl', 32),\n",
       " ('feel', 32),\n",
       " ('work', 31),\n",
       " ('school', 31),\n",
       " ('don', 27),\n",
       " ('stop', 27),\n",
       " ('donâ', 26),\n",
       " ('best', 25),\n",
       " ('time', 24),\n",
       " ('going', 24),\n",
       " ('make', 24),\n",
       " ('boyfriend', 23),\n",
       " ('ex', 22),\n",
       " ('old', 22),\n",
       " ('really', 22),\n",
       " ('college', 21),\n",
       " ('parents', 21),\n",
       " ('think', 21),\n",
       " ('getting', 20),\n",
       " ('year', 18),\n",
       " ('new', 17),\n",
       " ('got', 17),\n",
       " ('girlfriend', 17),\n",
       " ('ask', 16),\n",
       " ('tell', 16),\n",
       " ('trying', 15),\n",
       " ('lost', 15),\n",
       " ('having', 15),\n",
       " ('way', 14),\n",
       " ('people', 14),\n",
       " ('ve', 14),\n",
       " ('mom', 13),\n",
       " ('brother', 13),\n",
       " ('im', 13),\n",
       " ('love', 13),\n",
       " ('sure', 13),\n",
       " ('good', 13),\n",
       " ('crush', 12)]"
      ]
     },
     "execution_count": 58,
     "metadata": {},
     "output_type": "execute_result"
    }
   ],
   "source": [
    "get_top_n_words(aa, n=50)"
   ]
  },
  {
   "cell_type": "code",
   "execution_count": 59,
   "metadata": {},
   "outputs": [],
   "source": [
    "bb = data['titles'].loc[data['subreddit type']==0]"
   ]
  },
  {
   "cell_type": "code",
   "execution_count": 60,
   "metadata": {},
   "outputs": [
    {
     "data": {
      "text/plain": [
       "(991,)"
      ]
     },
     "execution_count": 60,
     "metadata": {},
     "output_type": "execute_result"
    }
   ],
   "source": [
    "bb.shape"
   ]
  },
  {
   "cell_type": "code",
   "execution_count": 61,
   "metadata": {
    "scrolled": true
   },
   "outputs": [
    {
     "data": {
      "text/plain": [
       "[('just', 67),\n",
       " ('want', 53),\n",
       " ('best', 53),\n",
       " ('make', 49),\n",
       " ('iâ', 48),\n",
       " ('need', 42),\n",
       " ('help', 40),\n",
       " ('way', 38),\n",
       " ('don', 37),\n",
       " ('know', 35),\n",
       " ('like', 35),\n",
       " ('wife', 31),\n",
       " ('stop', 28),\n",
       " ('work', 28),\n",
       " ('girlfriend', 28),\n",
       " ('got', 26),\n",
       " ('really', 26),\n",
       " ('time', 26),\n",
       " ('advice', 26),\n",
       " ('new', 25),\n",
       " ('day', 25),\n",
       " ('good', 25),\n",
       " ('people', 25),\n",
       " ('think', 24),\n",
       " ('going', 23),\n",
       " ('girl', 23),\n",
       " ('ve', 22),\n",
       " ('told', 21),\n",
       " ('tell', 20),\n",
       " ('does', 20),\n",
       " ('sex', 19),\n",
       " ('reddit', 19),\n",
       " ('ask', 18),\n",
       " ('says', 18),\n",
       " ('life', 18),\n",
       " ('use', 17),\n",
       " ('money', 17),\n",
       " ('year', 16),\n",
       " ('dog', 16),\n",
       " ('car', 16),\n",
       " ('having', 16),\n",
       " ('cat', 15),\n",
       " ('sure', 15),\n",
       " ('house', 14),\n",
       " ('right', 14),\n",
       " ('getting', 14),\n",
       " ('guy', 14),\n",
       " ('buy', 14),\n",
       " ('friend', 14),\n",
       " ('friends', 14)]"
      ]
     },
     "execution_count": 61,
     "metadata": {},
     "output_type": "execute_result"
    }
   ],
   "source": [
    "get_top_n_words(bb, n=50)"
   ]
  },
  {
   "cell_type": "code",
   "execution_count": 62,
   "metadata": {
    "scrolled": true
   },
   "outputs": [],
   "source": [
    "top_words= get_top_n_words(bb, n=25)"
   ]
  },
  {
   "cell_type": "code",
   "execution_count": 63,
   "metadata": {},
   "outputs": [],
   "source": [
    "cvec_features = cvec.get_feature_names()"
   ]
  },
  {
   "cell_type": "markdown",
   "metadata": {},
   "source": [
    "# Naive Bayes - Bernoulli (cvec)"
   ]
  },
  {
   "cell_type": "code",
   "execution_count": 64,
   "metadata": {},
   "outputs": [
    {
     "data": {
      "text/plain": [
       "BernoulliNB(alpha=1.0, binarize=0.0, class_prior=None, fit_prior=True)"
      ]
     },
     "execution_count": 64,
     "metadata": {},
     "output_type": "execute_result"
    }
   ],
   "source": [
    "from sklearn.naive_bayes import BernoulliNB\n",
    "clf = BernoulliNB()\n",
    "\n",
    "clf.fit(X_train_cvec, y_train)\n",
    "\n",
    "BernoulliNB(alpha=1.0, binarize=0.0, class_prior=None, fit_prior=True)"
   ]
  },
  {
   "cell_type": "code",
   "execution_count": 65,
   "metadata": {},
   "outputs": [
    {
     "data": {
      "text/plain": [
       "0.9195402298850575"
      ]
     },
     "execution_count": 65,
     "metadata": {},
     "output_type": "execute_result"
    }
   ],
   "source": [
    "clf.score(X_train_cvec, y_train)"
   ]
  },
  {
   "cell_type": "code",
   "execution_count": 66,
   "metadata": {},
   "outputs": [
    {
     "data": {
      "text/plain": [
       "0.6863354037267081"
      ]
     },
     "execution_count": 66,
     "metadata": {},
     "output_type": "execute_result"
    }
   ],
   "source": [
    "clf.score(X_test_cvec, y_test)"
   ]
  },
  {
   "cell_type": "code",
   "execution_count": 67,
   "metadata": {},
   "outputs": [],
   "source": [
    "bernoulli_train_score_cvec = clf.score(X_train_cvec, y_train)\n",
    "bernoulli_test_score_cvec = clf.score(X_test_cvec, y_test)"
   ]
  },
  {
   "cell_type": "markdown",
   "metadata": {},
   "source": [
    "# Fitting Tvec"
   ]
  },
  {
   "cell_type": "code",
   "execution_count": 68,
   "metadata": {},
   "outputs": [],
   "source": [
    "tvec = TfidfVectorizer(stop_words='english')"
   ]
  },
  {
   "cell_type": "code",
   "execution_count": 69,
   "metadata": {},
   "outputs": [],
   "source": [
    "X_train_tvec = tvec.fit_transform(X_train)"
   ]
  },
  {
   "cell_type": "code",
   "execution_count": 70,
   "metadata": {},
   "outputs": [
    {
     "data": {
      "text/plain": [
       "(1305, 3038)"
      ]
     },
     "execution_count": 70,
     "metadata": {},
     "output_type": "execute_result"
    }
   ],
   "source": [
    "X_train_tvec.shape"
   ]
  },
  {
   "cell_type": "code",
   "execution_count": 71,
   "metadata": {},
   "outputs": [
    {
     "data": {
      "text/plain": [
       "matrix([[0., 0., 0., 0., 0., 0., 0., 0., 0., 0., 0., 0., 0., 0., 0., 0.,\n",
       "         0., 0., 0., 0., 0., 0., 0., 0., 0., 0., 0., 0., 0., 0.],\n",
       "        [0., 0., 0., 0., 0., 0., 0., 0., 0., 0., 0., 0., 0., 0., 0., 0.,\n",
       "         0., 0., 0., 0., 0., 0., 0., 0., 0., 0., 0., 0., 0., 0.],\n",
       "        [0., 0., 0., 0., 0., 0., 0., 0., 0., 0., 0., 0., 0., 0., 0., 0.,\n",
       "         0., 0., 0., 0., 0., 0., 0., 0., 0., 0., 0., 0., 0., 0.],\n",
       "        [0., 0., 0., 0., 0., 0., 0., 0., 0., 0., 0., 0., 0., 0., 0., 0.,\n",
       "         0., 0., 0., 0., 0., 0., 0., 0., 0., 0., 0., 0., 0., 0.],\n",
       "        [0., 0., 0., 0., 0., 0., 0., 0., 0., 0., 0., 0., 0., 0., 0., 0.,\n",
       "         0., 0., 0., 0., 0., 0., 0., 0., 0., 0., 0., 0., 0., 0.]])"
      ]
     },
     "execution_count": 71,
     "metadata": {},
     "output_type": "execute_result"
    }
   ],
   "source": [
    "X_train_tvec.todense()[:5,:30]"
   ]
  },
  {
   "cell_type": "code",
   "execution_count": 72,
   "metadata": {},
   "outputs": [],
   "source": [
    "X_test_tvec = tvec.transform(X_test)"
   ]
  },
  {
   "cell_type": "code",
   "execution_count": 73,
   "metadata": {},
   "outputs": [
    {
     "name": "stdout",
     "output_type": "stream",
     "text": [
      "Training Score: 0.9325670498084291\n",
      "Testing Score: 0.7065217391304348\n"
     ]
    },
    {
     "name": "stderr",
     "output_type": "stream",
     "text": [
      "//anaconda3/lib/python3.7/site-packages/sklearn/linear_model/logistic.py:432: FutureWarning: Default solver will be changed to 'lbfgs' in 0.22. Specify a solver to silence this warning.\n",
      "  FutureWarning)\n"
     ]
    }
   ],
   "source": [
    "# Instantiate logistic regression.\n",
    "lr = LogisticRegression()\n",
    "\n",
    "# Fit logistic regression.\n",
    "lr.fit(X_train_tvec, y_train)\n",
    "\n",
    "# Evaluate logistic regression.\n",
    "print(f'Training Score: {lr.score(X_train_tvec, y_train)}')\n",
    "print(f'Testing Score: {lr.score(X_test_tvec, y_test)}')"
   ]
  },
  {
   "cell_type": "code",
   "execution_count": 74,
   "metadata": {},
   "outputs": [],
   "source": [
    "tvec_train_score = lr.score(X_train_tvec, y_train)"
   ]
  },
  {
   "cell_type": "code",
   "execution_count": 75,
   "metadata": {},
   "outputs": [],
   "source": [
    "tvec_test_score = lr.score(X_test_tvec, y_test)"
   ]
  },
  {
   "cell_type": "markdown",
   "metadata": {},
   "source": [
    "# Naive Bayes - Bernoulli (tvec)"
   ]
  },
  {
   "cell_type": "code",
   "execution_count": 76,
   "metadata": {},
   "outputs": [
    {
     "data": {
      "text/plain": [
       "BernoulliNB(alpha=1.0, binarize=0.0, class_prior=None, fit_prior=True)"
      ]
     },
     "execution_count": 76,
     "metadata": {},
     "output_type": "execute_result"
    }
   ],
   "source": [
    "clf = BernoulliNB()\n",
    "\n",
    "clf.fit(X_train_tvec, y_train)\n",
    "\n",
    "BernoulliNB(alpha=1.0, binarize=0.0, class_prior=None, fit_prior=True)"
   ]
  },
  {
   "cell_type": "code",
   "execution_count": 77,
   "metadata": {},
   "outputs": [
    {
     "data": {
      "text/plain": [
       "0.9195402298850575"
      ]
     },
     "execution_count": 77,
     "metadata": {},
     "output_type": "execute_result"
    }
   ],
   "source": [
    "clf.score(X_train_tvec, y_train)"
   ]
  },
  {
   "cell_type": "code",
   "execution_count": 78,
   "metadata": {},
   "outputs": [
    {
     "data": {
      "text/plain": [
       "0.6863354037267081"
      ]
     },
     "execution_count": 78,
     "metadata": {},
     "output_type": "execute_result"
    }
   ],
   "source": [
    "clf.score(X_test_tvec, y_test)"
   ]
  },
  {
   "cell_type": "code",
   "execution_count": 79,
   "metadata": {},
   "outputs": [],
   "source": [
    "bernoulli_train_score_tvec = clf.score(X_train_tvec, y_train)\n",
    "bernoulli_test_score_tvec = clf.score(X_test_tvec, y_test)"
   ]
  },
  {
   "cell_type": "markdown",
   "metadata": {},
   "source": [
    "# Gridsearching"
   ]
  },
  {
   "cell_type": "markdown",
   "metadata": {},
   "source": [
    "## Cvec"
   ]
  },
  {
   "cell_type": "code",
   "execution_count": 80,
   "metadata": {},
   "outputs": [],
   "source": [
    "import warnings"
   ]
  },
  {
   "cell_type": "code",
   "execution_count": 81,
   "metadata": {},
   "outputs": [],
   "source": [
    "warnings.filterwarnings('ignore')"
   ]
  },
  {
   "cell_type": "code",
   "execution_count": 82,
   "metadata": {},
   "outputs": [],
   "source": [
    "pipe = Pipeline([\n",
    "    ('cvec', CountVectorizer(lowercase=False)),\n",
    "    ('lr', LogisticRegression())\n",
    "])"
   ]
  },
  {
   "cell_type": "code",
   "execution_count": 83,
   "metadata": {},
   "outputs": [],
   "source": [
    "pipe_params = {'cvec__max_features': [100,500,1000],\n",
    "               'cvec__min_df': [1],\n",
    "               'cvec__max_df':[50],\n",
    "               'cvec__stop_words':['english'],\n",
    "               'cvec__ngram_range': [(1,1), (1,2)]}"
   ]
  },
  {
   "cell_type": "code",
   "execution_count": 84,
   "metadata": {},
   "outputs": [],
   "source": [
    "gs = GridSearchCV(pipe, # what object are we optimizing?\n",
    "                  pipe_params, # what parameters values are we searching?\n",
    "                  cv=3) # 3-fold cross-validation."
   ]
  },
  {
   "cell_type": "code",
   "execution_count": 85,
   "metadata": {},
   "outputs": [],
   "source": [
    "gs.fit(X_train, y_train);"
   ]
  },
  {
   "cell_type": "code",
   "execution_count": 86,
   "metadata": {},
   "outputs": [
    {
     "name": "stdout",
     "output_type": "stream",
     "text": [
      "0.6314176245210728\n"
     ]
    }
   ],
   "source": [
    "print(gs.best_score_)"
   ]
  },
  {
   "cell_type": "code",
   "execution_count": 87,
   "metadata": {},
   "outputs": [
    {
     "data": {
      "text/plain": [
       "0.6314176245210728"
      ]
     },
     "execution_count": 87,
     "metadata": {},
     "output_type": "execute_result"
    }
   ],
   "source": [
    "grid_cvec_train_score = gs.best_score_\n",
    "grid_cvec_train_score"
   ]
  },
  {
   "cell_type": "code",
   "execution_count": 88,
   "metadata": {},
   "outputs": [],
   "source": [
    "#gs.fit(X_test, y_test);"
   ]
  },
  {
   "cell_type": "code",
   "execution_count": 89,
   "metadata": {},
   "outputs": [
    {
     "name": "stdout",
     "output_type": "stream",
     "text": [
      "0.6314176245210728\n"
     ]
    }
   ],
   "source": [
    "print(gs.best_score_)"
   ]
  },
  {
   "cell_type": "code",
   "execution_count": 90,
   "metadata": {},
   "outputs": [
    {
     "data": {
      "text/plain": [
       "0.6314176245210728"
      ]
     },
     "execution_count": 90,
     "metadata": {},
     "output_type": "execute_result"
    }
   ],
   "source": [
    "grid_cvec_test_score = gs.best_score_\n",
    "grid_cvec_test_score"
   ]
  },
  {
   "cell_type": "markdown",
   "metadata": {},
   "source": [
    "##  Tvec"
   ]
  },
  {
   "cell_type": "code",
   "execution_count": 91,
   "metadata": {},
   "outputs": [],
   "source": [
    "pipe2 = Pipeline([\n",
    "    ('tvec', TfidfVectorizer(lowercase=False)),\n",
    "    ('lr', LogisticRegression())\n",
    "])"
   ]
  },
  {
   "cell_type": "code",
   "execution_count": 92,
   "metadata": {},
   "outputs": [],
   "source": [
    "pipe_params2 = {'tvec__max_features': [100,500,1000], \n",
    "                'tvec__min_df': [1],\n",
    "                'tvec__max_df':[50],\n",
    "                'tvec__stop_words':['english'],\n",
    "                'tvec__ngram_range': [(1,1), (1,2)]}"
   ]
  },
  {
   "cell_type": "code",
   "execution_count": 93,
   "metadata": {},
   "outputs": [],
   "source": [
    "gs2 = GridSearchCV(pipe2, # what object are we optimizing?\n",
    "                  pipe_params2, # what parameters values are we searching?\n",
    "                  cv=3) # 3-fold cross-validation."
   ]
  },
  {
   "cell_type": "code",
   "execution_count": 94,
   "metadata": {},
   "outputs": [],
   "source": [
    "gs2.fit(X_train, y_train);"
   ]
  },
  {
   "cell_type": "code",
   "execution_count": 95,
   "metadata": {},
   "outputs": [
    {
     "name": "stdout",
     "output_type": "stream",
     "text": [
      "0.6344827586206897\n"
     ]
    }
   ],
   "source": [
    "print(gs2.best_score_)"
   ]
  },
  {
   "cell_type": "code",
   "execution_count": 96,
   "metadata": {},
   "outputs": [
    {
     "data": {
      "text/plain": [
       "0.6344827586206897"
      ]
     },
     "execution_count": 96,
     "metadata": {},
     "output_type": "execute_result"
    }
   ],
   "source": [
    "grid_tvec_train_score = gs2.best_score_\n",
    "grid_tvec_train_score"
   ]
  },
  {
   "cell_type": "code",
   "execution_count": 97,
   "metadata": {},
   "outputs": [],
   "source": [
    "#gs2.fit(X_test, y_test);"
   ]
  },
  {
   "cell_type": "code",
   "execution_count": 98,
   "metadata": {},
   "outputs": [
    {
     "name": "stdout",
     "output_type": "stream",
     "text": [
      "0.6344827586206897\n"
     ]
    }
   ],
   "source": [
    "print(gs2.best_score_)"
   ]
  },
  {
   "cell_type": "code",
   "execution_count": 99,
   "metadata": {},
   "outputs": [
    {
     "data": {
      "text/plain": [
       "0.6344827586206897"
      ]
     },
     "execution_count": 99,
     "metadata": {},
     "output_type": "execute_result"
    }
   ],
   "source": [
    "grid_tvec_test_score = gs2.best_score_\n",
    "grid_tvec_test_score"
   ]
  },
  {
   "cell_type": "markdown",
   "metadata": {},
   "source": [
    "# Comparing the performance of our models (Cvec & Tvec)"
   ]
  },
  {
   "cell_type": "markdown",
   "metadata": {},
   "source": [
    "## Cvec"
   ]
  },
  {
   "cell_type": "code",
   "execution_count": 100,
   "metadata": {},
   "outputs": [],
   "source": [
    "gs_model = gs.best_estimator_"
   ]
  },
  {
   "cell_type": "code",
   "execution_count": 101,
   "metadata": {},
   "outputs": [
    {
     "data": {
      "text/plain": [
       "0.885823754789272"
      ]
     },
     "execution_count": 101,
     "metadata": {},
     "output_type": "execute_result"
    }
   ],
   "source": [
    "gs_model.score(X_train, y_train)"
   ]
  },
  {
   "cell_type": "code",
   "execution_count": 102,
   "metadata": {},
   "outputs": [
    {
     "data": {
      "text/plain": [
       "0.885823754789272"
      ]
     },
     "execution_count": 102,
     "metadata": {},
     "output_type": "execute_result"
    }
   ],
   "source": [
    "gs_cvec_model_train_estimator = gs_model.score(X_train, y_train)\n",
    "gs_cvec_model_train_estimator"
   ]
  },
  {
   "cell_type": "code",
   "execution_count": 103,
   "metadata": {},
   "outputs": [],
   "source": [
    "#cv = gs_model['cvec']"
   ]
  },
  {
   "cell_type": "code",
   "execution_count": 104,
   "metadata": {
    "scrolled": true
   },
   "outputs": [
    {
     "data": {
      "text/plain": [
       "0.6692546583850931"
      ]
     },
     "execution_count": 104,
     "metadata": {},
     "output_type": "execute_result"
    }
   ],
   "source": [
    "gs_model.score(X_test, y_test)"
   ]
  },
  {
   "cell_type": "code",
   "execution_count": 105,
   "metadata": {},
   "outputs": [
    {
     "data": {
      "text/plain": [
       "0.6692546583850931"
      ]
     },
     "execution_count": 105,
     "metadata": {},
     "output_type": "execute_result"
    }
   ],
   "source": [
    "gs_cvec_model_test_estimator = gs_model.score(X_test, y_test)\n",
    "gs_cvec_model_test_estimator"
   ]
  },
  {
   "cell_type": "code",
   "execution_count": 106,
   "metadata": {},
   "outputs": [],
   "source": [
    "lr = gs_model['lr']"
   ]
  },
  {
   "cell_type": "code",
   "execution_count": 107,
   "metadata": {},
   "outputs": [
    {
     "data": {
      "text/plain": [
       "LogisticRegression(C=1.0, class_weight=None, dual=False, fit_intercept=True,\n",
       "                   intercept_scaling=1, l1_ratio=None, max_iter=100,\n",
       "                   multi_class='warn', n_jobs=None, penalty='l2',\n",
       "                   random_state=None, solver='warn', tol=0.0001, verbose=0,\n",
       "                   warm_start=False)"
      ]
     },
     "execution_count": 107,
     "metadata": {},
     "output_type": "execute_result"
    }
   ],
   "source": [
    "lr"
   ]
  },
  {
   "cell_type": "code",
   "execution_count": 108,
   "metadata": {},
   "outputs": [
    {
     "data": {
      "text/plain": [
       "1000"
      ]
     },
     "execution_count": 108,
     "metadata": {},
     "output_type": "execute_result"
    }
   ],
   "source": [
    "len(lr.coef_[0])"
   ]
  },
  {
   "cell_type": "markdown",
   "metadata": {},
   "source": [
    "## Tvec"
   ]
  },
  {
   "cell_type": "code",
   "execution_count": 109,
   "metadata": {},
   "outputs": [],
   "source": [
    "gs2_model = gs2.best_estimator_"
   ]
  },
  {
   "cell_type": "code",
   "execution_count": 110,
   "metadata": {
    "scrolled": true
   },
   "outputs": [
    {
     "data": {
      "text/plain": [
       "0.8574712643678161"
      ]
     },
     "execution_count": 110,
     "metadata": {},
     "output_type": "execute_result"
    }
   ],
   "source": [
    "gs2_model.score(X_train, y_train)"
   ]
  },
  {
   "cell_type": "code",
   "execution_count": 111,
   "metadata": {},
   "outputs": [
    {
     "data": {
      "text/plain": [
       "0.8574712643678161"
      ]
     },
     "execution_count": 111,
     "metadata": {},
     "output_type": "execute_result"
    }
   ],
   "source": [
    "gs_tvec_model_train_estimator= gs2_model.score(X_train, y_train)\n",
    "gs_tvec_model_train_estimator"
   ]
  },
  {
   "cell_type": "code",
   "execution_count": 112,
   "metadata": {},
   "outputs": [
    {
     "data": {
      "text/plain": [
       "0.6677018633540373"
      ]
     },
     "execution_count": 112,
     "metadata": {},
     "output_type": "execute_result"
    }
   ],
   "source": [
    "gs2_model.score(X_test, y_test)"
   ]
  },
  {
   "cell_type": "code",
   "execution_count": 113,
   "metadata": {},
   "outputs": [
    {
     "data": {
      "text/plain": [
       "0.6677018633540373"
      ]
     },
     "execution_count": 113,
     "metadata": {},
     "output_type": "execute_result"
    }
   ],
   "source": [
    "gs_tvec_model_test_estimator= gs2_model.score(X_test, y_test)\n",
    "gs_tvec_model_test_estimator"
   ]
  },
  {
   "cell_type": "markdown",
   "metadata": {},
   "source": [
    "# Decision Trees"
   ]
  },
  {
   "cell_type": "markdown",
   "metadata": {},
   "source": [
    "## Cvec Trees"
   ]
  },
  {
   "cell_type": "code",
   "execution_count": 114,
   "metadata": {},
   "outputs": [],
   "source": [
    "y = y_train\n",
    "X = X_train_cvec"
   ]
  },
  {
   "cell_type": "code",
   "execution_count": 115,
   "metadata": {},
   "outputs": [],
   "source": [
    "dt = DecisionTreeClassifier(random_state = 42)"
   ]
  },
  {
   "cell_type": "code",
   "execution_count": 116,
   "metadata": {},
   "outputs": [
    {
     "data": {
      "text/plain": [
       "DecisionTreeClassifier(class_weight=None, criterion='gini', max_depth=None,\n",
       "                       max_features=None, max_leaf_nodes=None,\n",
       "                       min_impurity_decrease=0.0, min_impurity_split=None,\n",
       "                       min_samples_leaf=1, min_samples_split=2,\n",
       "                       min_weight_fraction_leaf=0.0, presort=False,\n",
       "                       random_state=42, splitter='best')"
      ]
     },
     "execution_count": 116,
     "metadata": {},
     "output_type": "execute_result"
    }
   ],
   "source": [
    "dt.fit(X_train_cvec, y_train)"
   ]
  },
  {
   "cell_type": "code",
   "execution_count": 117,
   "metadata": {},
   "outputs": [
    {
     "name": "stdout",
     "output_type": "stream",
     "text": [
      "Score on training set: 0.9969348659003832\n",
      "Score on testing set: 0.6273291925465838\n"
     ]
    }
   ],
   "source": [
    "print(f'Score on training set: {dt.score(X_train_cvec, y_train)}')\n",
    "print(f'Score on testing set: {dt.score(X_test_cvec, y_test)}')"
   ]
  },
  {
   "cell_type": "code",
   "execution_count": 118,
   "metadata": {},
   "outputs": [],
   "source": [
    "trees_cvec_train=dt.score(X_train_cvec, y_train)\n",
    "trees_cvec_test=dt.score(X_test_cvec, y_test)"
   ]
  },
  {
   "cell_type": "markdown",
   "metadata": {},
   "source": [
    "##  Cvec Trees w/ hyper_params"
   ]
  },
  {
   "cell_type": "code",
   "execution_count": 119,
   "metadata": {},
   "outputs": [],
   "source": [
    "dt = DecisionTreeClassifier(max_depth= 5,\n",
    "     min_samples_split= 7,\n",
    "     min_samples_leaf= 3,\n",
    "     random_state=42)"
   ]
  },
  {
   "cell_type": "code",
   "execution_count": 120,
   "metadata": {},
   "outputs": [
    {
     "data": {
      "text/plain": [
       "DecisionTreeClassifier(class_weight=None, criterion='gini', max_depth=5,\n",
       "                       max_features=None, max_leaf_nodes=None,\n",
       "                       min_impurity_decrease=0.0, min_impurity_split=None,\n",
       "                       min_samples_leaf=3, min_samples_split=7,\n",
       "                       min_weight_fraction_leaf=0.0, presort=False,\n",
       "                       random_state=42, splitter='best')"
      ]
     },
     "execution_count": 120,
     "metadata": {},
     "output_type": "execute_result"
    }
   ],
   "source": [
    "dt.fit(X_train_cvec, y_train)"
   ]
  },
  {
   "cell_type": "code",
   "execution_count": 121,
   "metadata": {},
   "outputs": [
    {
     "name": "stdout",
     "output_type": "stream",
     "text": [
      "Score on training set: 0.5915708812260536\n",
      "Score on testing set: 0.5760869565217391\n"
     ]
    }
   ],
   "source": [
    "print(f'Score on training set: {dt.score(X_train_cvec, y_train)}')\n",
    "print(f'Score on testing set: {dt.score(X_test_cvec, y_test)}')"
   ]
  },
  {
   "cell_type": "code",
   "execution_count": 122,
   "metadata": {},
   "outputs": [],
   "source": [
    "cvec_trees_train_params=dt.score(X_train_cvec, y_train)\n",
    "cvec_trees_test_params=dt.score(X_test_cvec, y_test)"
   ]
  },
  {
   "cell_type": "markdown",
   "metadata": {},
   "source": [
    "# Cvec Trees Gridsearch"
   ]
  },
  {
   "cell_type": "code",
   "execution_count": 123,
   "metadata": {},
   "outputs": [],
   "source": [
    "grid = {\n",
    "    'max_depth': [3,5,7,10],\n",
    "    'min_samples_split':[5,10,15,20],\n",
    "    'min_samples_leaf':[2,3,4,5,6,7]\n",
    "}"
   ]
  },
  {
   "cell_type": "code",
   "execution_count": 124,
   "metadata": {},
   "outputs": [
    {
     "name": "stdout",
     "output_type": "stream",
     "text": [
      "4.10542631149292\n"
     ]
    }
   ],
   "source": [
    "import time\n",
    "\n",
    "# Start our timer.\n",
    "t0 = time.time()\n",
    "\n",
    "# Let's GridSearch over the above parameters on our training data.\n",
    "gs = GridSearchCV(DecisionTreeClassifier(random_state=42),\n",
    "                  param_grid = grid,\n",
    "                  cv = 5)\n",
    "\n",
    "gs.fit(X_train_cvec, y_train)\n",
    "\n",
    "# Stop our timer and print the result.\n",
    "print(time.time()-t0)"
   ]
  },
  {
   "cell_type": "code",
   "execution_count": 125,
   "metadata": {},
   "outputs": [
    {
     "data": {
      "text/plain": [
       "({'max_depth': 10, 'min_samples_leaf': 2, 'min_samples_split': 15},\n",
       " 0.5977011494252874)"
      ]
     },
     "execution_count": 125,
     "metadata": {},
     "output_type": "execute_result"
    }
   ],
   "source": [
    "gs.best_params_, gs.best_score_"
   ]
  },
  {
   "cell_type": "code",
   "execution_count": 126,
   "metadata": {},
   "outputs": [
    {
     "name": "stdout",
     "output_type": "stream",
     "text": [
      "Score on training set: 0.632183908045977\n",
      "Score on testing set: 0.6040372670807453\n"
     ]
    }
   ],
   "source": [
    "dt = gs.best_estimator_\n",
    "\n",
    "# Fit model.\n",
    "dt.fit(X_train_cvec, y_train)\n",
    "\n",
    "# Evaluate model.\n",
    "print(f'Score on training set: {dt.score(X_train_cvec, y_train)}')\n",
    "print(f'Score on testing set: {dt.score(X_test_cvec, y_test)}')"
   ]
  },
  {
   "cell_type": "code",
   "execution_count": 127,
   "metadata": {},
   "outputs": [],
   "source": [
    "best_cvec_trees_model_train= dt.score(X_train_cvec, y_train)\n",
    "best_cvec_trees_model_test= dt.score(X_test_cvec, y_test)"
   ]
  },
  {
   "cell_type": "markdown",
   "metadata": {},
   "source": [
    "# Tvec Trees"
   ]
  },
  {
   "cell_type": "code",
   "execution_count": 128,
   "metadata": {},
   "outputs": [],
   "source": [
    "dt = DecisionTreeClassifier(random_state = 42)"
   ]
  },
  {
   "cell_type": "code",
   "execution_count": 129,
   "metadata": {},
   "outputs": [],
   "source": [
    "y = y_train\n",
    "X = X_train_tvec"
   ]
  },
  {
   "cell_type": "code",
   "execution_count": 130,
   "metadata": {},
   "outputs": [
    {
     "data": {
      "text/plain": [
       "DecisionTreeClassifier(class_weight=None, criterion='gini', max_depth=None,\n",
       "                       max_features=None, max_leaf_nodes=None,\n",
       "                       min_impurity_decrease=0.0, min_impurity_split=None,\n",
       "                       min_samples_leaf=1, min_samples_split=2,\n",
       "                       min_weight_fraction_leaf=0.0, presort=False,\n",
       "                       random_state=42, splitter='best')"
      ]
     },
     "execution_count": 130,
     "metadata": {},
     "output_type": "execute_result"
    }
   ],
   "source": [
    "dt.fit(X_train_tvec, y_train)"
   ]
  },
  {
   "cell_type": "code",
   "execution_count": 131,
   "metadata": {},
   "outputs": [
    {
     "name": "stdout",
     "output_type": "stream",
     "text": [
      "Score on training set: 0.9969348659003832\n",
      "Score on testing set: 0.5916149068322981\n"
     ]
    }
   ],
   "source": [
    "print(f'Score on training set: {dt.score(X_train_tvec, y_train)}')\n",
    "print(f'Score on testing set: {dt.score(X_test_tvec, y_test)}')"
   ]
  },
  {
   "cell_type": "code",
   "execution_count": 132,
   "metadata": {},
   "outputs": [],
   "source": [
    "trees_tvec_train=dt.score(X_train_tvec, y_train)\n",
    "trees_tvec_test=dt.score(X_test_tvec, y_test)"
   ]
  },
  {
   "cell_type": "markdown",
   "metadata": {},
   "source": [
    "### Tvec Trees w/ Hyper_params"
   ]
  },
  {
   "cell_type": "code",
   "execution_count": 133,
   "metadata": {},
   "outputs": [],
   "source": [
    "dt = DecisionTreeClassifier(max_depth= 5,\n",
    "     min_samples_split= 7,\n",
    "     min_samples_leaf= 3,\n",
    "     random_state=42)"
   ]
  },
  {
   "cell_type": "code",
   "execution_count": 134,
   "metadata": {
    "scrolled": true
   },
   "outputs": [
    {
     "data": {
      "text/plain": [
       "DecisionTreeClassifier(class_weight=None, criterion='gini', max_depth=5,\n",
       "                       max_features=None, max_leaf_nodes=None,\n",
       "                       min_impurity_decrease=0.0, min_impurity_split=None,\n",
       "                       min_samples_leaf=3, min_samples_split=7,\n",
       "                       min_weight_fraction_leaf=0.0, presort=False,\n",
       "                       random_state=42, splitter='best')"
      ]
     },
     "execution_count": 134,
     "metadata": {},
     "output_type": "execute_result"
    }
   ],
   "source": [
    "dt.fit(X_train_tvec, y_train)"
   ]
  },
  {
   "cell_type": "code",
   "execution_count": 135,
   "metadata": {},
   "outputs": [
    {
     "name": "stdout",
     "output_type": "stream",
     "text": [
      "Score on training set: 0.5869731800766284\n",
      "Score on testing set: 0.5683229813664596\n"
     ]
    }
   ],
   "source": [
    "print(f'Score on training set: {dt.score(X_train_tvec, y_train)}')\n",
    "print(f'Score on testing set: {dt.score(X_test_tvec, y_test)}')"
   ]
  },
  {
   "cell_type": "code",
   "execution_count": 136,
   "metadata": {},
   "outputs": [],
   "source": [
    "tvec_trees_train_params=dt.score(X_train_tvec, y_train)\n",
    "tvec_trees_test_params=dt.score(X_test_tvec, y_test)"
   ]
  },
  {
   "cell_type": "markdown",
   "metadata": {},
   "source": [
    "# Tvec Trees Gridsearch"
   ]
  },
  {
   "cell_type": "code",
   "execution_count": 137,
   "metadata": {},
   "outputs": [],
   "source": [
    "grid = {\n",
    "    'max_depth': [3,5,7,10],\n",
    "    'min_samples_split':[5,10,15,20],\n",
    "    'min_samples_leaf':[2,3,4,5,6,7]\n",
    "}"
   ]
  },
  {
   "cell_type": "code",
   "execution_count": 138,
   "metadata": {},
   "outputs": [
    {
     "name": "stdout",
     "output_type": "stream",
     "text": [
      "4.36906099319458\n"
     ]
    }
   ],
   "source": [
    "import time\n",
    "\n",
    "# Start our timer.\n",
    "t0 = time.time()\n",
    "\n",
    "# Let's GridSearch over the above parameters on our training data.\n",
    "gs = GridSearchCV(DecisionTreeClassifier(random_state=42),\n",
    "                  param_grid = grid,\n",
    "                  cv = 5)\n",
    "\n",
    "gs.fit(X_train_tvec, y_train)\n",
    "\n",
    "# Stop our timer and print the result.\n",
    "print(time.time()-t0)"
   ]
  },
  {
   "cell_type": "code",
   "execution_count": 139,
   "metadata": {},
   "outputs": [
    {
     "data": {
      "text/plain": [
       "({'max_depth': 10, 'min_samples_leaf': 5, 'min_samples_split': 15},\n",
       " 0.5854406130268199)"
      ]
     },
     "execution_count": 139,
     "metadata": {},
     "output_type": "execute_result"
    }
   ],
   "source": [
    "gs.best_params_, gs.best_score_"
   ]
  },
  {
   "cell_type": "code",
   "execution_count": 140,
   "metadata": {},
   "outputs": [
    {
     "name": "stdout",
     "output_type": "stream",
     "text": [
      "Score on training set: 0.617624521072797\n",
      "Score on testing set: 0.5885093167701864\n"
     ]
    }
   ],
   "source": [
    "dt = gs.best_estimator_\n",
    "\n",
    "# Fit model.\n",
    "dt.fit(X_train_tvec, y_train)\n",
    "\n",
    "# Evaluate model.\n",
    "print(f'Score on training set: {dt.score(X_train_tvec, y_train)}')\n",
    "print(f'Score on testing set: {dt.score(X_test_tvec, y_test)}')"
   ]
  },
  {
   "cell_type": "code",
   "execution_count": 141,
   "metadata": {},
   "outputs": [],
   "source": [
    "best_tvec_trees_model_train= dt.score(X_train_tvec, y_train)\n",
    "best_tvec_trees_model_test= dt.score(X_test_tvec, y_test)"
   ]
  },
  {
   "cell_type": "markdown",
   "metadata": {},
   "source": [
    "# Bagclassifier"
   ]
  },
  {
   "cell_type": "markdown",
   "metadata": {},
   "source": [
    "### Cvec Bagclassifier"
   ]
  },
  {
   "cell_type": "code",
   "execution_count": 142,
   "metadata": {},
   "outputs": [],
   "source": [
    "from sklearn.ensemble import BaggingClassifier"
   ]
  },
  {
   "cell_type": "code",
   "execution_count": 143,
   "metadata": {
    "scrolled": true
   },
   "outputs": [
    {
     "data": {
      "text/plain": [
       "0.6211180124223602"
      ]
     },
     "execution_count": 143,
     "metadata": {},
     "output_type": "execute_result"
    }
   ],
   "source": [
    "# Instantiate BaggingClassifier.\n",
    "bag = BaggingClassifier(n_estimators= 1000,\n",
    "                       random_state=42)\n",
    "\n",
    "# Fit BaggingClassifier.\n",
    "bag.fit(X_train_cvec, y_train)\n",
    "\n",
    "# Score BaggingClassifier.\n",
    "bag.score(X_test_cvec, y_test)"
   ]
  },
  {
   "cell_type": "code",
   "execution_count": 144,
   "metadata": {},
   "outputs": [
    {
     "data": {
      "text/plain": [
       "0.9969348659003832"
      ]
     },
     "execution_count": 144,
     "metadata": {},
     "output_type": "execute_result"
    }
   ],
   "source": [
    "bag.score(X_train_cvec, y_train)"
   ]
  },
  {
   "cell_type": "code",
   "execution_count": 145,
   "metadata": {},
   "outputs": [],
   "source": [
    "cvec_train_bagclassifier= bag.score(X_train_cvec, y_train)\n",
    "cvec_test_bagclassifier= bag.score(X_test_cvec, y_test)"
   ]
  },
  {
   "cell_type": "markdown",
   "metadata": {},
   "source": [
    "### Tvec bagclassifier"
   ]
  },
  {
   "cell_type": "code",
   "execution_count": 146,
   "metadata": {},
   "outputs": [
    {
     "data": {
      "text/plain": [
       "0.59472049689441"
      ]
     },
     "execution_count": 146,
     "metadata": {},
     "output_type": "execute_result"
    }
   ],
   "source": [
    "# Instantiate BaggingClassifier.\n",
    "bag = BaggingClassifier(n_estimators= 1000,\n",
    "                       random_state=42)\n",
    "\n",
    "# Fit BaggingClassifier.\n",
    "bag.fit(X_train_tvec, y_train)\n",
    "\n",
    "# Score BaggingClassifier.\n",
    "bag.score(X_test_tvec, y_test)"
   ]
  },
  {
   "cell_type": "code",
   "execution_count": 147,
   "metadata": {},
   "outputs": [
    {
     "data": {
      "text/plain": [
       "0.9969348659003832"
      ]
     },
     "execution_count": 147,
     "metadata": {},
     "output_type": "execute_result"
    }
   ],
   "source": [
    "bag.score(X_train_tvec, y_train)"
   ]
  },
  {
   "cell_type": "code",
   "execution_count": 148,
   "metadata": {},
   "outputs": [],
   "source": [
    "tvec_train_bagclassifier= bag.score(X_train_tvec, y_train)\n",
    "tvec_test_bagclassifier= bag.score(X_test_tvec, y_test)"
   ]
  },
  {
   "cell_type": "markdown",
   "metadata": {},
   "source": [
    "# Making a Table of Results"
   ]
  },
  {
   "cell_type": "code",
   "execution_count": 149,
   "metadata": {},
   "outputs": [],
   "source": [
    "Names= ['base',\n",
    "        'bernoulli score_cvec',\n",
    "        'cvec_score', \n",
    "        'bernoulli scoore tvec', \n",
    "        'tvec_score', \n",
    "        'cvec_best_score_gridsearch', \n",
    "        'tvec_best_score_gridsearch', \n",
    "        'gs_cvec_model_estimator',\n",
    "        'gs_tvec_model_estimator', \n",
    "        'trees_cvec_score', \n",
    "        'trees_tvec_score', \n",
    "        'Cvec Trees w/ hyper_params', \n",
    "        'Tvec Trees w/ hyper_params', \n",
    "        'Cvec Trees Gridsearch',\n",
    "        'Tvec Trees Gridsearch', \n",
    "        'cvec_bagclassifier_score', \n",
    "        'tvec_bagclassifier_score']"
   ]
  },
  {
   "cell_type": "code",
   "execution_count": 150,
   "metadata": {},
   "outputs": [],
   "source": [
    "Train = [train_base,\n",
    "         bernoulli_train_score_cvec,\n",
    "         cvec_train_score,\n",
    "         bernoulli_train_score_tvec,\n",
    "         tvec_train_score, \n",
    "         grid_cvec_train_score, \n",
    "         grid_tvec_train_score, \n",
    "         gs_cvec_model_train_estimator, \n",
    "         gs_tvec_model_train_estimator, \n",
    "         trees_cvec_train, \n",
    "         trees_tvec_train, \n",
    "         cvec_trees_train_params, \n",
    "         tvec_trees_train_params, \n",
    "         best_cvec_trees_model_train, \n",
    "         best_tvec_trees_model_train, \n",
    "         cvec_train_bagclassifier,\n",
    "         tvec_train_bagclassifier]"
   ]
  },
  {
   "cell_type": "code",
   "execution_count": 151,
   "metadata": {},
   "outputs": [],
   "source": [
    "Test = [test_base,\n",
    "        bernoulli_test_score_cvec,\n",
    "        cvec_test_score, \n",
    "        bernoulli_test_score_tvec,\n",
    "        tvec_test_score, \n",
    "        grid_cvec_test_score, \n",
    "        grid_tvec_test_score, \n",
    "        gs_cvec_model_test_estimator, \n",
    "        gs_tvec_model_test_estimator,\n",
    "        trees_cvec_test,\n",
    "        trees_tvec_test, \n",
    "        cvec_trees_test_params, \n",
    "        tvec_trees_test_params, \n",
    "        best_cvec_trees_model_test, \n",
    "        best_tvec_trees_model_test, \n",
    "        cvec_test_bagclassifier, \n",
    "        tvec_test_bagclassifier] "
   ]
  },
  {
   "cell_type": "code",
   "execution_count": 152,
   "metadata": {},
   "outputs": [
    {
     "data": {
      "text/plain": [
       "(17, 1)"
      ]
     },
     "execution_count": 152,
     "metadata": {},
     "output_type": "execute_result"
    }
   ],
   "source": [
    "df= pd.DataFrame(Names)\n",
    "df.shape"
   ]
  },
  {
   "cell_type": "code",
   "execution_count": 153,
   "metadata": {},
   "outputs": [
    {
     "data": {
      "text/html": [
       "<div>\n",
       "<style scoped>\n",
       "    .dataframe tbody tr th:only-of-type {\n",
       "        vertical-align: middle;\n",
       "    }\n",
       "\n",
       "    .dataframe tbody tr th {\n",
       "        vertical-align: top;\n",
       "    }\n",
       "\n",
       "    .dataframe thead th {\n",
       "        text-align: right;\n",
       "    }\n",
       "</style>\n",
       "<table border=\"1\" class=\"dataframe\">\n",
       "  <thead>\n",
       "    <tr style=\"text-align: right;\">\n",
       "      <th></th>\n",
       "      <th>0</th>\n",
       "    </tr>\n",
       "  </thead>\n",
       "  <tbody>\n",
       "    <tr>\n",
       "      <td>0</td>\n",
       "      <td>base</td>\n",
       "    </tr>\n",
       "    <tr>\n",
       "      <td>1</td>\n",
       "      <td>bernoulli score_cvec</td>\n",
       "    </tr>\n",
       "    <tr>\n",
       "      <td>2</td>\n",
       "      <td>cvec_score</td>\n",
       "    </tr>\n",
       "    <tr>\n",
       "      <td>3</td>\n",
       "      <td>bernoulli scoore tvec</td>\n",
       "    </tr>\n",
       "    <tr>\n",
       "      <td>4</td>\n",
       "      <td>tvec_score</td>\n",
       "    </tr>\n",
       "    <tr>\n",
       "      <td>5</td>\n",
       "      <td>cvec_best_score_gridsearch</td>\n",
       "    </tr>\n",
       "    <tr>\n",
       "      <td>6</td>\n",
       "      <td>tvec_best_score_gridsearch</td>\n",
       "    </tr>\n",
       "    <tr>\n",
       "      <td>7</td>\n",
       "      <td>gs_cvec_model_estimator</td>\n",
       "    </tr>\n",
       "    <tr>\n",
       "      <td>8</td>\n",
       "      <td>gs_tvec_model_estimator</td>\n",
       "    </tr>\n",
       "    <tr>\n",
       "      <td>9</td>\n",
       "      <td>trees_cvec_score</td>\n",
       "    </tr>\n",
       "    <tr>\n",
       "      <td>10</td>\n",
       "      <td>trees_tvec_score</td>\n",
       "    </tr>\n",
       "    <tr>\n",
       "      <td>11</td>\n",
       "      <td>Cvec Trees w/ hyper_params</td>\n",
       "    </tr>\n",
       "    <tr>\n",
       "      <td>12</td>\n",
       "      <td>Tvec Trees w/ hyper_params</td>\n",
       "    </tr>\n",
       "    <tr>\n",
       "      <td>13</td>\n",
       "      <td>Cvec Trees Gridsearch</td>\n",
       "    </tr>\n",
       "    <tr>\n",
       "      <td>14</td>\n",
       "      <td>Tvec Trees Gridsearch</td>\n",
       "    </tr>\n",
       "    <tr>\n",
       "      <td>15</td>\n",
       "      <td>cvec_bagclassifier_score</td>\n",
       "    </tr>\n",
       "    <tr>\n",
       "      <td>16</td>\n",
       "      <td>tvec_bagclassifier_score</td>\n",
       "    </tr>\n",
       "  </tbody>\n",
       "</table>\n",
       "</div>"
      ],
      "text/plain": [
       "                             0\n",
       "0                         base\n",
       "1         bernoulli score_cvec\n",
       "2                   cvec_score\n",
       "3        bernoulli scoore tvec\n",
       "4                   tvec_score\n",
       "5   cvec_best_score_gridsearch\n",
       "6   tvec_best_score_gridsearch\n",
       "7      gs_cvec_model_estimator\n",
       "8      gs_tvec_model_estimator\n",
       "9             trees_cvec_score\n",
       "10            trees_tvec_score\n",
       "11  Cvec Trees w/ hyper_params\n",
       "12  Tvec Trees w/ hyper_params\n",
       "13       Cvec Trees Gridsearch\n",
       "14       Tvec Trees Gridsearch\n",
       "15    cvec_bagclassifier_score\n",
       "16    tvec_bagclassifier_score"
      ]
     },
     "execution_count": 153,
     "metadata": {},
     "output_type": "execute_result"
    }
   ],
   "source": [
    "df"
   ]
  },
  {
   "cell_type": "code",
   "execution_count": 154,
   "metadata": {},
   "outputs": [],
   "source": [
    "df.drop([0], axis=1, inplace=True)"
   ]
  },
  {
   "cell_type": "code",
   "execution_count": 155,
   "metadata": {},
   "outputs": [
    {
     "data": {
      "text/html": [
       "<div>\n",
       "<style scoped>\n",
       "    .dataframe tbody tr th:only-of-type {\n",
       "        vertical-align: middle;\n",
       "    }\n",
       "\n",
       "    .dataframe tbody tr th {\n",
       "        vertical-align: top;\n",
       "    }\n",
       "\n",
       "    .dataframe thead th {\n",
       "        text-align: right;\n",
       "    }\n",
       "</style>\n",
       "<table border=\"1\" class=\"dataframe\">\n",
       "  <thead>\n",
       "    <tr style=\"text-align: right;\">\n",
       "      <th></th>\n",
       "      <th>Classification Model</th>\n",
       "      <th>Train_score</th>\n",
       "      <th>Test_Score</th>\n",
       "    </tr>\n",
       "  </thead>\n",
       "  <tbody>\n",
       "    <tr>\n",
       "      <td>0</td>\n",
       "      <td>base</td>\n",
       "      <td>0.491188</td>\n",
       "      <td>0.492236</td>\n",
       "    </tr>\n",
       "    <tr>\n",
       "      <td>1</td>\n",
       "      <td>bernoulli score_cvec</td>\n",
       "      <td>0.919540</td>\n",
       "      <td>0.686335</td>\n",
       "    </tr>\n",
       "    <tr>\n",
       "      <td>2</td>\n",
       "      <td>cvec_score</td>\n",
       "      <td>0.966284</td>\n",
       "      <td>0.698758</td>\n",
       "    </tr>\n",
       "    <tr>\n",
       "      <td>3</td>\n",
       "      <td>bernoulli scoore tvec</td>\n",
       "      <td>0.919540</td>\n",
       "      <td>0.686335</td>\n",
       "    </tr>\n",
       "    <tr>\n",
       "      <td>4</td>\n",
       "      <td>tvec_score</td>\n",
       "      <td>0.932567</td>\n",
       "      <td>0.706522</td>\n",
       "    </tr>\n",
       "    <tr>\n",
       "      <td>5</td>\n",
       "      <td>cvec_best_score_gridsearch</td>\n",
       "      <td>0.631418</td>\n",
       "      <td>0.631418</td>\n",
       "    </tr>\n",
       "    <tr>\n",
       "      <td>6</td>\n",
       "      <td>tvec_best_score_gridsearch</td>\n",
       "      <td>0.634483</td>\n",
       "      <td>0.634483</td>\n",
       "    </tr>\n",
       "    <tr>\n",
       "      <td>7</td>\n",
       "      <td>gs_cvec_model_estimator</td>\n",
       "      <td>0.885824</td>\n",
       "      <td>0.669255</td>\n",
       "    </tr>\n",
       "    <tr>\n",
       "      <td>8</td>\n",
       "      <td>gs_tvec_model_estimator</td>\n",
       "      <td>0.857471</td>\n",
       "      <td>0.667702</td>\n",
       "    </tr>\n",
       "    <tr>\n",
       "      <td>9</td>\n",
       "      <td>trees_cvec_score</td>\n",
       "      <td>0.996935</td>\n",
       "      <td>0.627329</td>\n",
       "    </tr>\n",
       "    <tr>\n",
       "      <td>10</td>\n",
       "      <td>trees_tvec_score</td>\n",
       "      <td>0.996935</td>\n",
       "      <td>0.591615</td>\n",
       "    </tr>\n",
       "    <tr>\n",
       "      <td>11</td>\n",
       "      <td>Cvec Trees w/ hyper_params</td>\n",
       "      <td>0.591571</td>\n",
       "      <td>0.576087</td>\n",
       "    </tr>\n",
       "    <tr>\n",
       "      <td>12</td>\n",
       "      <td>Tvec Trees w/ hyper_params</td>\n",
       "      <td>0.586973</td>\n",
       "      <td>0.568323</td>\n",
       "    </tr>\n",
       "    <tr>\n",
       "      <td>13</td>\n",
       "      <td>Cvec Trees Gridsearch</td>\n",
       "      <td>0.632184</td>\n",
       "      <td>0.604037</td>\n",
       "    </tr>\n",
       "    <tr>\n",
       "      <td>14</td>\n",
       "      <td>Tvec Trees Gridsearch</td>\n",
       "      <td>0.617625</td>\n",
       "      <td>0.588509</td>\n",
       "    </tr>\n",
       "    <tr>\n",
       "      <td>15</td>\n",
       "      <td>cvec_bagclassifier_score</td>\n",
       "      <td>0.996935</td>\n",
       "      <td>0.621118</td>\n",
       "    </tr>\n",
       "    <tr>\n",
       "      <td>16</td>\n",
       "      <td>tvec_bagclassifier_score</td>\n",
       "      <td>0.996935</td>\n",
       "      <td>0.594720</td>\n",
       "    </tr>\n",
       "  </tbody>\n",
       "</table>\n",
       "</div>"
      ],
      "text/plain": [
       "          Classification Model  Train_score  Test_Score\n",
       "0                         base     0.491188    0.492236\n",
       "1         bernoulli score_cvec     0.919540    0.686335\n",
       "2                   cvec_score     0.966284    0.698758\n",
       "3        bernoulli scoore tvec     0.919540    0.686335\n",
       "4                   tvec_score     0.932567    0.706522\n",
       "5   cvec_best_score_gridsearch     0.631418    0.631418\n",
       "6   tvec_best_score_gridsearch     0.634483    0.634483\n",
       "7      gs_cvec_model_estimator     0.885824    0.669255\n",
       "8      gs_tvec_model_estimator     0.857471    0.667702\n",
       "9             trees_cvec_score     0.996935    0.627329\n",
       "10            trees_tvec_score     0.996935    0.591615\n",
       "11  Cvec Trees w/ hyper_params     0.591571    0.576087\n",
       "12  Tvec Trees w/ hyper_params     0.586973    0.568323\n",
       "13       Cvec Trees Gridsearch     0.632184    0.604037\n",
       "14       Tvec Trees Gridsearch     0.617625    0.588509\n",
       "15    cvec_bagclassifier_score     0.996935    0.621118\n",
       "16    tvec_bagclassifier_score     0.996935    0.594720"
      ]
     },
     "execution_count": 155,
     "metadata": {},
     "output_type": "execute_result"
    }
   ],
   "source": [
    "df['Classification Model']= Names\n",
    "df['Train_score']= Train\n",
    "df['Test_Score']= Test\n",
    "df"
   ]
  },
  {
   "cell_type": "markdown",
   "metadata": {},
   "source": [
    "## Extra (graph of results)"
   ]
  },
  {
   "cell_type": "code",
   "execution_count": 156,
   "metadata": {},
   "outputs": [],
   "source": [
    "import numpy as np"
   ]
  },
  {
   "cell_type": "code",
   "execution_count": 157,
   "metadata": {},
   "outputs": [
    {
     "data": {
      "image/png": "[encoded data removed]",
      "text/plain": [
       "<Figure size 720x720 with 1 Axes>"
      ]
     },
     "metadata": {
      "needs_background": "light"
     },
     "output_type": "display_data"
    }
   ],
   "source": [
    "graphdf=pd.DataFrame({'x': range(0,17), 'y':  df['Test_Score']})\n",
    " \n",
    "# plot\n",
    "plt.figure(figsize=(10,10))\n",
    "plt.plot( 'x', 'y', data=graphdf, linestyle='-', marker='o')\n",
    "plt.title('Score changes in every attempt', fontsize=20)\n",
    "plt.xlabel('Attempt', fontsize=20)\n",
    "plt.ylabel('Score', fontsize=20)\n",
    "plt.show()"
   ]
  },
  {
   "cell_type": "markdown",
   "metadata": {},
   "source": [
    "# Conclusions:\n",
    "**The evaluation of the findings obtained in this jupyter notebook will be discussed in the .readme as well as in the presentation. The study presented here serves to collect the data which will later be evaluated in relation to the pertaining questions of the project.**"
   ]
  }
 ],
 "metadata": {
  "kernelspec": {
   "display_name": "Python 3",
   "language": "python",
   "name": "python3"
  },
  "language_info": {
   "codemirror_mode": {
    "name": "ipython",
    "version": 3
   },
   "file_extension": ".py",
   "mimetype": "text/x-python",
   "name": "python",
   "nbconvert_exporter": "python",
   "pygments_lexer": "ipython3",
   "version": "3.7.3"
  }
 },
 "nbformat": 4,
 "nbformat_minor": 2
}
