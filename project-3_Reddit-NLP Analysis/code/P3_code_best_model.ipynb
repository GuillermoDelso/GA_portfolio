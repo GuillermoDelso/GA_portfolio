{
 "cells": [
  {
   "cell_type": "markdown",
   "metadata": {},
   "source": [
    "# Project 3 analyzing the best model"
   ]
  },
  {
   "cell_type": "markdown",
   "metadata": {},
   "source": [
    "## In this notebook we will work with only the best model."
   ]
  },
  {
   "cell_type": "markdown",
   "metadata": {},
   "source": [
    "For project 3, your goal is two-fold:\n",
    "1. Using Reddit's API, you'll collect posts from two subreddits of your choosing.\n",
    "2. You'll then use NLP to train a classifier on which subreddit a given post came from. This is a binary classification problem."
   ]
  },
  {
   "cell_type": "markdown",
   "metadata": {},
   "source": [
    "**In this Jupyter Notebook, we will focus on the best model from the *second* part of the project.**"
   ]
  },
  {
   "cell_type": "code",
   "execution_count": 4,
   "metadata": {},
   "outputs": [],
   "source": [
    "import pandas as pd\n",
    "import pandas as pd\n",
    "from sklearn.pipeline import Pipeline\n",
    "from sklearn.model_selection import train_test_split, GridSearchCV\n",
    "from sklearn.linear_model import LogisticRegression\n",
    "import matplotlib.pyplot as plt\n",
    "import seaborn as sns\n",
    "from sklearn.tree import DecisionTreeClassifier"
   ]
  },
  {
   "cell_type": "markdown",
   "metadata": {},
   "source": [
    "## Read the data:\n",
    "First we need to read the dataframe we created in the part 1 of the project"
   ]
  },
  {
   "cell_type": "code",
   "execution_count": 5,
   "metadata": {},
   "outputs": [],
   "source": [
    "data = pd.read_csv('../data (gathered)/project3.csv', encoding = 'ISO-8859-1')"
   ]
  },
  {
   "cell_type": "code",
   "execution_count": 6,
   "metadata": {},
   "outputs": [
    {
     "data": {
      "text/html": [
       "<div>\n",
       "<style scoped>\n",
       "    .dataframe tbody tr th:only-of-type {\n",
       "        vertical-align: middle;\n",
       "    }\n",
       "\n",
       "    .dataframe tbody tr th {\n",
       "        vertical-align: top;\n",
       "    }\n",
       "\n",
       "    .dataframe thead th {\n",
       "        text-align: right;\n",
       "    }\n",
       "</style>\n",
       "<table border=\"1\" class=\"dataframe\">\n",
       "  <thead>\n",
       "    <tr style=\"text-align: right;\">\n",
       "      <th></th>\n",
       "      <th>Unnamed: 0</th>\n",
       "      <th>titles</th>\n",
       "      <th>text</th>\n",
       "      <th>subreddit type</th>\n",
       "    </tr>\n",
       "  </thead>\n",
       "  <tbody>\n",
       "    <tr>\n",
       "      <td>0</td>\n",
       "      <td>5097</td>\n",
       "      <td>Hey it's 9/11, so what kinds of sales and door...</td>\n",
       "      <td>NaN</td>\n",
       "      <td>0</td>\n",
       "    </tr>\n",
       "    <tr>\n",
       "      <td>1</td>\n",
       "      <td>5310</td>\n",
       "      <td>I think the ghost haunting my house is into me...</td>\n",
       "      <td>NaN</td>\n",
       "      <td>0</td>\n",
       "    </tr>\n",
       "    <tr>\n",
       "      <td>2</td>\n",
       "      <td>957</td>\n",
       "      <td>I have feelings for someone I met online. I do...</td>\n",
       "      <td>I haven't had feelings for anyone in years, le...</td>\n",
       "      <td>1</td>\n",
       "    </tr>\n",
       "    <tr>\n",
       "      <td>3</td>\n",
       "      <td>306</td>\n",
       "      <td>Is this kids hair color black or brown?</td>\n",
       "      <td>Tell me reddit, black or brown?\\n\\nhttps://med...</td>\n",
       "      <td>1</td>\n",
       "    </tr>\n",
       "    <tr>\n",
       "      <td>4</td>\n",
       "      <td>5088</td>\n",
       "      <td>Im gonna keep this post simple</td>\n",
       "      <td>Alright guys, how would one go about getting f...</td>\n",
       "      <td>0</td>\n",
       "    </tr>\n",
       "  </tbody>\n",
       "</table>\n",
       "</div>"
      ],
      "text/plain": [
       "   Unnamed: 0                                             titles  \\\n",
       "0        5097  Hey it's 9/11, so what kinds of sales and door...   \n",
       "1        5310  I think the ghost haunting my house is into me...   \n",
       "2         957  I have feelings for someone I met online. I do...   \n",
       "3         306            Is this kids hair color black or brown?   \n",
       "4        5088                     Im gonna keep this post simple   \n",
       "\n",
       "                                                text  subreddit type  \n",
       "0                                                NaN               0  \n",
       "1                                                NaN               0  \n",
       "2  I haven't had feelings for anyone in years, le...               1  \n",
       "3  Tell me reddit, black or brown?\\n\\nhttps://med...               1  \n",
       "4  Alright guys, how would one go about getting f...               0  "
      ]
     },
     "execution_count": 6,
     "metadata": {},
     "output_type": "execute_result"
    }
   ],
   "source": [
    "# We take a look at the 'head' and 'tail' of the dataframe to see what is made of.\n",
    "data.head()"
   ]
  },
  {
   "cell_type": "code",
   "execution_count": 7,
   "metadata": {},
   "outputs": [
    {
     "data": {
      "text/html": [
       "<div>\n",
       "<style scoped>\n",
       "    .dataframe tbody tr th:only-of-type {\n",
       "        vertical-align: middle;\n",
       "    }\n",
       "\n",
       "    .dataframe tbody tr th {\n",
       "        vertical-align: top;\n",
       "    }\n",
       "\n",
       "    .dataframe thead th {\n",
       "        text-align: right;\n",
       "    }\n",
       "</style>\n",
       "<table border=\"1\" class=\"dataframe\">\n",
       "  <thead>\n",
       "    <tr style=\"text-align: right;\">\n",
       "      <th></th>\n",
       "      <th>Unnamed: 0</th>\n",
       "      <th>titles</th>\n",
       "      <th>text</th>\n",
       "      <th>subreddit type</th>\n",
       "    </tr>\n",
       "  </thead>\n",
       "  <tbody>\n",
       "    <tr>\n",
       "      <td>1944</td>\n",
       "      <td>529</td>\n",
       "      <td>Does my Username sound like follow the christi...</td>\n",
       "      <td>NaN</td>\n",
       "      <td>1</td>\n",
       "    </tr>\n",
       "    <tr>\n",
       "      <td>1945</td>\n",
       "      <td>5950</td>\n",
       "      <td>Swiped right on my cousin who is married.</td>\n",
       "      <td>Was drunk and she's hot, think I have a chance?</td>\n",
       "      <td>0</td>\n",
       "    </tr>\n",
       "    <tr>\n",
       "      <td>1946</td>\n",
       "      <td>297</td>\n",
       "      <td>Any advice on tickling myself in my sleep ?</td>\n",
       "      <td>Iâve been told and do have videos of my tick...</td>\n",
       "      <td>1</td>\n",
       "    </tr>\n",
       "    <tr>\n",
       "      <td>1947</td>\n",
       "      <td>726</td>\n",
       "      <td>Wife (34f) whose husband (35m) told her she is...</td>\n",
       "      <td>My husband and I have been married for 11 year...</td>\n",
       "      <td>1</td>\n",
       "    </tr>\n",
       "    <tr>\n",
       "      <td>1948</td>\n",
       "      <td>692</td>\n",
       "      <td>Is it weird that I dry and not wash my clothes?</td>\n",
       "      <td>So I usually do all my laundry every weekend, ...</td>\n",
       "      <td>1</td>\n",
       "    </tr>\n",
       "  </tbody>\n",
       "</table>\n",
       "</div>"
      ],
      "text/plain": [
       "      Unnamed: 0                                             titles  \\\n",
       "1944         529  Does my Username sound like follow the christi...   \n",
       "1945        5950          Swiped right on my cousin who is married.   \n",
       "1946         297        Any advice on tickling myself in my sleep ?   \n",
       "1947         726  Wife (34f) whose husband (35m) told her she is...   \n",
       "1948         692    Is it weird that I dry and not wash my clothes?   \n",
       "\n",
       "                                                   text  subreddit type  \n",
       "1944                                                NaN               1  \n",
       "1945    Was drunk and she's hot, think I have a chance?               0  \n",
       "1946  Iâve been told and do have videos of my tick...               1  \n",
       "1947  My husband and I have been married for 11 year...               1  \n",
       "1948  So I usually do all my laundry every weekend, ...               1  "
      ]
     },
     "execution_count": 7,
     "metadata": {},
     "output_type": "execute_result"
    }
   ],
   "source": [
    "data.tail()"
   ]
  },
  {
   "cell_type": "code",
   "execution_count": 8,
   "metadata": {},
   "outputs": [
    {
     "data": {
      "text/plain": [
       "0    991\n",
       "1    958\n",
       "Name: subreddit type, dtype: int64"
      ]
     },
     "execution_count": 8,
     "metadata": {},
     "output_type": "execute_result"
    }
   ],
   "source": [
    "# We also check (again) that we have sufficient data from both of the subreddits.\n",
    "data['subreddit type'].value_counts()"
   ]
  },
  {
   "cell_type": "markdown",
   "metadata": {},
   "source": [
    "**Comment:** we can see that we do not have unbalanced data, which is a good thing."
   ]
  },
  {
   "cell_type": "code",
   "execution_count": 9,
   "metadata": {},
   "outputs": [
    {
     "data": {
      "text/plain": [
       "(1949, 4)"
      ]
     },
     "execution_count": 9,
     "metadata": {},
     "output_type": "execute_result"
    }
   ],
   "source": [
    "# Looking at the data shape we notice that we have one more column than we had in part 1 (the previous Jupyter notebook)\n",
    "data.shape"
   ]
  },
  {
   "cell_type": "markdown",
   "metadata": {},
   "source": [
    "### Dropping missing values\n",
    "We look at the missing values we have and decide whether to drop them or not."
   ]
  },
  {
   "cell_type": "code",
   "execution_count": 10,
   "metadata": {},
   "outputs": [
    {
     "data": {
      "text/plain": [
       "Unnamed: 0          0\n",
       "titles              0\n",
       "text              715\n",
       "subreddit type      0\n",
       "dtype: int64"
      ]
     },
     "execution_count": 10,
     "metadata": {},
     "output_type": "execute_result"
    }
   ],
   "source": [
    "data.isnull().sum()"
   ]
  },
  {
   "cell_type": "markdown",
   "metadata": {},
   "source": [
    "**Comment:** We notice that there are 715 rows that are missing the text.\n",
    "Dropping them would mean loosing almost half of our data. Moreover, the missing text comes mostly from the second subreddit (shittyadvice). Dropping all the text values would make our model unbalanced. \n",
    "Since we are focusing on the titles for our X values, we decide to not drop the rows."
   ]
  },
  {
   "cell_type": "code",
   "execution_count": 11,
   "metadata": {},
   "outputs": [],
   "source": [
    "# First, we created a model without the rows that had missing values, but this model was worse than the others.\n",
    "#data.dropna(inplace=True)"
   ]
  },
  {
   "cell_type": "markdown",
   "metadata": {},
   "source": [
    "### Dropping unnecessary columns:\n",
    "We proceed to drop the unnecessary columns (e.g. 'Unnamed: 0')"
   ]
  },
  {
   "cell_type": "code",
   "execution_count": 12,
   "metadata": {},
   "outputs": [],
   "source": [
    "data.drop('Unnamed: 0', axis=1, inplace=True)"
   ]
  },
  {
   "cell_type": "code",
   "execution_count": 13,
   "metadata": {
    "scrolled": true
   },
   "outputs": [
    {
     "data": {
      "text/html": [
       "<div>\n",
       "<style scoped>\n",
       "    .dataframe tbody tr th:only-of-type {\n",
       "        vertical-align: middle;\n",
       "    }\n",
       "\n",
       "    .dataframe tbody tr th {\n",
       "        vertical-align: top;\n",
       "    }\n",
       "\n",
       "    .dataframe thead th {\n",
       "        text-align: right;\n",
       "    }\n",
       "</style>\n",
       "<table border=\"1\" class=\"dataframe\">\n",
       "  <thead>\n",
       "    <tr style=\"text-align: right;\">\n",
       "      <th></th>\n",
       "      <th>titles</th>\n",
       "      <th>text</th>\n",
       "      <th>subreddit type</th>\n",
       "    </tr>\n",
       "  </thead>\n",
       "  <tbody>\n",
       "    <tr>\n",
       "      <td>0</td>\n",
       "      <td>Hey it's 9/11, so what kinds of sales and door...</td>\n",
       "      <td>NaN</td>\n",
       "      <td>0</td>\n",
       "    </tr>\n",
       "    <tr>\n",
       "      <td>1</td>\n",
       "      <td>I think the ghost haunting my house is into me...</td>\n",
       "      <td>NaN</td>\n",
       "      <td>0</td>\n",
       "    </tr>\n",
       "    <tr>\n",
       "      <td>2</td>\n",
       "      <td>I have feelings for someone I met online. I do...</td>\n",
       "      <td>I haven't had feelings for anyone in years, le...</td>\n",
       "      <td>1</td>\n",
       "    </tr>\n",
       "    <tr>\n",
       "      <td>3</td>\n",
       "      <td>Is this kids hair color black or brown?</td>\n",
       "      <td>Tell me reddit, black or brown?\\n\\nhttps://med...</td>\n",
       "      <td>1</td>\n",
       "    </tr>\n",
       "    <tr>\n",
       "      <td>4</td>\n",
       "      <td>Im gonna keep this post simple</td>\n",
       "      <td>Alright guys, how would one go about getting f...</td>\n",
       "      <td>0</td>\n",
       "    </tr>\n",
       "  </tbody>\n",
       "</table>\n",
       "</div>"
      ],
      "text/plain": [
       "                                              titles  \\\n",
       "0  Hey it's 9/11, so what kinds of sales and door...   \n",
       "1  I think the ghost haunting my house is into me...   \n",
       "2  I have feelings for someone I met online. I do...   \n",
       "3            Is this kids hair color black or brown?   \n",
       "4                     Im gonna keep this post simple   \n",
       "\n",
       "                                                text  subreddit type  \n",
       "0                                                NaN               0  \n",
       "1                                                NaN               0  \n",
       "2  I haven't had feelings for anyone in years, le...               1  \n",
       "3  Tell me reddit, black or brown?\\n\\nhttps://med...               1  \n",
       "4  Alright guys, how would one go about getting f...               0  "
      ]
     },
     "execution_count": 13,
     "metadata": {},
     "output_type": "execute_result"
    }
   ],
   "source": [
    "data.head()"
   ]
  },
  {
   "cell_type": "code",
   "execution_count": 14,
   "metadata": {},
   "outputs": [
    {
     "data": {
      "text/plain": [
       "(1949, 3)"
      ]
     },
     "execution_count": 14,
     "metadata": {},
     "output_type": "execute_result"
    }
   ],
   "source": [
    "# We check to see whether the shape is the same as in part 1 of the project (1949,3)\n",
    "data.shape"
   ]
  },
  {
   "cell_type": "markdown",
   "metadata": {},
   "source": [
    "# Creating a new column with ALL the text (titles + text)"
   ]
  },
  {
   "cell_type": "code",
   "execution_count": 15,
   "metadata": {},
   "outputs": [],
   "source": [
    "data['all_text']= data['titles'] + ' ' + data['text'].map(str)"
   ]
  },
  {
   "cell_type": "code",
   "execution_count": 16,
   "metadata": {},
   "outputs": [
    {
     "data": {
      "text/html": [
       "<div>\n",
       "<style scoped>\n",
       "    .dataframe tbody tr th:only-of-type {\n",
       "        vertical-align: middle;\n",
       "    }\n",
       "\n",
       "    .dataframe tbody tr th {\n",
       "        vertical-align: top;\n",
       "    }\n",
       "\n",
       "    .dataframe thead th {\n",
       "        text-align: right;\n",
       "    }\n",
       "</style>\n",
       "<table border=\"1\" class=\"dataframe\">\n",
       "  <thead>\n",
       "    <tr style=\"text-align: right;\">\n",
       "      <th></th>\n",
       "      <th>titles</th>\n",
       "      <th>text</th>\n",
       "      <th>subreddit type</th>\n",
       "      <th>all_text</th>\n",
       "    </tr>\n",
       "  </thead>\n",
       "  <tbody>\n",
       "    <tr>\n",
       "      <td>0</td>\n",
       "      <td>Hey it's 9/11, so what kinds of sales and door...</td>\n",
       "      <td>NaN</td>\n",
       "      <td>0</td>\n",
       "      <td>Hey it's 9/11, so what kinds of sales and door...</td>\n",
       "    </tr>\n",
       "    <tr>\n",
       "      <td>1</td>\n",
       "      <td>I think the ghost haunting my house is into me...</td>\n",
       "      <td>NaN</td>\n",
       "      <td>0</td>\n",
       "      <td>I think the ghost haunting my house is into me...</td>\n",
       "    </tr>\n",
       "    <tr>\n",
       "      <td>2</td>\n",
       "      <td>I have feelings for someone I met online. I do...</td>\n",
       "      <td>I haven't had feelings for anyone in years, le...</td>\n",
       "      <td>1</td>\n",
       "      <td>I have feelings for someone I met online. I do...</td>\n",
       "    </tr>\n",
       "    <tr>\n",
       "      <td>3</td>\n",
       "      <td>Is this kids hair color black or brown?</td>\n",
       "      <td>Tell me reddit, black or brown?\\n\\nhttps://med...</td>\n",
       "      <td>1</td>\n",
       "      <td>Is this kids hair color black or brown? Tell m...</td>\n",
       "    </tr>\n",
       "    <tr>\n",
       "      <td>4</td>\n",
       "      <td>Im gonna keep this post simple</td>\n",
       "      <td>Alright guys, how would one go about getting f...</td>\n",
       "      <td>0</td>\n",
       "      <td>Im gonna keep this post simple Alright guys, h...</td>\n",
       "    </tr>\n",
       "    <tr>\n",
       "      <td>...</td>\n",
       "      <td>...</td>\n",
       "      <td>...</td>\n",
       "      <td>...</td>\n",
       "      <td>...</td>\n",
       "    </tr>\n",
       "    <tr>\n",
       "      <td>1944</td>\n",
       "      <td>Does my Username sound like follow the christi...</td>\n",
       "      <td>NaN</td>\n",
       "      <td>1</td>\n",
       "      <td>Does my Username sound like follow the christi...</td>\n",
       "    </tr>\n",
       "    <tr>\n",
       "      <td>1945</td>\n",
       "      <td>Swiped right on my cousin who is married.</td>\n",
       "      <td>Was drunk and she's hot, think I have a chance?</td>\n",
       "      <td>0</td>\n",
       "      <td>Swiped right on my cousin who is married. Was ...</td>\n",
       "    </tr>\n",
       "    <tr>\n",
       "      <td>1946</td>\n",
       "      <td>Any advice on tickling myself in my sleep ?</td>\n",
       "      <td>Iâve been told and do have videos of my tick...</td>\n",
       "      <td>1</td>\n",
       "      <td>Any advice on tickling myself in my sleep ? Iâ...</td>\n",
       "    </tr>\n",
       "    <tr>\n",
       "      <td>1947</td>\n",
       "      <td>Wife (34f) whose husband (35m) told her she is...</td>\n",
       "      <td>My husband and I have been married for 11 year...</td>\n",
       "      <td>1</td>\n",
       "      <td>Wife (34f) whose husband (35m) told her she is...</td>\n",
       "    </tr>\n",
       "    <tr>\n",
       "      <td>1948</td>\n",
       "      <td>Is it weird that I dry and not wash my clothes?</td>\n",
       "      <td>So I usually do all my laundry every weekend, ...</td>\n",
       "      <td>1</td>\n",
       "      <td>Is it weird that I dry and not wash my clothes...</td>\n",
       "    </tr>\n",
       "  </tbody>\n",
       "</table>\n",
       "<p>1949 rows × 4 columns</p>\n",
       "</div>"
      ],
      "text/plain": [
       "                                                 titles  \\\n",
       "0     Hey it's 9/11, so what kinds of sales and door...   \n",
       "1     I think the ghost haunting my house is into me...   \n",
       "2     I have feelings for someone I met online. I do...   \n",
       "3               Is this kids hair color black or brown?   \n",
       "4                        Im gonna keep this post simple   \n",
       "...                                                 ...   \n",
       "1944  Does my Username sound like follow the christi...   \n",
       "1945          Swiped right on my cousin who is married.   \n",
       "1946        Any advice on tickling myself in my sleep ?   \n",
       "1947  Wife (34f) whose husband (35m) told her she is...   \n",
       "1948    Is it weird that I dry and not wash my clothes?   \n",
       "\n",
       "                                                   text  subreddit type  \\\n",
       "0                                                   NaN               0   \n",
       "1                                                   NaN               0   \n",
       "2     I haven't had feelings for anyone in years, le...               1   \n",
       "3     Tell me reddit, black or brown?\\n\\nhttps://med...               1   \n",
       "4     Alright guys, how would one go about getting f...               0   \n",
       "...                                                 ...             ...   \n",
       "1944                                                NaN               1   \n",
       "1945    Was drunk and she's hot, think I have a chance?               0   \n",
       "1946  Iâve been told and do have videos of my tick...               1   \n",
       "1947  My husband and I have been married for 11 year...               1   \n",
       "1948  So I usually do all my laundry every weekend, ...               1   \n",
       "\n",
       "                                               all_text  \n",
       "0     Hey it's 9/11, so what kinds of sales and door...  \n",
       "1     I think the ghost haunting my house is into me...  \n",
       "2     I have feelings for someone I met online. I do...  \n",
       "3     Is this kids hair color black or brown? Tell m...  \n",
       "4     Im gonna keep this post simple Alright guys, h...  \n",
       "...                                                 ...  \n",
       "1944  Does my Username sound like follow the christi...  \n",
       "1945  Swiped right on my cousin who is married. Was ...  \n",
       "1946  Any advice on tickling myself in my sleep ? Iâ...  \n",
       "1947  Wife (34f) whose husband (35m) told her she is...  \n",
       "1948  Is it weird that I dry and not wash my clothes...  \n",
       "\n",
       "[1949 rows x 4 columns]"
      ]
     },
     "execution_count": 16,
     "metadata": {},
     "output_type": "execute_result"
    }
   ],
   "source": [
    "data"
   ]
  },
  {
   "cell_type": "code",
   "execution_count": 17,
   "metadata": {},
   "outputs": [
    {
     "data": {
      "text/plain": [
       "0    Hey it's 9/11, so what kinds of sales and door...\n",
       "1    I think the ghost haunting my house is into me...\n",
       "2    I have feelings for someone I met online. I do...\n",
       "3    Is this kids hair color black or brown? Tell m...\n",
       "4    Im gonna keep this post simple Alright guys, h...\n",
       "Name: all_text, dtype: object"
      ]
     },
     "execution_count": 17,
     "metadata": {},
     "output_type": "execute_result"
    }
   ],
   "source": [
    "data['all_text'].head()"
   ]
  },
  {
   "cell_type": "code",
   "execution_count": 18,
   "metadata": {},
   "outputs": [
    {
     "data": {
      "text/plain": [
       "titles            object\n",
       "text              object\n",
       "subreddit type     int64\n",
       "all_text          object\n",
       "dtype: object"
      ]
     },
     "execution_count": 18,
     "metadata": {},
     "output_type": "execute_result"
    }
   ],
   "source": [
    "data.dtypes"
   ]
  },
  {
   "cell_type": "code",
   "execution_count": 19,
   "metadata": {},
   "outputs": [
    {
     "data": {
      "text/plain": [
       "titles              0\n",
       "text              715\n",
       "subreddit type      0\n",
       "all_text            0\n",
       "dtype: int64"
      ]
     },
     "execution_count": 19,
     "metadata": {},
     "output_type": "execute_result"
    }
   ],
   "source": [
    "data.isnull().sum()"
   ]
  },
  {
   "cell_type": "markdown",
   "metadata": {},
   "source": [
    "# EDA\n",
    "We proceed to the EDA"
   ]
  },
  {
   "cell_type": "markdown",
   "metadata": {},
   "source": [
    "- We will be taking the 'titles' as our X variable (since it has no missing values.\n",
    "- We will be using the 'subreddit type' column as our y variable. "
   ]
  },
  {
   "cell_type": "code",
   "execution_count": 20,
   "metadata": {},
   "outputs": [],
   "source": [
    "X = data['all_text']\n",
    "y = data['subreddit type']"
   ]
  },
  {
   "cell_type": "code",
   "execution_count": 21,
   "metadata": {
    "scrolled": true
   },
   "outputs": [
    {
     "data": {
      "text/plain": [
       "0    991\n",
       "1    958\n",
       "Name: subreddit type, dtype: int64"
      ]
     },
     "execution_count": 21,
     "metadata": {},
     "output_type": "execute_result"
    }
   ],
   "source": [
    "y.value_counts()"
   ]
  },
  {
   "cell_type": "code",
   "execution_count": 22,
   "metadata": {},
   "outputs": [
    {
     "data": {
      "text/plain": [
       "0    0.508466\n",
       "1    0.491534\n",
       "Name: subreddit type, dtype: float64"
      ]
     },
     "execution_count": 22,
     "metadata": {},
     "output_type": "execute_result"
    }
   ],
   "source": [
    "y.value_counts(normalize=True)"
   ]
  },
  {
   "cell_type": "code",
   "execution_count": 23,
   "metadata": {
    "scrolled": true
   },
   "outputs": [
    {
     "data": {
      "image/png": "[encoded data removed]",
      "text/plain": [
       "<Figure size 1800x720 with 1 Axes>"
      ]
     },
     "metadata": {},
     "output_type": "display_data"
    }
   ],
   "source": [
    "plt.figure(figsize=(25, 10))\n",
    "labels=['ShittyAdvice', 'Advice']\n",
    "plt.pie(y.value_counts(normalize=True), labels=labels,  autopct='%1.0f%%');"
   ]
  },
  {
   "cell_type": "code",
   "execution_count": 24,
   "metadata": {},
   "outputs": [
    {
     "data": {
      "text/plain": [
       "(1949,)"
      ]
     },
     "execution_count": 24,
     "metadata": {},
     "output_type": "execute_result"
    }
   ],
   "source": [
    "y.shape"
   ]
  },
  {
   "cell_type": "markdown",
   "metadata": {},
   "source": [
    "We look at the distribution of lenght of titles to see how long are they on average and whether there is a skew."
   ]
  },
  {
   "cell_type": "code",
   "execution_count": 25,
   "metadata": {},
   "outputs": [],
   "source": [
    "len_status = [len(s) for s in X]"
   ]
  },
  {
   "cell_type": "code",
   "execution_count": 26,
   "metadata": {},
   "outputs": [],
   "source": [
    "import matplotlib.pyplot as plt"
   ]
  },
  {
   "cell_type": "code",
   "execution_count": 27,
   "metadata": {},
   "outputs": [
    {
     "data": {
      "text/plain": [
       "(array([1675.,  187.,   54.,    9.,    9.,    3.,    3.,    4.,    3.,\n",
       "           2.]),\n",
       " array([   15. ,  1343.5,  2672. ,  4000.5,  5329. ,  6657.5,  7986. ,\n",
       "         9314.5, 10643. , 11971.5, 13300. ]),\n",
       " <a list of 10 Patch objects>)"
      ]
     },
     "execution_count": 27,
     "metadata": {},
     "output_type": "execute_result"
    },
    {
     "data": {
      "image/png": "[encoded data removed]",
      "text/plain": [
       "<Figure size 432x288 with 1 Axes>"
      ]
     },
     "metadata": {
      "needs_background": "light"
     },
     "output_type": "display_data"
    }
   ],
   "source": [
    "plt.hist(len_status)"
   ]
  },
  {
   "cell_type": "code",
   "execution_count": 28,
   "metadata": {},
   "outputs": [
    {
     "data": {
      "text/plain": [
       "<matplotlib.axes._subplots.AxesSubplot at 0x10e6f74a8>"
      ]
     },
     "execution_count": 28,
     "metadata": {},
     "output_type": "execute_result"
    },
    {
     "data": {
      "image/png": "[encoded data removed]",
      "text/plain": [
       "<Figure size 1440x432 with 1 Axes>"
      ]
     },
     "metadata": {
      "needs_background": "light"
     },
     "output_type": "display_data"
    }
   ],
   "source": [
    "plt.figure(figsize=(20, 6))\n",
    "sns.distplot(len_status)"
   ]
  },
  {
   "cell_type": "code",
   "execution_count": 29,
   "metadata": {
    "scrolled": true
   },
   "outputs": [
    {
     "data": {
      "text/plain": [
       "(array([1.466e+03, 2.820e+02, 9.900e+01, 5.000e+01, 2.100e+01, 3.000e+00,\n",
       "        6.000e+00, 5.000e+00, 3.000e+00, 2.000e+00, 2.000e+00, 2.000e+00,\n",
       "        3.000e+00, 2.000e+00, 0.000e+00, 1.000e+00, 1.000e+00, 0.000e+00,\n",
       "        0.000e+00, 0.000e+00, 0.000e+00, 0.000e+00, 0.000e+00, 0.000e+00,\n",
       "        0.000e+00, 0.000e+00, 0.000e+00, 0.000e+00, 0.000e+00, 0.000e+00,\n",
       "        0.000e+00, 0.000e+00, 0.000e+00, 0.000e+00, 0.000e+00, 0.000e+00,\n",
       "        0.000e+00, 0.000e+00, 0.000e+00, 0.000e+00, 0.000e+00, 0.000e+00,\n",
       "        0.000e+00, 0.000e+00, 0.000e+00, 0.000e+00, 0.000e+00, 0.000e+00,\n",
       "        0.000e+00, 1.000e+00]),\n",
       " array([3.00000e+00, 1.58020e+02, 3.13040e+02, 4.68060e+02, 6.23080e+02,\n",
       "        7.78100e+02, 9.33120e+02, 1.08814e+03, 1.24316e+03, 1.39818e+03,\n",
       "        1.55320e+03, 1.70822e+03, 1.86324e+03, 2.01826e+03, 2.17328e+03,\n",
       "        2.32830e+03, 2.48332e+03, 2.63834e+03, 2.79336e+03, 2.94838e+03,\n",
       "        3.10340e+03, 3.25842e+03, 3.41344e+03, 3.56846e+03, 3.72348e+03,\n",
       "        3.87850e+03, 4.03352e+03, 4.18854e+03, 4.34356e+03, 4.49858e+03,\n",
       "        4.65360e+03, 4.80862e+03, 4.96364e+03, 5.11866e+03, 5.27368e+03,\n",
       "        5.42870e+03, 5.58372e+03, 5.73874e+03, 5.89376e+03, 6.04878e+03,\n",
       "        6.20380e+03, 6.35882e+03, 6.51384e+03, 6.66886e+03, 6.82388e+03,\n",
       "        6.97890e+03, 7.13392e+03, 7.28894e+03, 7.44396e+03, 7.59898e+03,\n",
       "        7.75400e+03]),\n",
       " <a list of 50 Patch objects>)"
      ]
     },
     "execution_count": 29,
     "metadata": {},
     "output_type": "execute_result"
    },
    {
     "data": {
      "image/png": "[encoded data removed]",
      "text/plain": [
       "<Figure size 432x288 with 1 Axes>"
      ]
     },
     "metadata": {
      "needs_background": "light"
     },
     "output_type": "display_data"
    }
   ],
   "source": [
    "num_words= [len(s.split(' ')) for s in X]\n",
    "plt.hist(num_words, bins=50)"
   ]
  },
  {
   "cell_type": "code",
   "execution_count": 30,
   "metadata": {},
   "outputs": [
    {
     "data": {
      "text/plain": [
       "<matplotlib.axes._subplots.AxesSubplot at 0x1a2c4240b8>"
      ]
     },
     "execution_count": 30,
     "metadata": {},
     "output_type": "execute_result"
    },
    {
     "data": {
      "image/png": "[encoded data removed]",
      "text/plain": [
       "<Figure size 1440x432 with 1 Axes>"
      ]
     },
     "metadata": {
      "needs_background": "light"
     },
     "output_type": "display_data"
    }
   ],
   "source": [
    "plt.figure(figsize=(20, 6))\n",
    "sns.distplot(num_words)"
   ]
  },
  {
   "cell_type": "markdown",
   "metadata": {},
   "source": [
    "There seems to be a bit of a right skew.\n",
    "- In other words, some titles are very long.\n",
    "    - The explanation for this is that some titles explain the whole situation, while others use the text to explain the situation."
   ]
  },
  {
   "cell_type": "markdown",
   "metadata": {},
   "source": [
    "# Cvec and Tvec Log vs Cvec and Tvec Bernoulli"
   ]
  },
  {
   "cell_type": "code",
   "execution_count": 31,
   "metadata": {},
   "outputs": [],
   "source": [
    "from sklearn.feature_extraction.text import CountVectorizer, TfidfVectorizer"
   ]
  },
  {
   "cell_type": "markdown",
   "metadata": {},
   "source": [
    "## Base values (to check whether our models improve them)"
   ]
  },
  {
   "cell_type": "code",
   "execution_count": 32,
   "metadata": {},
   "outputs": [],
   "source": [
    "X_train, X_test, y_train, y_test = train_test_split(X,\n",
    "                                                    y,\n",
    "                                                    test_size=0.33,\n",
    "                                                    stratify=y,\n",
    "                                                    random_state=42)"
   ]
  },
  {
   "cell_type": "code",
   "execution_count": 33,
   "metadata": {},
   "outputs": [
    {
     "data": {
      "text/plain": [
       "0    0.508812\n",
       "1    0.491188\n",
       "Name: subreddit type, dtype: float64"
      ]
     },
     "execution_count": 33,
     "metadata": {},
     "output_type": "execute_result"
    }
   ],
   "source": [
    "y_train.value_counts(normalize=True)"
   ]
  },
  {
   "cell_type": "code",
   "execution_count": 34,
   "metadata": {},
   "outputs": [
    {
     "data": {
      "text/plain": [
       "0    0.507764\n",
       "1    0.492236\n",
       "Name: subreddit type, dtype: float64"
      ]
     },
     "execution_count": 34,
     "metadata": {},
     "output_type": "execute_result"
    }
   ],
   "source": [
    "y_test.value_counts(normalize=True)"
   ]
  },
  {
   "cell_type": "code",
   "execution_count": 35,
   "metadata": {},
   "outputs": [],
   "source": [
    "train_base = 0.490847\n",
    "test_base = 0.491879"
   ]
  },
  {
   "cell_type": "markdown",
   "metadata": {},
   "source": [
    "## Fitting Cvec"
   ]
  },
  {
   "cell_type": "code",
   "execution_count": 36,
   "metadata": {},
   "outputs": [],
   "source": [
    "cvec = CountVectorizer(stop_words='english')"
   ]
  },
  {
   "cell_type": "code",
   "execution_count": 37,
   "metadata": {},
   "outputs": [],
   "source": [
    "X_train_cvec = cvec.fit_transform(X_train)"
   ]
  },
  {
   "cell_type": "code",
   "execution_count": 38,
   "metadata": {},
   "outputs": [],
   "source": [
    "X_test_cvec = cvec.transform(X_test)"
   ]
  },
  {
   "cell_type": "code",
   "execution_count": 39,
   "metadata": {},
   "outputs": [
    {
     "data": {
      "text/plain": [
       "0    0.507764\n",
       "1    0.492236\n",
       "Name: subreddit type, dtype: float64"
      ]
     },
     "execution_count": 39,
     "metadata": {},
     "output_type": "execute_result"
    }
   ],
   "source": [
    "y_test.value_counts(normalize=True) "
   ]
  },
  {
   "cell_type": "code",
   "execution_count": 40,
   "metadata": {},
   "outputs": [
    {
     "name": "stdout",
     "output_type": "stream",
     "text": [
      "Training Score: 0.9877394636015325\n",
      "Testing Score: 0.8835403726708074\n"
     ]
    },
    {
     "name": "stderr",
     "output_type": "stream",
     "text": [
      "//anaconda3/lib/python3.7/site-packages/sklearn/linear_model/logistic.py:432: FutureWarning: Default solver will be changed to 'lbfgs' in 0.22. Specify a solver to silence this warning.\n",
      "  FutureWarning)\n"
     ]
    }
   ],
   "source": [
    "# Instantiate logistic regression.\n",
    "lr = LogisticRegression()\n",
    "\n",
    "# Fit logistic regression.\n",
    "lr.fit(X_train_cvec, y_train)\n",
    "\n",
    "# Evaluate logistic regression.\n",
    "print(f'Training Score: {lr.score(X_train_cvec, y_train)}')\n",
    "print(f'Testing Score: {lr.score(X_test_cvec, y_test)}')"
   ]
  },
  {
   "cell_type": "code",
   "execution_count": 41,
   "metadata": {},
   "outputs": [],
   "source": [
    "cvec_train_score = lr.score(X_train_cvec, y_train)"
   ]
  },
  {
   "cell_type": "code",
   "execution_count": 42,
   "metadata": {},
   "outputs": [],
   "source": [
    "cvec_test_score  = lr.score(X_test_cvec, y_test)"
   ]
  },
  {
   "cell_type": "markdown",
   "metadata": {},
   "source": [
    "This is the best score we got with our models. "
   ]
  },
  {
   "cell_type": "code",
   "execution_count": 43,
   "metadata": {},
   "outputs": [],
   "source": [
    "from nltk.corpus import stopwords\n",
    "stop_words = set(stopwords.words('english'))"
   ]
  },
  {
   "cell_type": "code",
   "execution_count": 44,
   "metadata": {},
   "outputs": [],
   "source": [
    "tokens = [w for w in X if not w in stop_words]"
   ]
  },
  {
   "cell_type": "code",
   "execution_count": 45,
   "metadata": {},
   "outputs": [],
   "source": [
    "def get_top_n_words(corpus, n=None):\n",
    "\n",
    "    vec = CountVectorizer(stop_words='english').fit(corpus)\n",
    "    bag_of_words = vec.transform(corpus)\n",
    "    sum_words = bag_of_words.sum(axis=0) \n",
    "    words_freq = [(word, sum_words[0, idx]) for word, idx in vec.vocabulary_.items()]\n",
    "    words_freq =sorted(words_freq, key = lambda x: x[1], reverse=True)\n",
    "    return words_freq[:n]"
   ]
  },
  {
   "cell_type": "code",
   "execution_count": 46,
   "metadata": {},
   "outputs": [],
   "source": [
    "aa = data['all_text'].loc[data['subreddit type']==1]"
   ]
  },
  {
   "cell_type": "code",
   "execution_count": 47,
   "metadata": {
    "scrolled": true
   },
   "outputs": [
    {
     "data": {
      "text/plain": [
       "[('just', 1275),\n",
       " ('like', 1208),\n",
       " ('iâ', 1079),\n",
       " ('know', 928),\n",
       " ('want', 793),\n",
       " ('really', 765),\n",
       " ('time', 732),\n",
       " ('ve', 662),\n",
       " ('feel', 587),\n",
       " ('friends', 565),\n",
       " ('don', 561),\n",
       " ('school', 521),\n",
       " ('said', 493),\n",
       " ('donâ', 470),\n",
       " ('going', 450),\n",
       " ('friend', 439),\n",
       " ('told', 421),\n",
       " ('work', 412),\n",
       " ('help', 405),\n",
       " ('people', 401),\n",
       " ('think', 385),\n",
       " ('got', 379),\n",
       " ('things', 376),\n",
       " ('advice', 372),\n",
       " ('life', 356),\n",
       " ('job', 355),\n",
       " ('year', 348),\n",
       " ('need', 326),\n",
       " ('years', 322),\n",
       " ('make', 319),\n",
       " ('day', 319),\n",
       " ('lot', 308),\n",
       " ('way', 292),\n",
       " ('itâ', 292),\n",
       " ('good', 274),\n",
       " ('tell', 273),\n",
       " ('started', 264),\n",
       " ('talk', 259),\n",
       " ('did', 259),\n",
       " ('girl', 254),\n",
       " ('say', 251),\n",
       " ('ll', 243),\n",
       " ('parents', 241),\n",
       " ('family', 233),\n",
       " ('best', 224),\n",
       " ('went', 223),\n",
       " ('house', 221),\n",
       " ('getting', 218),\n",
       " ('love', 216),\n",
       " ('away', 216)]"
      ]
     },
     "execution_count": 47,
     "metadata": {},
     "output_type": "execute_result"
    }
   ],
   "source": [
    "get_top_n_words(aa, n=50)"
   ]
  },
  {
   "cell_type": "code",
   "execution_count": 48,
   "metadata": {},
   "outputs": [],
   "source": [
    "bb = data['all_text'].loc[data['subreddit type']==0]"
   ]
  },
  {
   "cell_type": "code",
   "execution_count": 49,
   "metadata": {},
   "outputs": [
    {
     "data": {
      "text/plain": [
       "[('nan', 666),\n",
       " ('just', 127),\n",
       " ('want', 109),\n",
       " ('help', 86),\n",
       " ('like', 81),\n",
       " ('don', 76),\n",
       " ('really', 76),\n",
       " ('need', 75),\n",
       " ('iâ', 74),\n",
       " ('know', 73),\n",
       " ('best', 72),\n",
       " ('make', 71),\n",
       " ('way', 59),\n",
       " ('advice', 55),\n",
       " ('think', 54),\n",
       " ('ve', 54),\n",
       " ('wife', 54),\n",
       " ('time', 53),\n",
       " ('got', 50),\n",
       " ('people', 49),\n",
       " ('work', 47),\n",
       " ('day', 46),\n",
       " ('told', 44),\n",
       " ('good', 40),\n",
       " ('going', 38),\n",
       " ('stop', 38),\n",
       " ('girl', 37),\n",
       " ('money', 36),\n",
       " ('girlfriend', 36),\n",
       " ('tell', 34),\n",
       " ('new', 33),\n",
       " ('reddit', 33),\n",
       " ('getting', 32),\n",
       " ('does', 32),\n",
       " ('cat', 31),\n",
       " ('guy', 31),\n",
       " ('life', 31),\n",
       " ('friend', 28),\n",
       " ('year', 27),\n",
       " ('right', 27),\n",
       " ('said', 27),\n",
       " ('school', 27),\n",
       " ('sex', 26),\n",
       " ('says', 26),\n",
       " ('say', 26),\n",
       " ('old', 25),\n",
       " ('having', 25),\n",
       " ('shit', 25),\n",
       " ('sure', 25),\n",
       " ('things', 25)]"
      ]
     },
     "execution_count": 49,
     "metadata": {},
     "output_type": "execute_result"
    }
   ],
   "source": [
    "get_top_n_words(bb, n=50)"
   ]
  },
  {
   "cell_type": "code",
   "execution_count": 50,
   "metadata": {},
   "outputs": [],
   "source": [
    "preds = lr.predict(X_test_cvec)"
   ]
  },
  {
   "cell_type": "code",
   "execution_count": 51,
   "metadata": {
    "scrolled": true
   },
   "outputs": [
    {
     "data": {
      "text/plain": [
       "array([1, 1, 0, 0, 0, 1, 1, 1, 1, 1, 1, 0, 1, 0, 0, 1, 1, 1, 0, 0, 0, 0,\n",
       "       1, 1, 0, 0, 0, 0, 0, 1, 1, 0, 1, 0, 0, 0, 1, 0, 0, 1, 0, 1, 0, 1,\n",
       "       1, 0, 1, 1, 0, 0, 1, 0, 1, 1, 0, 1, 0, 1, 0, 0, 0, 0, 1, 0, 0, 0,\n",
       "       0, 0, 0, 0, 1, 1, 1, 1, 0, 0, 0, 0, 1, 1, 0, 1, 0, 1, 0, 1, 1, 0,\n",
       "       0, 0, 1, 0, 1, 1, 0, 1, 0, 0, 0, 1, 0, 0, 1, 0, 1, 0, 0, 0, 1, 1,\n",
       "       1, 0, 0, 0, 0, 1, 1, 0, 0, 1, 0, 0, 1, 0, 1, 1, 1, 0, 0, 0, 1, 0,\n",
       "       1, 0, 0, 0, 1, 0, 0, 0, 1, 0, 0, 1, 0, 0, 0, 0, 1, 0, 1, 1, 1, 0,\n",
       "       1, 0, 0, 0, 0, 1, 1, 0, 1, 1, 0, 0, 1, 0, 0, 1, 0, 0, 1, 1, 0, 0,\n",
       "       0, 1, 1, 0, 1, 1, 0, 1, 1, 1, 1, 0, 1, 1, 1, 0, 1, 0, 1, 1, 0, 1,\n",
       "       1, 0, 0, 1, 0, 0, 1, 0, 0, 0, 1, 1, 1, 1, 1, 1, 0, 1, 0, 0, 0, 0,\n",
       "       1, 0, 1, 1, 1, 1, 1, 1, 1, 0, 0, 0, 0, 1, 0, 0, 1, 0, 0, 0, 1, 1,\n",
       "       1, 1, 0, 0, 0, 0, 1, 1, 1, 0, 1, 0, 1, 1, 1, 0, 1, 1, 1, 1, 1, 1,\n",
       "       0, 0, 0, 0, 0, 1, 1, 0, 0, 1, 1, 1, 1, 0, 0, 1, 1, 1, 1, 1, 1, 1,\n",
       "       1, 1, 0, 1, 0, 0, 0, 0, 0, 0, 0, 1, 1, 0, 1, 0, 1, 1, 1, 1, 0, 0,\n",
       "       0, 0, 0, 0, 1, 0, 0, 0, 0, 0, 0, 1, 1, 1, 0, 1, 0, 1, 0, 1, 0, 0,\n",
       "       0, 0, 0, 0, 1, 1, 1, 0, 0, 1, 1, 1, 0, 1, 1, 0, 1, 1, 1, 0, 1, 1,\n",
       "       0, 1, 0, 0, 0, 1, 0, 0, 0, 0, 0, 0, 0, 1, 0, 1, 0, 0, 0, 0, 1, 0,\n",
       "       0, 0, 1, 0, 1, 1, 0, 0, 1, 1, 1, 0, 0, 0, 1, 0, 0, 1, 0, 0, 0, 0,\n",
       "       0, 0, 1, 0, 1, 1, 0, 1, 1, 0, 1, 1, 1, 0, 1, 0, 0, 0, 1, 1, 0, 0,\n",
       "       0, 1, 0, 0, 0, 0, 1, 0, 0, 1, 0, 1, 1, 1, 0, 0, 0, 0, 0, 1, 1, 0,\n",
       "       0, 0, 0, 0, 1, 1, 0, 0, 0, 0, 1, 0, 0, 1, 1, 1, 1, 0, 0, 0, 0, 0,\n",
       "       0, 1, 0, 0, 0, 0, 0, 0, 0, 0, 0, 1, 0, 1, 1, 0, 1, 1, 0, 0, 0, 0,\n",
       "       1, 0, 0, 1, 1, 1, 1, 0, 0, 1, 0, 0, 0, 0, 1, 0, 0, 1, 0, 0, 0, 0,\n",
       "       1, 1, 1, 1, 0, 0, 1, 1, 0, 1, 1, 1, 0, 1, 0, 1, 0, 0, 0, 1, 1, 0,\n",
       "       0, 1, 0, 0, 0, 0, 0, 1, 0, 1, 0, 1, 0, 0, 1, 1, 0, 0, 1, 1, 1, 1,\n",
       "       1, 0, 0, 1, 0, 0, 1, 0, 0, 0, 1, 0, 1, 1, 1, 1, 0, 1, 0, 0, 1, 0,\n",
       "       0, 1, 0, 1, 0, 1, 0, 1, 0, 0, 1, 0, 0, 0, 1, 0, 0, 0, 0, 1, 1, 1,\n",
       "       0, 1, 1, 0, 1, 1, 0, 0, 0, 0, 1, 0, 1, 0, 0, 0, 1, 0, 0, 0, 1, 1,\n",
       "       1, 1, 1, 1, 1, 1, 1, 0, 1, 0, 0, 1, 0, 0, 1, 0, 1, 0, 0, 1, 1, 1,\n",
       "       1, 1, 0, 0, 0, 0])"
      ]
     },
     "execution_count": 51,
     "metadata": {},
     "output_type": "execute_result"
    }
   ],
   "source": [
    "preds"
   ]
  },
  {
   "cell_type": "code",
   "execution_count": 52,
   "metadata": {},
   "outputs": [
    {
     "data": {
      "text/plain": [
       "0.4503105590062112"
      ]
     },
     "execution_count": 52,
     "metadata": {},
     "output_type": "execute_result"
    }
   ],
   "source": [
    "preds.mean()"
   ]
  },
  {
   "cell_type": "code",
   "execution_count": 53,
   "metadata": {},
   "outputs": [],
   "source": [
    "predictions = pd.DataFrame(index=X_test.index)"
   ]
  },
  {
   "cell_type": "code",
   "execution_count": 54,
   "metadata": {},
   "outputs": [
    {
     "name": "stderr",
     "output_type": "stream",
     "text": [
      "//anaconda3/lib/python3.7/site-packages/sklearn/linear_model/logistic.py:432: FutureWarning: Default solver will be changed to 'lbfgs' in 0.22. Specify a solver to silence this warning.\n",
      "  FutureWarning)\n"
     ]
    },
    {
     "data": {
      "text/html": [
       "<div>\n",
       "<style scoped>\n",
       "    .dataframe tbody tr th:only-of-type {\n",
       "        vertical-align: middle;\n",
       "    }\n",
       "\n",
       "    .dataframe tbody tr th {\n",
       "        vertical-align: top;\n",
       "    }\n",
       "\n",
       "    .dataframe thead th {\n",
       "        text-align: right;\n",
       "    }\n",
       "</style>\n",
       "<table border=\"1\" class=\"dataframe\">\n",
       "  <thead>\n",
       "    <tr style=\"text-align: right;\">\n",
       "      <th></th>\n",
       "      <th>Tree 0</th>\n",
       "      <th>Tree 1</th>\n",
       "      <th>Tree 2</th>\n",
       "      <th>Tree 3</th>\n",
       "      <th>Tree 4</th>\n",
       "      <th>Tree 5</th>\n",
       "      <th>Tree 6</th>\n",
       "      <th>Tree 7</th>\n",
       "      <th>Tree 8</th>\n",
       "      <th>Tree 9</th>\n",
       "    </tr>\n",
       "  </thead>\n",
       "  <tbody>\n",
       "    <tr>\n",
       "      <td>1064</td>\n",
       "      <td>1</td>\n",
       "      <td>1</td>\n",
       "      <td>1</td>\n",
       "      <td>1</td>\n",
       "      <td>1</td>\n",
       "      <td>1</td>\n",
       "      <td>1</td>\n",
       "      <td>1</td>\n",
       "      <td>1</td>\n",
       "      <td>1</td>\n",
       "    </tr>\n",
       "    <tr>\n",
       "      <td>1545</td>\n",
       "      <td>1</td>\n",
       "      <td>1</td>\n",
       "      <td>1</td>\n",
       "      <td>1</td>\n",
       "      <td>1</td>\n",
       "      <td>1</td>\n",
       "      <td>1</td>\n",
       "      <td>1</td>\n",
       "      <td>1</td>\n",
       "      <td>1</td>\n",
       "    </tr>\n",
       "    <tr>\n",
       "      <td>1724</td>\n",
       "      <td>0</td>\n",
       "      <td>0</td>\n",
       "      <td>0</td>\n",
       "      <td>0</td>\n",
       "      <td>0</td>\n",
       "      <td>0</td>\n",
       "      <td>0</td>\n",
       "      <td>0</td>\n",
       "      <td>0</td>\n",
       "      <td>0</td>\n",
       "    </tr>\n",
       "    <tr>\n",
       "      <td>1053</td>\n",
       "      <td>0</td>\n",
       "      <td>0</td>\n",
       "      <td>0</td>\n",
       "      <td>0</td>\n",
       "      <td>0</td>\n",
       "      <td>0</td>\n",
       "      <td>0</td>\n",
       "      <td>0</td>\n",
       "      <td>0</td>\n",
       "      <td>0</td>\n",
       "    </tr>\n",
       "    <tr>\n",
       "      <td>1821</td>\n",
       "      <td>0</td>\n",
       "      <td>0</td>\n",
       "      <td>0</td>\n",
       "      <td>0</td>\n",
       "      <td>0</td>\n",
       "      <td>0</td>\n",
       "      <td>0</td>\n",
       "      <td>0</td>\n",
       "      <td>0</td>\n",
       "      <td>0</td>\n",
       "    </tr>\n",
       "    <tr>\n",
       "      <td>...</td>\n",
       "      <td>...</td>\n",
       "      <td>...</td>\n",
       "      <td>...</td>\n",
       "      <td>...</td>\n",
       "      <td>...</td>\n",
       "      <td>...</td>\n",
       "      <td>...</td>\n",
       "      <td>...</td>\n",
       "      <td>...</td>\n",
       "      <td>...</td>\n",
       "    </tr>\n",
       "    <tr>\n",
       "      <td>255</td>\n",
       "      <td>1</td>\n",
       "      <td>1</td>\n",
       "      <td>1</td>\n",
       "      <td>1</td>\n",
       "      <td>1</td>\n",
       "      <td>1</td>\n",
       "      <td>1</td>\n",
       "      <td>1</td>\n",
       "      <td>1</td>\n",
       "      <td>1</td>\n",
       "    </tr>\n",
       "    <tr>\n",
       "      <td>536</td>\n",
       "      <td>0</td>\n",
       "      <td>0</td>\n",
       "      <td>0</td>\n",
       "      <td>0</td>\n",
       "      <td>0</td>\n",
       "      <td>0</td>\n",
       "      <td>0</td>\n",
       "      <td>0</td>\n",
       "      <td>0</td>\n",
       "      <td>0</td>\n",
       "    </tr>\n",
       "    <tr>\n",
       "      <td>1589</td>\n",
       "      <td>0</td>\n",
       "      <td>0</td>\n",
       "      <td>0</td>\n",
       "      <td>0</td>\n",
       "      <td>0</td>\n",
       "      <td>0</td>\n",
       "      <td>0</td>\n",
       "      <td>0</td>\n",
       "      <td>0</td>\n",
       "      <td>0</td>\n",
       "    </tr>\n",
       "    <tr>\n",
       "      <td>9</td>\n",
       "      <td>0</td>\n",
       "      <td>0</td>\n",
       "      <td>0</td>\n",
       "      <td>0</td>\n",
       "      <td>0</td>\n",
       "      <td>0</td>\n",
       "      <td>0</td>\n",
       "      <td>0</td>\n",
       "      <td>0</td>\n",
       "      <td>0</td>\n",
       "    </tr>\n",
       "    <tr>\n",
       "      <td>1131</td>\n",
       "      <td>0</td>\n",
       "      <td>0</td>\n",
       "      <td>0</td>\n",
       "      <td>0</td>\n",
       "      <td>0</td>\n",
       "      <td>0</td>\n",
       "      <td>0</td>\n",
       "      <td>0</td>\n",
       "      <td>0</td>\n",
       "      <td>0</td>\n",
       "    </tr>\n",
       "  </tbody>\n",
       "</table>\n",
       "<p>644 rows × 10 columns</p>\n",
       "</div>"
      ],
      "text/plain": [
       "      Tree 0  Tree 1  Tree 2  Tree 3  Tree 4  Tree 5  Tree 6  Tree 7  Tree 8  \\\n",
       "1064       1       1       1       1       1       1       1       1       1   \n",
       "1545       1       1       1       1       1       1       1       1       1   \n",
       "1724       0       0       0       0       0       0       0       0       0   \n",
       "1053       0       0       0       0       0       0       0       0       0   \n",
       "1821       0       0       0       0       0       0       0       0       0   \n",
       "...      ...     ...     ...     ...     ...     ...     ...     ...     ...   \n",
       "255        1       1       1       1       1       1       1       1       1   \n",
       "536        0       0       0       0       0       0       0       0       0   \n",
       "1589       0       0       0       0       0       0       0       0       0   \n",
       "9          0       0       0       0       0       0       0       0       0   \n",
       "1131       0       0       0       0       0       0       0       0       0   \n",
       "\n",
       "      Tree 9  \n",
       "1064       1  \n",
       "1545       1  \n",
       "1724       0  \n",
       "1053       0  \n",
       "1821       0  \n",
       "...      ...  \n",
       "255        1  \n",
       "536        0  \n",
       "1589       0  \n",
       "9          0  \n",
       "1131       0  \n",
       "\n",
       "[644 rows x 10 columns]"
      ]
     },
     "execution_count": 54,
     "metadata": {},
     "output_type": "execute_result"
    }
   ],
   "source": [
    "for i in range(10):\n",
    "    \n",
    "    # Instantiate decision trees.\n",
    "    lr = LogisticRegression(random_state=42)\n",
    "    \n",
    "    # Fit to our training data.\n",
    "    lr.fit(X_train_cvec, y_train)\n",
    "    \n",
    "    # Put predictions in dataframe.\n",
    "    predictions[f'Tree {i}'] = lr.predict(X_test_cvec)\n",
    "\n",
    "predictions"
   ]
  },
  {
   "cell_type": "code",
   "execution_count": 55,
   "metadata": {},
   "outputs": [],
   "source": [
    "predictions['probs'] = predictions.mean(axis='columns')"
   ]
  },
  {
   "cell_type": "code",
   "execution_count": 56,
   "metadata": {},
   "outputs": [],
   "source": [
    "from sklearn.metrics import accuracy_score"
   ]
  },
  {
   "cell_type": "code",
   "execution_count": 57,
   "metadata": {},
   "outputs": [
    {
     "data": {
      "text/plain": [
       "0.8835403726708074"
      ]
     },
     "execution_count": 57,
     "metadata": {},
     "output_type": "execute_result"
    }
   ],
   "source": [
    "accuracy_score(y_test, (predictions['probs']> 0.5).astype(int))"
   ]
  },
  {
   "cell_type": "code",
   "execution_count": 58,
   "metadata": {},
   "outputs": [],
   "source": [
    "# Import Pandas.\n",
    "import pandas as pd\n",
    "\n",
    "# Create DataFrame with column for predicted values.\n",
    "results = pd.DataFrame(lr.predict(X_test_cvec), columns=['predicted'])\n",
    "\n",
    "# Create column for observed values.\n",
    "results['actual'] = y"
   ]
  },
  {
   "cell_type": "code",
   "execution_count": 59,
   "metadata": {
    "scrolled": true
   },
   "outputs": [
    {
     "data": {
      "text/html": [
       "<div>\n",
       "<style scoped>\n",
       "    .dataframe tbody tr th:only-of-type {\n",
       "        vertical-align: middle;\n",
       "    }\n",
       "\n",
       "    .dataframe tbody tr th {\n",
       "        vertical-align: top;\n",
       "    }\n",
       "\n",
       "    .dataframe thead th {\n",
       "        text-align: right;\n",
       "    }\n",
       "</style>\n",
       "<table border=\"1\" class=\"dataframe\">\n",
       "  <thead>\n",
       "    <tr style=\"text-align: right;\">\n",
       "      <th></th>\n",
       "      <th>predicted</th>\n",
       "      <th>actual</th>\n",
       "    </tr>\n",
       "  </thead>\n",
       "  <tbody>\n",
       "    <tr>\n",
       "      <td>0</td>\n",
       "      <td>1</td>\n",
       "      <td>0</td>\n",
       "    </tr>\n",
       "    <tr>\n",
       "      <td>1</td>\n",
       "      <td>1</td>\n",
       "      <td>0</td>\n",
       "    </tr>\n",
       "    <tr>\n",
       "      <td>2</td>\n",
       "      <td>0</td>\n",
       "      <td>1</td>\n",
       "    </tr>\n",
       "    <tr>\n",
       "      <td>3</td>\n",
       "      <td>0</td>\n",
       "      <td>1</td>\n",
       "    </tr>\n",
       "    <tr>\n",
       "      <td>4</td>\n",
       "      <td>0</td>\n",
       "      <td>0</td>\n",
       "    </tr>\n",
       "    <tr>\n",
       "      <td>...</td>\n",
       "      <td>...</td>\n",
       "      <td>...</td>\n",
       "    </tr>\n",
       "    <tr>\n",
       "      <td>639</td>\n",
       "      <td>1</td>\n",
       "      <td>0</td>\n",
       "    </tr>\n",
       "    <tr>\n",
       "      <td>640</td>\n",
       "      <td>0</td>\n",
       "      <td>1</td>\n",
       "    </tr>\n",
       "    <tr>\n",
       "      <td>641</td>\n",
       "      <td>0</td>\n",
       "      <td>0</td>\n",
       "    </tr>\n",
       "    <tr>\n",
       "      <td>642</td>\n",
       "      <td>0</td>\n",
       "      <td>1</td>\n",
       "    </tr>\n",
       "    <tr>\n",
       "      <td>643</td>\n",
       "      <td>0</td>\n",
       "      <td>1</td>\n",
       "    </tr>\n",
       "  </tbody>\n",
       "</table>\n",
       "<p>644 rows × 2 columns</p>\n",
       "</div>"
      ],
      "text/plain": [
       "     predicted  actual\n",
       "0            1       0\n",
       "1            1       0\n",
       "2            0       1\n",
       "3            0       1\n",
       "4            0       0\n",
       "..         ...     ...\n",
       "639          1       0\n",
       "640          0       1\n",
       "641          0       0\n",
       "642          0       1\n",
       "643          0       1\n",
       "\n",
       "[644 rows x 2 columns]"
      ]
     },
     "execution_count": 59,
     "metadata": {},
     "output_type": "execute_result"
    }
   ],
   "source": [
    "results"
   ]
  },
  {
   "cell_type": "code",
   "execution_count": 60,
   "metadata": {},
   "outputs": [
    {
     "data": {
      "text/plain": [
       "1064    1\n",
       "1545    1\n",
       "1724    1\n",
       "1053    1\n",
       "1821    0\n",
       "Name: subreddit type, dtype: int64"
      ]
     },
     "execution_count": 60,
     "metadata": {},
     "output_type": "execute_result"
    }
   ],
   "source": [
    "y_test.head()"
   ]
  },
  {
   "cell_type": "code",
   "execution_count": 61,
   "metadata": {},
   "outputs": [
    {
     "data": {
      "text/plain": [
       "(array([0.8559322 , 0.91724138]),\n",
       " array([0.9266055 , 0.83911672]),\n",
       " array([0.88986784, 0.87644152]),\n",
       " array([327, 317]))"
      ]
     },
     "execution_count": 61,
     "metadata": {},
     "output_type": "execute_result"
    }
   ],
   "source": [
    "from sklearn.metrics import precision_recall_fscore_support\n",
    "\n",
    "y_true = y_test\n",
    "y_pred = (predictions['probs']> 0.5)\n",
    "precision_recall_fscore_support(y_true, y_pred, average=None)"
   ]
  },
  {
   "cell_type": "code",
   "execution_count": 62,
   "metadata": {},
   "outputs": [
    {
     "name": "stdout",
     "output_type": "stream",
     "text": [
      "0.8819230769230769\n"
     ]
    },
    {
     "name": "stderr",
     "output_type": "stream",
     "text": [
      "//anaconda3/lib/python3.7/site-packages/sklearn/linear_model/logistic.py:432: FutureWarning: Default solver will be changed to 'lbfgs' in 0.22. Specify a solver to silence this warning.\n",
      "  FutureWarning)\n"
     ]
    }
   ],
   "source": [
    "from sklearn.model_selection import cross_val_score\n",
    "\n",
    "lr = LogisticRegression()\n",
    "print((cross_val_score(lr, X_test_cvec, y_test, cv=5)).mean())"
   ]
  },
  {
   "cell_type": "markdown",
   "metadata": {},
   "source": [
    "# Conclusions:\n",
    "**The evaluation of the findings obtained in this jupyter notebook will be discussed in the .readme as well as in the presentation. The study presented here serves to collect the data which will later be evaluated in relation to the pertaining questions of the project.**"
   ]
  }
 ],
 "metadata": {
  "kernelspec": {
   "display_name": "Python 3",
   "language": "python",
   "name": "python3"
  },
  "language_info": {
   "codemirror_mode": {
    "name": "ipython",
    "version": 3
   },
   "file_extension": ".py",
   "mimetype": "text/x-python",
   "name": "python",
   "nbconvert_exporter": "python",
   "pygments_lexer": "ipython3",
   "version": "3.7.3"
  }
 },
 "nbformat": 4,
 "nbformat_minor": 2
}
